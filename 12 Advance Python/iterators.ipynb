{
 "cells": [
  {
   "cell_type": "code",
   "execution_count": 147,
   "id": "327eadaf",
   "metadata": {},
   "outputs": [
    {
     "name": "stdout",
     "output_type": "stream",
     "text": [
      "10\n",
      "9\n",
      "8\n",
      "7\n",
      "6\n",
      "5\n",
      "4\n",
      "3\n",
      "2\n",
      "1\n",
      "0\n"
     ]
    }
   ],
   "source": [
    "class Countdown:\n",
    "    def __init__(self,timer):\n",
    "        self.timer=timer+1\n",
    "\n",
    "    def __iter__(self):\n",
    "        return self\n",
    "\n",
    "    def __next__(self):\n",
    "        if self.timer==0:\n",
    "            raise StopIteration\n",
    "        else:\n",
    "            self.timer-=1\n",
    "            return self.timer\n",
    "\n",
    "c=Countdown(10)\n",
    "for i in c:\n",
    "    print(i)"
   ]
  },
  {
   "cell_type": "code",
   "execution_count": 148,
   "id": "3bac167e",
   "metadata": {},
   "outputs": [
    {
     "name": "stdout",
     "output_type": "stream",
     "text": [
      "0\n",
      "1\n",
      "2\n",
      "3\n",
      "4\n"
     ]
    }
   ],
   "source": [
    "class MyRange:\n",
    "    def __init__(self,end):\n",
    "        self.start=-1\n",
    "        self.end=end\n",
    "    def __iter__(self):\n",
    "        return self\n",
    "    def __next__(self):\n",
    "        if self.start+1<self.end:\n",
    "            self.start+=1\n",
    "            return self.start\n",
    "        else:\n",
    "            raise StopIteration\n",
    "ragne=MyRange(5)\n",
    "for i in ragne:\n",
    "    print (i)\n"
   ]
  },
  {
   "cell_type": "code",
   "execution_count": 149,
   "id": "ed35feba",
   "metadata": {},
   "outputs": [
    {
     "name": "stdout",
     "output_type": "stream",
     "text": [
      "0\n",
      "1\n",
      "1\n",
      "2\n",
      "3\n",
      "5\n",
      "8\n",
      "13\n",
      "21\n",
      "34\n"
     ]
    }
   ],
   "source": [
    "def fibbonaci(n):\n",
    "    v1,v2=0,1\n",
    "    for i in range(n):\n",
    "        yield v1\n",
    "        v1,v2=v2,v1+v2\n",
    "\n",
    "f=fibbonaci(10)\n",
    "for i in f:\n",
    "    print(i)"
   ]
  },
  {
   "cell_type": "code",
   "execution_count": 150,
   "id": "9460753a",
   "metadata": {},
   "outputs": [
    {
     "name": "stdout",
     "output_type": "stream",
     "text": [
      "1\n",
      "4\n",
      "9\n",
      "16\n",
      "25\n",
      "36\n",
      "49\n",
      "64\n",
      "81\n",
      "100\n"
     ]
    }
   ],
   "source": [
    "def gen():\n",
    "    for i in range(1,11):\n",
    "        yield i*i\n",
    "\n",
    "for i in gen():\n",
    "    print(i)"
   ]
  },
  {
   "cell_type": "code",
   "execution_count": 151,
   "id": "d32a9e48",
   "metadata": {},
   "outputs": [
    {
     "name": "stdout",
     "output_type": "stream",
     "text": [
      "4\n",
      "16\n",
      "36\n",
      "64\n",
      "100\n",
      "144\n",
      "196\n",
      "256\n",
      "324\n",
      "400\n"
     ]
    }
   ],
   "source": [
    "def even_numbers(n):\n",
    "    for i in range(2,n+1,2):\n",
    "        yield i\n",
    "\n",
    "def squares(gen_numbers):\n",
    "    for i in gen_numbers:\n",
    "        yield i*i\n",
    "\n",
    "esq=squares(even_numbers(20))\n",
    "\n",
    "for i in esq:\n",
    "    print(i)\n"
   ]
  },
  {
   "cell_type": "code",
   "execution_count": 152,
   "id": "d9e31999",
   "metadata": {},
   "outputs": [
    {
     "name": "stdout",
     "output_type": "stream",
     "text": [
      "Execution time: 0.0020122528076171875 seconds\n",
      "93326215443944152681699238856266700490715968264381621468592963895217599993229915608941463976156518286253697920827223758251185210916864000000000000000000000000\n"
     ]
    }
   ],
   "source": [
    "import time\n",
    "\n",
    "def time_it(func):\n",
    "    def wrapper(*args, **kwargs):\n",
    "        if not hasattr(wrapper, \"running\"):\n",
    "            wrapper.running=True\n",
    "            start_time = time.time()\n",
    "            result = func(*args, **kwargs)\n",
    "            end_time = time.time()\n",
    "            print(f\"Execution time: {end_time - start_time} seconds\")\n",
    "            wrapper.running=False\n",
    "            return result\n",
    "        else :\n",
    "            return func(*args, **kwargs) \n",
    "    return wrapper\n",
    "\n",
    "@time_it\n",
    "def factorial(n):\n",
    "    if n == 0:\n",
    "        return 1\n",
    "    else:\n",
    "        return n * factorial(n - 1)\n",
    "\n",
    "print(factorial(100))"
   ]
  },
  {
   "cell_type": "code",
   "execution_count": 153,
   "id": "baac43d4",
   "metadata": {},
   "outputs": [
    {
     "name": "stdout",
     "output_type": "stream",
     "text": [
      "Hi are u doing\n",
      "Hi are u doing\n",
      "Hi are u doing\n",
      "Hi are u doing\n",
      "Hi are u doing\n"
     ]
    }
   ],
   "source": [
    "def repeat(n):\n",
    "    def decorator(func):\n",
    "        def wrapper(*args,**kwargs):\n",
    "            for i in range(n):\n",
    "                func(*args,**kwargs)\n",
    "        return wrapper\n",
    "    return decorator\n",
    "@repeat(5)\n",
    "def print_msg(msg):\n",
    "    print(msg)\n",
    "\n",
    "print_msg(\"Hi are u doing\")\n"
   ]
  },
  {
   "cell_type": "code",
   "execution_count": 154,
   "id": "e1a6aa73",
   "metadata": {},
   "outputs": [
    {
     "name": "stdout",
     "output_type": "stream",
     "text": [
      "WELCOME EVERYBODY!\n"
     ]
    }
   ],
   "source": [
    "def uppercase(func):\n",
    "    def wrapper(*args, **kwargs):\n",
    "        original = func(*args, **kwargs)\n",
    "        return original.upper()\n",
    "    return wrapper\n",
    "\n",
    "def exclaim(func):\n",
    "    def wrapper(*args, **kwargs):\n",
    "        original = func(*args, **kwargs)\n",
    "        return original + \"!\"\n",
    "    return wrapper\n",
    "\n",
    "@uppercase\n",
    "@exclaim\n",
    "def greeting(msg):\n",
    "    return msg\n",
    "\n",
    "print(greeting(\"Welcome everybody\"))\n"
   ]
  },
  {
   "cell_type": "code",
   "execution_count": 155,
   "id": "bfb83ae5",
   "metadata": {},
   "outputs": [
    {
     "name": "stdout",
     "output_type": "stream",
     "text": [
      "Establishing connection\n",
      "You tried to make more than 1 connection\n",
      "You tried to make more than 1 connection\n",
      "True\n",
      "True\n"
     ]
    }
   ],
   "source": [
    "def singleton(clsObj):\n",
    "    instances={}\n",
    "    def wrapper(*args,**kwargs):\n",
    "        if clsObj not in instances:\n",
    "            instances[clsObj]=clsObj(*args,**kwargs)\n",
    "        else:\n",
    "            print(\"You tried to make more than 1 connection\")\n",
    "        return instances[clsObj]\n",
    "    return wrapper\n",
    "\n",
    "@singleton\n",
    "class DatabaseConnection:\n",
    "    def __init__(self):\n",
    "        print(\"Establishing connection\")\n",
    "\n",
    "d1=DatabaseConnection()\n",
    "d2=DatabaseConnection()\n",
    "d3=DatabaseConnection()\n",
    "print(d1 is d2)\n",
    "print(d1 is d3)\n"
   ]
  },
  {
   "cell_type": "code",
   "execution_count": 156,
   "id": "01fc5964",
   "metadata": {},
   "outputs": [
    {
     "name": "stdout",
     "output_type": "stream",
     "text": [
      "E\n",
      "S\n",
      "A\n",
      "C\n"
     ]
    }
   ],
   "source": [
    "def uppercase(cls):\n",
    "    class Wrapper(cls):\n",
    "        def __init__(self, *args, **kwargs):\n",
    "            super().__init__(*args, **kwargs)\n",
    "            self.string = self.string.upper()\n",
    "    return Wrapper\n",
    "\n",
    "@uppercase\n",
    "class ReverseString:\n",
    "    def __init__(self,string):\n",
    "        self.string=string[::-1]\n",
    "        self.it=0\n",
    "    \n",
    "    def __iter__(self):\n",
    "        self.it = 0\n",
    "        return self\n",
    "    def __next__(self):\n",
    "        if self.it==len(self.string):\n",
    "            raise StopIteration\n",
    "        else:\n",
    "            result=self.string[self.it]\n",
    "            self.it+=1\n",
    "            return result\n",
    "\n",
    "rev=ReverseString(\"case\")\n",
    "for i in iter(rev):\n",
    "    print(i)\n",
    "\n",
    "\n"
   ]
  },
  {
   "cell_type": "code",
   "execution_count": 157,
   "id": "2e55e58b",
   "metadata": {},
   "outputs": [
    {
     "name": "stdout",
     "output_type": "stream",
     "text": [
      "101\n",
      "102\n",
      "103\n",
      "104\n",
      "105\n",
      "106\n",
      "107\n",
      "108\n",
      "109\n",
      "110\n"
     ]
    }
   ],
   "source": [
    "def counter(start):\n",
    "    while True:\n",
    "        start+=1\n",
    "        yield start\n",
    "\n",
    "hundred=counter(100)\n",
    "for i in range(10):\n",
    "    print(next(hundred))\n"
   ]
  },
  {
   "cell_type": "code",
   "execution_count": 158,
   "id": "ed0ac076",
   "metadata": {},
   "outputs": [
    {
     "name": "stdout",
     "output_type": "stream",
     "text": [
      "0.1\n",
      "0.2\n",
      "0.3\n",
      "0.4\n",
      "0.5\n",
      "0.6\n",
      "0.7\n",
      "0.8\n",
      "0.9\n"
     ]
    }
   ],
   "source": [
    "def safe_div(lst,divisor):\n",
    "    for num in lst:\n",
    "        try:\n",
    "            yield num/divisor\n",
    "        except ZeroDivisionError:\n",
    "            print(\"Your divisor cannot be zero\")\n",
    "true_div=safe_div([1,2,3,4,5,6,7,8,9],10)\n",
    "for i in true_div:\n",
    "    print(i)\n"
   ]
  },
  {
   "cell_type": "code",
   "execution_count": 159,
   "id": "c477fced",
   "metadata": {},
   "outputs": [],
   "source": [
    "def open_file(filename, mode='w'):\n",
    "    def decorator(func):\n",
    "        def wrapper(*args, **kwargs):\n",
    "            with open(filename, mode) as file:\n",
    "                return func(file, *args, **kwargs)\n",
    "        return wrapper\n",
    "    return decorator\n",
    "\n",
    "filename='output.txt'\n",
    "@open_file(filename,'w')\n",
    "def write(file,string):\n",
    "    file.write(string)\n",
    "\n",
    "f=write(\"This contains text\")\n"
   ]
  },
  {
   "cell_type": "code",
   "execution_count": 160,
   "id": "3e8ac672",
   "metadata": {},
   "outputs": [
    {
     "name": "stdout",
     "output_type": "stream",
     "text": [
      "100\n",
      "101\n",
      "102\n",
      "103\n",
      "104\n",
      "105\n",
      "106\n",
      "107\n",
      "108\n",
      "109\n"
     ]
    }
   ],
   "source": [
    "class InfiniteCounter:\n",
    "    def __init__(self,start):\n",
    "        self.start=start\n",
    "\n",
    "    def __iter__(self):\n",
    "        return self\n",
    "    def __next__(self):\n",
    "        current=self.start\n",
    "        self.start+=1\n",
    "        return current\n",
    "inf=InfiniteCounter(100)\n",
    "for _ in range(10):\n",
    "    print(next(inf))"
   ]
  },
  {
   "cell_type": "code",
   "execution_count": 161,
   "id": "225fa8b6",
   "metadata": {},
   "outputs": [
    {
     "name": "stdout",
     "output_type": "stream",
     "text": [
      "-2\n",
      "-4\n",
      "-6\n",
      "-8\n",
      "-10\n",
      "-12\n",
      "-14\n",
      "-16\n",
      "-18\n",
      "-20\n"
     ]
    }
   ],
   "source": [
    "def integers():\n",
    "    for i in range(1, 11):\n",
    "        yield i\n",
    "\n",
    "def doubles(gen):\n",
    "    for value in gen:\n",
    "        yield value*2\n",
    "\n",
    "def negatives(gen):\n",
    "    for value in gen:\n",
    "        yield -1 * value\n",
    "\n",
    "pipeline = negatives(doubles(integers()))\n",
    "\n",
    "for val in pipeline:\n",
    "    print(val)\n"
   ]
  }
 ],
 "metadata": {
  "kernelspec": {
   "display_name": "Python 3",
   "language": "python",
   "name": "python3"
  },
  "language_info": {
   "codemirror_mode": {
    "name": "ipython",
    "version": 3
   },
   "file_extension": ".py",
   "mimetype": "text/x-python",
   "name": "python",
   "nbconvert_exporter": "python",
   "pygments_lexer": "ipython3",
   "version": "3.10.0"
  }
 },
 "nbformat": 4,
 "nbformat_minor": 5
}
