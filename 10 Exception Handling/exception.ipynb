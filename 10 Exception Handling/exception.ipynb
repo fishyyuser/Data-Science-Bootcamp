{
 "cells": [
  {
   "cell_type": "code",
   "execution_count": 3,
   "id": "cd887363",
   "metadata": {},
   "outputs": [
    {
     "name": "stdout",
     "output_type": "stream",
     "text": [
      "invalid literal for int() with base 10: 'a'\n",
      "Exectuion completed\n"
     ]
    }
   ],
   "source": [
    "try:\n",
    "    a=int(input(\"Enter the number\"))\n",
    "    b=int(input(\"Enter the number\"))\n",
    "    result=a/b\n",
    "except ZeroDivisionError:\n",
    "    print(\"Second number cannnot be Zero\")\n",
    "\n",
    "except Exception as e:\n",
    "    print(e)\n",
    "else:\n",
    "    print(f\"result of the divsion : {result}\")\n",
    "finally:\n",
    "    print(\"Exectuion completed\")"
   ]
  },
  {
   "cell_type": "code",
   "execution_count": 9,
   "id": "ee115bcc",
   "metadata": {},
   "outputs": [
    {
     "name": "stdout",
     "output_type": "stream",
     "text": [
      "This file is not found in the given path\n"
     ]
    },
    {
     "ename": "NameError",
     "evalue": "name 'file' is not defined",
     "output_type": "error",
     "traceback": [
      "\u001b[1;31m---------------------------------------------------------------------------\u001b[0m",
      "\u001b[1;31mNameError\u001b[0m                                 Traceback (most recent call last)",
      "Cell \u001b[1;32mIn[9], line 12\u001b[0m\n\u001b[0;32m     10\u001b[0m         \u001b[38;5;28mprint\u001b[39m(line)\n\u001b[0;32m     11\u001b[0m \u001b[38;5;28;01mfinally\u001b[39;00m:\n\u001b[1;32m---> 12\u001b[0m     \u001b[38;5;28;01mif\u001b[39;00m \u001b[38;5;124m'\u001b[39m\u001b[38;5;124mfile\u001b[39m\u001b[38;5;124m'\u001b[39m \u001b[38;5;129;01min\u001b[39;00m \u001b[38;5;28mlocals\u001b[39m() \u001b[38;5;129;01mor\u001b[39;00m \u001b[38;5;129;01mnot\u001b[39;00m \u001b[43mfile\u001b[49m\u001b[38;5;241m.\u001b[39mclosed():\n\u001b[0;32m     13\u001b[0m         file\u001b[38;5;241m.\u001b[39mclose()\n",
      "\u001b[1;31mNameError\u001b[0m: name 'file' is not defined"
     ]
    }
   ],
   "source": [
    "try:\n",
    "    file=open('data.txt','r')\n",
    "    \n",
    "except FileNotFoundError:\n",
    "    print(\"This file is not found in the given path\")\n",
    "except Exception as e:\n",
    "    print(e)\n",
    "else:\n",
    "    for line in file:\n",
    "        print(line)\n",
    "finally:\n",
    "    if 'file' in locals() or not file.closed():\n",
    "        file.close()"
   ]
  },
  {
   "cell_type": "code",
   "execution_count": 4,
   "id": "b261eb8e",
   "metadata": {},
   "outputs": [
    {
     "name": "stdout",
     "output_type": "stream",
     "text": [
      "[1, 2, 3, 4, 5, 6, 7]\n",
      "28\n",
      "Program Execution Ended\n"
     ]
    }
   ],
   "source": [
    "try:\n",
    "    user_input=input(\"Enter a list of numbers seprated by space\")\n",
    "    lst=[int(x) for x in user_input.split()]\n",
    "except TypeError:\n",
    "    print(\"Given variable is not List\")\n",
    "except ValueError:\n",
    "    print(\"Given list does not contain all integers\")\n",
    "except Exception as e:\n",
    "    print(\"Exception has been raised \",e)\n",
    "else:\n",
    "    print(lst)\n",
    "    print(sum(lst))\n",
    "finally:\n",
    "    print(\"Program Execution Ended\")\n"
   ]
  },
  {
   "cell_type": "code",
   "execution_count": 6,
   "id": "fd2ae713",
   "metadata": {},
   "outputs": [
    {
     "name": "stdout",
     "output_type": "stream",
     "text": [
      "You did not enter a number\n",
      "Program execution ended\n"
     ]
    }
   ],
   "source": [
    "try:\n",
    "    integer=int(input(\"Enter a number\"))\n",
    "except ValueError:\n",
    "    print(\"You did not enter a number\")\n",
    "except Exception as e:\n",
    "    print(\"Exception has been raised \",e)\n",
    "else:\n",
    "    print(f\"You choose number {integer}\")\n",
    "finally:\n",
    "    print(\"Program execution ended\")"
   ]
  },
  {
   "cell_type": "code",
   "execution_count": 12,
   "id": "50d7dcf0",
   "metadata": {},
   "outputs": [
    {
     "name": "stdout",
     "output_type": "stream",
     "text": [
      "Program Execution Ended\n"
     ]
    },
    {
     "data": {
      "text/plain": [
       "2"
      ]
     },
     "execution_count": 12,
     "metadata": {},
     "output_type": "execute_result"
    }
   ],
   "source": [
    "def return_value(dict,key):\n",
    "    try:\n",
    "        return dict[key]\n",
    "    except KeyError:\n",
    "        print(f\"dict does not contain the key {key}\")\n",
    "    except TypeError:\n",
    "        print(\"First variable is not of type Dictonary\")\n",
    "    except Exception as e:\n",
    "        print(\"Exception has been raised \",e)\n",
    "    finally:\n",
    "        print(\"Program Execution Ended\")\n",
    "\n",
    "return_value({1:2},1)"
   ]
  },
  {
   "cell_type": "code",
   "execution_count": 16,
   "id": "d004d1d0",
   "metadata": {},
   "outputs": [
    {
     "name": "stdout",
     "output_type": "stream",
     "text": [
      "You tried to divide by zero\n",
      "Program execution ended\n"
     ]
    }
   ],
   "source": [
    "def return_div(st):\n",
    "    try:\n",
    "        integer=int(st)\n",
    "    except ValueError:\n",
    "        print(\"The variable st does not contain an Integer\")\n",
    "    except Exception as e:\n",
    "        print(\"Exception has been raised \",e)\n",
    "    else:\n",
    "        try:\n",
    "            print(\"100 divided by your number is\",100/integer)\n",
    "        except ZeroDivisionError:\n",
    "            print(\"You tried to divide by zero\")\n",
    "        except Exception as e:\n",
    "            print(\"An Exception has been raised \",e)\n",
    "    finally:\n",
    "        print(\"Program execution ended\")\n",
    "\n",
    "return_div(input())"
   ]
  },
  {
   "cell_type": "code",
   "execution_count": 18,
   "id": "7287c95d",
   "metadata": {},
   "outputs": [
    {
     "name": "stdout",
     "output_type": "stream",
     "text": [
      "List does not contain the index,1\n",
      "Program Execution Ended\n"
     ]
    }
   ],
   "source": [
    "def return_value(lst,index):\n",
    "    try:\n",
    "        return lst[index]\n",
    "    except IndexError:\n",
    "        print(f\"List does not contain the index,{index}\")\n",
    "    except TypeError:\n",
    "        print(\"First variable is not of type list\")\n",
    "    except Exception as e:\n",
    "        print(\"Exception has been raised \",e)\n",
    "    finally:\n",
    "        print(\"Program Execution Ended\")\n",
    "\n",
    "return_value([1],1)"
   ]
  },
  {
   "cell_type": "code",
   "execution_count": 23,
   "id": "c1eaa2df",
   "metadata": {},
   "outputs": [
    {
     "name": "stdout",
     "output_type": "stream",
     "text": [
      "<!doctype html>\n",
      "<html>\n",
      "<head>\n",
      "    <title>Example Domain</title>\n",
      "\n",
      "    <meta charset=\"utf-8\" />\n",
      "    <meta http-equiv=\"Content-type\" content=\"text/html; charset=utf-8\" />\n",
      "    <meta name=\"viewport\" content=\"width=device-width, initial-scale=1\" />\n",
      "    <style type=\"text/css\">\n",
      "    body {\n",
      "        background-color: #f0f0f2;\n",
      "        margin: 0;\n",
      "        padding: 0;\n",
      "        font-family: -apple-system, system-ui, BlinkMacSystemFont, \"Segoe UI\", \"Open Sans\", \"Helvetica Neue\", Helvetica, Arial, sans-serif;\n",
      "        \n",
      "    }\n",
      "    div {\n",
      "        width: 600px;\n",
      "        margin: 5em auto;\n",
      "        padding: 2em;\n",
      "        background-color: #fdfdff;\n",
      "        border-radius: 0.5em;\n",
      "        box-shadow: 2px 3px 7px 2px rgba(0,0,0,0.02);\n",
      "    }\n",
      "    a:link, a:visited {\n",
      "        color: #38488f;\n",
      "        text-decoration: none;\n",
      "    }\n",
      "    @media (max-width: 700px) {\n",
      "        div {\n",
      "            margin: 0 auto;\n",
      "            width: auto;\n",
      "        }\n",
      "    }\n",
      "    </style>    \n",
      "</head>\n",
      "\n",
      "<body>\n",
      "<div>\n",
      "    <h1>Example Domain</h1>\n",
      "    <p>This domain is for use in illustrative examples in documents. You may use this\n",
      "    domain in literature without prior coordination or asking for permission.</p>\n",
      "    <p><a href=\"https://www.iana.org/domains/example\">More information...</a></p>\n",
      "</div>\n",
      "</body>\n",
      "</html>\n",
      "\n"
     ]
    }
   ],
   "source": [
    "import urllib.request\n",
    "\n",
    "url = \"https://www.example.com\"\n",
    "try:\n",
    "    response = urllib.request.urlopen(url)\n",
    "    content = response.read().decode(\"utf-8\")\n",
    "    print(content)\n",
    "except response.exceptions.Timeout:\n",
    "    print(\"Request timed out.\")\n",
    "except response.exceptions.ConnectionError:\n",
    "    print(\"Failed to connect.\")\n",
    "except response.exceptions.HTTPError as e:\n",
    "    print(f\"HTTP error: {e}\")\n",
    "except response.exceptions.SSLError:\n",
    "    print(\"SSL certificate issue.\")\n",
    "except Exception as e:\n",
    "    print(f\"Unexpected error: {e}\")"
   ]
  },
  {
   "cell_type": "code",
   "execution_count": 24,
   "id": "38aec09e",
   "metadata": {},
   "outputs": [
    {
     "name": "stdout",
     "output_type": "stream",
     "text": [
      "File is not found\n"
     ]
    }
   ],
   "source": [
    "import json\n",
    "\n",
    "try:\n",
    "    with open(\"myfile.json\",'r') as file:\n",
    "        data=json.loads(file)\n",
    "    print(data)\n",
    "except FileNotFoundError:\n",
    "    print(\"File is not found\")\n",
    "except json.JSONDecodeError as e:\n",
    "    print(\"Invalid JSON format:\", e)\n",
    "except TypeError as e:\n",
    "    print(\"Unsupported data type:\", e)\n",
    "except Exception as e:\n",
    "    print(\"Unexpected error:\", e)"
   ]
  },
  {
   "cell_type": "code",
   "execution_count": 32,
   "id": "cf480c38",
   "metadata": {},
   "outputs": [
    {
     "name": "stdout",
     "output_type": "stream",
     "text": [
      "1\n",
      "0\n",
      "An Error occured :  Negative Number is encountered in the List\n"
     ]
    }
   ],
   "source": [
    "class NegativeNumberError(Exception):\n",
    "    def __init__(self, message):\n",
    "        super().__init__(message)\n",
    "        self.message=message\n",
    "    def __str__(self):\n",
    "        return f\"{self.message}\"\n",
    "    \n",
    "def print_list(lst):\n",
    "    try:\n",
    "        for x in lst:\n",
    "            if x<0:\n",
    "                raise NegativeNumberError(\"Negative Number is encountered in the List\")\n",
    "            print(x)\n",
    "    except Exception as e:\n",
    "        print(\"An Error occured : \",e)\n",
    "\n",
    "print_list([x for x in range(1,-5,-1)])"
   ]
  },
  {
   "cell_type": "code",
   "execution_count": 36,
   "id": "72a38c8b",
   "metadata": {},
   "outputs": [
    {
     "name": "stdout",
     "output_type": "stream",
     "text": [
      "Execution Ended\n"
     ]
    },
    {
     "data": {
      "text/plain": [
       "10.0"
      ]
     },
     "execution_count": 36,
     "metadata": {},
     "output_type": "execute_result"
    }
   ],
   "source": [
    "def div(a,b):\n",
    "    return a/b\n",
    "def divide_100(a):\n",
    "    try:\n",
    "        return div(100,a)\n",
    "    except ZeroDivisionError:\n",
    "        print(\"You tried to divide by zero\")\n",
    "    except TypeError:\n",
    "        print(\"You did not enter a number\")\n",
    "    except Exception as e:\n",
    "        print(\"An error has been raised : \",e)\n",
    "    finally:\n",
    "        print(\"Execution Ended\")\n",
    "divide_100(10)"
   ]
  },
  {
   "cell_type": "code",
   "execution_count": null,
   "id": "c1a93e73",
   "metadata": {},
   "outputs": [
    {
     "name": "stdout",
     "output_type": "stream",
     "text": [
      "An Error occurred :  invalid literal for int() with base 10: 'a'\n"
     ]
    }
   ],
   "source": [
    "class Myclass:\n",
    "    def divide(self,a,b):\n",
    "        try:\n",
    "            a,b=int(a),int(b)\n",
    "            return  a/b\n",
    "        except TypeError:\n",
    "            print(\"You did not give number for divison\")\n",
    "        except ZeroDivisionError:\n",
    "            print(\"You tried to divide by zero\")\n",
    "        except Exception as e:\n",
    "            print(\"An Error occurred : \",e)\n",
    "        finally:\n",
    "            print(\"Execution Ended\")\n",
    "    \n",
    "c1=Myclass()\n",
    "a,b=input(\"Enter the number\").split()\n",
    "c1.divide(a,b)"
   ]
  },
  {
   "cell_type": "code",
   "execution_count": null,
   "id": "0953df98",
   "metadata": {},
   "outputs": [
    {
     "name": "stdout",
     "output_type": "stream",
     "text": [
      "Given list contain a string that cannot be resolved to a number\n",
      "Execution Ended\n"
     ]
    }
   ],
   "source": [
    "def convert(list_of_string):\n",
    "    try:\n",
    "        result=[int(x) for x in list_of_string]\n",
    "        return result\n",
    "    except ValueError:\n",
    "        print(\"Given list contains a string that cannot be resolved to a number\")\n",
    "    except Exception as e:\n",
    "        print(\"An Error occurred : \",e)\n",
    "    finally:\n",
    "        print(\"Execution Ended\")\n",
    "\n",
    "convert(['a',1,2,3])"
   ]
  },
  {
   "cell_type": "code",
   "execution_count": null,
   "id": "3598d620",
   "metadata": {},
   "outputs": [],
   "source": []
  },
  {
   "cell_type": "code",
   "execution_count": null,
   "id": "d6965e54",
   "metadata": {},
   "outputs": [],
   "source": []
  }
 ],
 "metadata": {
  "kernelspec": {
   "display_name": "Python 3",
   "language": "python",
   "name": "python3"
  },
  "language_info": {
   "codemirror_mode": {
    "name": "ipython",
    "version": 3
   },
   "file_extension": ".py",
   "mimetype": "text/x-python",
   "name": "python",
   "nbconvert_exporter": "python",
   "pygments_lexer": "ipython3",
   "version": "3.10.0"
  }
 },
 "nbformat": 4,
 "nbformat_minor": 5
}
