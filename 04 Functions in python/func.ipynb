{
 "cells": [
  {
   "cell_type": "code",
   "execution_count": null,
   "id": "916ab7b0",
   "metadata": {},
   "outputs": [],
   "source": [
    "def validate(email):\n",
    "    dict={}\n",
    "    for char in email:\n",
    "        dict[char]=dict.get(\"char\",0)+1\n",
    "    if ' ' in dict:\n",
    "        return False\n",
    "    if '_' in dict:\n",
    "        return False\n",
    "    if dict.get('@',0)!=1:\n",
    "        return False\n",
    "    if dict.get('.',0)==0:\n",
    "        return False\n",
    "    if email[0]=='.' or email[len(email)-1]=='.':\n",
    "        return False\n",
    "    \n",
    "    prev=email[0]\n",
    "\n",
    "    for curr in range(1,len(email)):\n",
    "        if email[curr]=='.' and prev=='.':\n",
    "            return False\n",
    "        prev=email[curr]\n",
    "\n",
    "    \n",
    "    \n",
    "    words=email.split(\".\")\n",
    "    for word in words:\n",
    "        if word in ('com','org','edu','net'):\n",
    "            return True\n",
    "    return False"
   ]
  },
  {
   "cell_type": "code",
   "execution_count": null,
   "id": "d6bbff3b",
   "metadata": {},
   "outputs": [],
   "source": [
    "print(validate('pradybisht@gamil.com'))\n",
    "print(validate('pradybisht@gamil..com'))\n",
    "print(validate('pradybisht_@gamil.com'))\n",
    "print(validate('pradybisht @gamil.com'))\n",
    "print(validate('.pradybisht@gamil.com.'))"
   ]
  },
  {
   "cell_type": "code",
   "execution_count": null,
   "id": "90ae105d",
   "metadata": {},
   "outputs": [],
   "source": [
    "print((lambda a,b: a+b)(2,3))\n",
    "print((lambda *args: max(args))(1,2,3,4,5,6,7,8,9))"
   ]
  },
  {
   "cell_type": "markdown",
   "id": "d2c000a7",
   "metadata": {},
   "source": [
    "### Assingment"
   ]
  },
  {
   "cell_type": "code",
   "execution_count": null,
   "id": "6031ceff",
   "metadata": {},
   "outputs": [],
   "source": [
    "memo={0:0,1:1}\n",
    "\n",
    "def kth_fibbo(k):\n",
    "    if k in memo:\n",
    "        return memo[k]\n",
    "    memo[k]= kth_fibbo(k-1)+kth_fibbo(k-2)\n",
    "    return memo[k]\n",
    "\n",
    "print(kth_fibbo(5))\n",
    "print(kth_fibbo(3))\n",
    "print(kth_fibbo(14))\n",
    "print(memo)"
   ]
  },
  {
   "cell_type": "code",
   "execution_count": null,
   "id": "b452e2e7",
   "metadata": {},
   "outputs": [],
   "source": [
    "def add_to_dict(a,b={}):\n",
    "    b[a]=a*a\n",
    "    return b\n",
    "\n",
    "dict={2:4,3:9}\n",
    "print(add_to_dict(4,dict))\n",
    "print(add_to_dict(1))"
   ]
  },
  {
   "cell_type": "code",
   "execution_count": null,
   "id": "14752781",
   "metadata": {},
   "outputs": [],
   "source": [
    "def var(**kwargs):\n",
    "    result={}\n",
    "    for key,val in kwargs.items():\n",
    "        if isinstance(key,int):\n",
    "            result[key]=val\n",
    "    return result\n",
    "dict={'a':1,'b':2,1:5,2:10,3:15}\n",
    "print(var(**dict))"
   ]
  },
  {
   "cell_type": "code",
   "execution_count": null,
   "id": "ca0904ac",
   "metadata": {},
   "outputs": [],
   "source": [
    "def phone_linging(callback,lst):\n",
    "    result=[]\n",
    "    for num in lst:\n",
    "        result.append(callback(num))\n",
    "    return result\n",
    "\n",
    "def vibe(num):\n",
    "    return num^10\n",
    "\n",
    "lst=[1,2,3,4,5,6,7,8]\n",
    "print(phone_linging(vibe,lst)) "
   ]
  },
  {
   "cell_type": "code",
   "execution_count": null,
   "id": "07688de9",
   "metadata": {},
   "outputs": [],
   "source": [
    "def foo(a):\n",
    "    return a*a\n",
    "def ret_foo():\n",
    "    return foo\n",
    "f=ret_foo()\n",
    "print(f(5))"
   ]
  },
  {
   "cell_type": "code",
   "execution_count": null,
   "id": "12f90072",
   "metadata": {},
   "outputs": [],
   "source": [
    "import time\n",
    "\n",
    "def outer(func):\n",
    "    def wrapper(*args,**kwargs):\n",
    "        start_time=time.perf_counter()\n",
    "        result=func(*args,**kwargs)\n",
    "        end_time=time.perf_counter()\n",
    "        execution_time=end_time-start_time\n",
    "        print(f\"Exection time : {execution_time:.3f}\")\n",
    "        return result\n",
    "    return wrapper\n",
    "\n",
    "@outer\n",
    "def complex_calc(a):\n",
    "    return sum(i**2 for i in range(a))\n",
    "print(complex_calc(4000000))"
   ]
  },
  {
   "cell_type": "code",
   "execution_count": null,
   "id": "127828fe",
   "metadata": {},
   "outputs": [],
   "source": [
    "lst=[x for x in range(1,50)]\n",
    "\n",
    "def add3(x):\n",
    "    return x+3\n",
    "\n",
    "def div(x):\n",
    "    return x%7==0\n",
    "\n",
    "result=map(add3 ,filter(div,lst))\n",
    "print(list(result))"
   ]
  },
  {
   "cell_type": "code",
   "execution_count": null,
   "id": "53e00e95",
   "metadata": {},
   "outputs": [],
   "source": [
    "def compose(f,g):\n",
    "    def inner(x):\n",
    "        return f(g(x))\n",
    "    return inner\n",
    "\n",
    "def square(a):\n",
    "    return a*a\n",
    "\n",
    "def sq_root(a):\n",
    "    return a**.5\n",
    "f1=compose(square,sq_root)\n",
    "f2=compose(sq_root,square)\n",
    "print(f1(5))\n",
    "print(f2(25))\n",
    "print(f1(25))"
   ]
  },
  {
   "cell_type": "code",
   "execution_count": null,
   "id": "272a869d",
   "metadata": {},
   "outputs": [],
   "source": [
    "from functools import partial\n",
    "\n",
    "def absolute(*args):\n",
    "    return sum(abs(i) for i in args)\n",
    "\n",
    "mod_func=partial(absolute,100)\n",
    "\n",
    "print(mod_func(1,-2,-13,4))\n"
   ]
  },
  {
   "cell_type": "code",
   "execution_count": null,
   "id": "5e7be46b",
   "metadata": {},
   "outputs": [],
   "source": [
    "def average(lst):\n",
    "    if len(lst)==0:\n",
    "        return None\n",
    "    return sum(i for i in lst)/len(lst)\n",
    "\n",
    "import random\n",
    "length=random.randint(0,2)\n",
    "\n",
    "lst=[random.randint(10,30) for i in range(length)]\n",
    "print (lst)\n",
    "print(f\"Average of the list : {average(lst)}\")"
   ]
  },
  {
   "cell_type": "code",
   "execution_count": null,
   "id": "c4e47664",
   "metadata": {},
   "outputs": [],
   "source": [
    "def fibbo(k):\n",
    "   f1,f2=0,1\n",
    "   ctr=2\n",
    "   print(\"1 of fibbinaci sequence\",f2)\n",
    "   while ctr<=k:\n",
    "      print(f\"{ctr} of fibbonaci sequence {f2+f1}\")\n",
    "      f2=f2+f1\n",
    "      f1=f2-f1\n",
    "      ctr+=1\n",
    "\n",
    "print(fibbo(10))"
   ]
  },
  {
   "cell_type": "code",
   "execution_count": null,
   "id": "a3dee798",
   "metadata": {},
   "outputs": [],
   "source": [
    "\n",
    "def curried_multiply(a):\n",
    "    def inner_curry(b):\n",
    "        def inner_inner_curry(c):\n",
    "            return a*b*c\n",
    "        return inner_inner_curry\n",
    "    return inner_curry\n",
    "mul_5=curried_multiply(5)\n",
    "mul_1=mul_5(1)\n",
    "mul_10=mul_1(10)\n",
    "print(mul_10)\n"
   ]
  },
  {
   "cell_type": "code",
   "execution_count": null,
   "id": "36f8966a",
   "metadata": {},
   "outputs": [],
   "source": [
    "with open(\"f.txt\",'a')as file:\n",
    "    file.write(\"\\n\")\n",
    "    file.write(str(list(range(0,100,15))))\n"
   ]
  },
  {
   "cell_type": "code",
   "execution_count": null,
   "id": "00928c7f",
   "metadata": {},
   "outputs": [],
   "source": [
    "def give_lists(lst):\n",
    "    i,f,s=[],[],[]\n",
    "    for x in lst:\n",
    "        if isinstance(x,int):\n",
    "            i.append(x)\n",
    "        elif isinstance(x,float):\n",
    "            f.append(x)\n",
    "        elif isinstance(x,str):\n",
    "            s.append(x)\n",
    "    \n",
    "    return i,f,s\n",
    "\n",
    "lst=[1,2,3,4,5,\"abc\",\"def\",\"hij\",1.2,1.3,1.4,1.5]\n",
    "\n",
    "print(give_lists(lst))"
   ]
  },
  {
   "cell_type": "code",
   "execution_count": 101,
   "id": "cfb0ec71",
   "metadata": {},
   "outputs": [
    {
     "name": "stdout",
     "output_type": "stream",
     "text": [
      "This function has been called 1 times\n",
      "This function has been called 2 times\n",
      "This function has been called 3 times\n",
      "This function has been called 4 times\n"
     ]
    },
    {
     "data": {
      "text/plain": [
       "4"
      ]
     },
     "execution_count": 101,
     "metadata": {},
     "output_type": "execute_result"
    }
   ],
   "source": [
    "def call_counter(count=[0]):\n",
    "    count[0] += 1\n",
    "    print(f\"This function has been called {count[0]} times\")\n",
    "    return count[0]\n",
    "\n",
    "call_counter()\n",
    "call_counter()\n",
    "call_counter()\n",
    "call_counter()\n"
   ]
  }
 ],
 "metadata": {
  "kernelspec": {
   "display_name": "Python 3",
   "language": "python",
   "name": "python3"
  },
  "language_info": {
   "codemirror_mode": {
    "name": "ipython",
    "version": 3
   },
   "file_extension": ".py",
   "mimetype": "text/x-python",
   "name": "python",
   "nbconvert_exporter": "python",
   "pygments_lexer": "ipython3",
   "version": "3.10.0"
  }
 },
 "nbformat": 4,
 "nbformat_minor": 5
}
