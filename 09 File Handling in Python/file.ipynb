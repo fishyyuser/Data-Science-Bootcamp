{
 "cells": [
  {
   "cell_type": "code",
   "execution_count": 1,
   "id": "3123ca84",
   "metadata": {},
   "outputs": [
    {
     "name": "stdout",
     "output_type": "stream",
     "text": [
      "This is a sample file\n"
     ]
    }
   ],
   "source": [
    "with open('sample.txt','r') as file:\n",
    "    print(file.read())"
   ]
  },
  {
   "cell_type": "code",
   "execution_count": 3,
   "id": "8c68b916",
   "metadata": {},
   "outputs": [],
   "source": [
    "from random import randint\n",
    "lst=[randint(1,100) for _ in range(15)]\n",
    "with open('output.txt','w')as file:\n",
    "    file.write(str(lst))"
   ]
  },
  {
   "cell_type": "code",
   "execution_count": 5,
   "id": "2dac89a5",
   "metadata": {},
   "outputs": [],
   "source": [
    "with open('source.txt','r') as file:\n",
    "    content=file.read()\n",
    "\n",
    "with open('destination.txt','w')as file:\n",
    "    file.write(content)"
   ]
  },
  {
   "cell_type": "code",
   "execution_count": 16,
   "id": "b73b291e",
   "metadata": {},
   "outputs": [],
   "source": [
    "with open('log.txt','a') as file:\n",
    "    file.write(\"\\nThis is a random string\")"
   ]
  },
  {
   "cell_type": "code",
   "execution_count": 25,
   "id": "55c34d73",
   "metadata": {},
   "outputs": [
    {
     "name": "stdout",
     "output_type": "stream",
     "text": [
      "The number words in the documents.txt : 40\n"
     ]
    }
   ],
   "source": [
    "count=0\n",
    "import re\n",
    "pattern=r'[ \\n]'\n",
    "with open('document.txt','r') as file:\n",
    "    content=file.read()\n",
    "    count+=len(re.split(pattern,content))\n",
    "print(f\"The number words in the documents.txt : {count}\")\n"
   ]
  },
  {
   "cell_type": "code",
   "execution_count": 31,
   "id": "d70fa78d",
   "metadata": {},
   "outputs": [],
   "source": [
    "import re\n",
    "with open('d1.txt','r+') as file:\n",
    "    content=file.read()\n",
    "    new_content = re.sub(r'string', 'text', content, flags=re.IGNORECASE)\n",
    "    file.seek(0)\n",
    "    file.write(new_content)\n",
    "    file.truncate()\n"
   ]
  },
  {
   "cell_type": "code",
   "execution_count": 33,
   "id": "c4f19487",
   "metadata": {},
   "outputs": [
    {
     "name": "stdout",
     "output_type": "stream",
     "text": [
      "?was I tac a ro rac a ti saW\n"
     ]
    }
   ],
   "source": [
    "with open('reverse.txt','r+') as file:\n",
    "    for line in file:\n",
    "        print(line[::-1].strip())"
   ]
  },
  {
   "cell_type": "code",
   "execution_count": 36,
   "id": "89deaee9",
   "metadata": {},
   "outputs": [
    {
     "name": "stdout",
     "output_type": "stream",
     "text": [
      "stats.txt contains 140 chararacters, 24  words and 4 lines\n"
     ]
    }
   ],
   "source": [
    "character,words,line=0,0,0\n",
    "with open('stats.txt','r') as file:\n",
    "    for l in file:\n",
    "        character+=len(l.strip())\n",
    "        words+=len(l.strip().split(' '))\n",
    "        line+=1\n",
    "print(f\"stats.txt contains {character} chararacters, {words}  words and {line} lines\")"
   ]
  },
  {
   "cell_type": "code",
   "execution_count": 37,
   "id": "3f537455",
   "metadata": {},
   "outputs": [],
   "source": [
    "content=''\n",
    "with open('reverse.txt','r') as file:\n",
    "    content+=file.read()\n",
    "with open('document.txt','r') as file:\n",
    "    content+=file.read()\n",
    "with open('d1.txt','r') as file:\n",
    "    content+=file.read()\n",
    "\n",
    "with open('merged.txt','w') as file:\n",
    "    file.write(content)\n",
    "\n"
   ]
  },
  {
   "cell_type": "code",
   "execution_count": 46,
   "id": "a103d9ae",
   "metadata": {},
   "outputs": [],
   "source": [
    "count_files,lines=0,0\n",
    "content=\"\"\n",
    "with open('large.txt','r') as file:\n",
    "    for l in file:\n",
    "        if lines%100==0 or l=='':\n",
    "            count_files+=1\n",
    "            with open(f\"small/small_file{count_files}.txt\",'w') as file:\n",
    "                file.write(content)\n",
    "            content=\"\"\n",
    "        content+=l\n",
    "        lines+=1"
   ]
  },
  {
   "cell_type": "code",
   "execution_count": 45,
   "id": "b6b67692",
   "metadata": {},
   "outputs": [],
   "source": [
    "from datetime import datetime\n",
    "\n",
    "with open('activitylog.txt','a') as file:\n",
    "    for i in range(5):\n",
    "        file.write(f\"\\nsome activity timestamp : {datetime.now().timestamp()}\")"
   ]
  },
  {
   "cell_type": "code",
   "execution_count": null,
   "id": "00fe35eb",
   "metadata": {},
   "outputs": [],
   "source": []
  },
  {
   "cell_type": "code",
   "execution_count": 49,
   "id": "81fe9d73",
   "metadata": {},
   "outputs": [
    {
     "name": "stdout",
     "output_type": "stream",
     "text": [
      "[{'Name': 'Alice', 'Age': '28', 'Department': 'Engineering', 'Salary': '70000'}, {'Name': 'Bob', 'Age': '35', 'Department': 'Marketing', 'Salary': '65000'}, {'Name': 'Charlie', 'Age': '30', 'Department': 'Sales', 'Salary': '60000'}, {'Name': 'Diana', 'Age': '25', 'Department': 'HR', 'Salary': '55000'}]\n"
     ]
    }
   ],
   "source": [
    "import csv\n",
    "mylist=[]\n",
    "with open('mycsv.csv','r') as file:\n",
    "    reader=csv.DictReader(file)\n",
    "    for row in reader:\n",
    "        mylist.append(row)\n",
    "\n",
    "print(mylist)"
   ]
  },
  {
   "cell_type": "code",
   "execution_count": 51,
   "id": "e126506f",
   "metadata": {},
   "outputs": [
    {
     "name": "stdout",
     "output_type": "stream",
     "text": [
      "{'keys': 'values', 'key1': 'value1', 'key2': 'value1', 'key3': 'value1', 'key4': 'value1', 'key5': 'value1', 'key6': 'value1'}\n"
     ]
    }
   ],
   "source": [
    "import json\n",
    "\n",
    "with open('myjson.json','r')as file:\n",
    "    data=json.load(file)\n",
    "print(data)"
   ]
  },
  {
   "cell_type": "code",
   "execution_count": 58,
   "id": "4051007b",
   "metadata": {},
   "outputs": [
    {
     "name": "stdout",
     "output_type": "stream",
     "text": [
      "File seems to be Protected the Permission is Denied gracefully\n"
     ]
    }
   ],
   "source": [
    "try:\n",
    "    with open('protected.txt','w') as file:\n",
    "        file.write(\"abc\")\n",
    "except PermissionError:\n",
    "    print(\"File seems to be Protected the Permission is Denied gracefully\")"
   ]
  }
 ],
 "metadata": {
  "kernelspec": {
   "display_name": "Python 3",
   "language": "python",
   "name": "python3"
  },
  "language_info": {
   "codemirror_mode": {
    "name": "ipython",
    "version": 3
   },
   "file_extension": ".py",
   "mimetype": "text/x-python",
   "name": "python",
   "nbconvert_exporter": "python",
   "pygments_lexer": "ipython3",
   "version": "3.10.0"
  }
 },
 "nbformat": 4,
 "nbformat_minor": 5
}
