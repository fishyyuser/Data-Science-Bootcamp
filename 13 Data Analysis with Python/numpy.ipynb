{
 "cells": [
  {
   "cell_type": "code",
   "execution_count": 2,
   "id": "a33ef530",
   "metadata": {},
   "outputs": [],
   "source": [
    "import numpy as np"
   ]
  },
  {
   "cell_type": "markdown",
   "id": "2c13df82",
   "metadata": {},
   "source": [
    "### Assignment 1: Array Creation and Manipulation\n",
    "\n",
    "1. Create a NumPy array of shape (5, 5) filled with random integers between 1 and 20. Replace all the elements in the third column with 1.\n"
   ]
  },
  {
   "cell_type": "code",
   "execution_count": 5,
   "id": "35a1c725",
   "metadata": {},
   "outputs": [
    {
     "name": "stdout",
     "output_type": "stream",
     "text": [
      "[[ 4 19 20  6 12]\n",
      " [14  7  1 17 20]\n",
      " [11 11 17 20  3]\n",
      " [20 15 16  7  4]\n",
      " [ 5  7  9 12 12]]\n"
     ]
    }
   ],
   "source": [
    "arr1=np.random.randint(1,high=21,size=(5,5))\n",
    "print(arr1)"
   ]
  },
  {
   "cell_type": "code",
   "execution_count": 6,
   "id": "71e3fae0",
   "metadata": {},
   "outputs": [
    {
     "name": "stdout",
     "output_type": "stream",
     "text": [
      "[[ 4 19  1  6 12]\n",
      " [14  7  1 17 20]\n",
      " [11 11  1 20  3]\n",
      " [20 15  1  7  4]\n",
      " [ 5  7  1 12 12]]\n"
     ]
    }
   ],
   "source": [
    "arr1[:,2]=1\n",
    "print(arr1)"
   ]
  },
  {
   "cell_type": "markdown",
   "id": "99289ff7",
   "metadata": {},
   "source": [
    "2. Create a NumPy array of shape (4, 4) with values from 1 to 16. Replace the diagonal elements with 0."
   ]
  },
  {
   "cell_type": "code",
   "execution_count": 7,
   "id": "55a2ef02",
   "metadata": {},
   "outputs": [
    {
     "name": "stdout",
     "output_type": "stream",
     "text": [
      "[[ 9 12  4 11]\n",
      " [ 3 14 13 11]\n",
      " [ 5 10  3 16]\n",
      " [14 10  4  9]]\n"
     ]
    }
   ],
   "source": [
    "arr2=np.random.randint(1,17,size=(4,4))\n",
    "print(arr2)"
   ]
  },
  {
   "cell_type": "code",
   "execution_count": 8,
   "id": "2c83b4d1",
   "metadata": {},
   "outputs": [
    {
     "name": "stdout",
     "output_type": "stream",
     "text": [
      "[[ 0 12  4 11]\n",
      " [ 3  0 13 11]\n",
      " [ 5 10  0 16]\n",
      " [14 10  4  0]]\n"
     ]
    }
   ],
   "source": [
    "np.fill_diagonal(arr2,0)\n",
    "print(arr2)"
   ]
  },
  {
   "cell_type": "markdown",
   "id": "c6d1eab4",
   "metadata": {},
   "source": [
    "### Assignment 2: Array Indexing and Slicing\n",
    "\n",
    "1. Create a NumPy array of shape (6, 6) with values from 1 to 36. Extract the sub-array consisting of the 3rd to 5th rows and 2nd to 4th columns.\n"
   ]
  },
  {
   "cell_type": "code",
   "execution_count": 9,
   "id": "d7f5463b",
   "metadata": {},
   "outputs": [
    {
     "name": "stdout",
     "output_type": "stream",
     "text": [
      "[[26  4 34 16 32 14]\n",
      " [20 34 33 10 31 35]\n",
      " [ 3 10  7  5 32 22]\n",
      " [26 13  1 33 17 21]\n",
      " [ 2  8 28 26 29 28]\n",
      " [ 5  1 35 12 17  1]]\n"
     ]
    }
   ],
   "source": [
    "arr3=np.random.randint(1,37,size=(6,6))\n",
    "print(arr3)"
   ]
  },
  {
   "cell_type": "code",
   "execution_count": 10,
   "id": "e4264cf5",
   "metadata": {},
   "outputs": [
    {
     "name": "stdout",
     "output_type": "stream",
     "text": [
      "[[10  7  5]\n",
      " [13  1 33]\n",
      " [ 8 28 26]]\n"
     ]
    }
   ],
   "source": [
    "sub_arr3=arr3[2:5,1:4]\n",
    "print(sub_arr3)"
   ]
  },
  {
   "cell_type": "markdown",
   "id": "697a52b9",
   "metadata": {},
   "source": [
    "2. Create a NumPy array of shape (5, 5) with random integers. Extract the elements on the border."
   ]
  },
  {
   "cell_type": "code",
   "execution_count": 11,
   "id": "d1779f35",
   "metadata": {},
   "outputs": [
    {
     "name": "stdout",
     "output_type": "stream",
     "text": [
      "[[ 3  8  4  2  2]\n",
      " [ 2  9  3  1  5]\n",
      " [ 1  7 10  6  5]\n",
      " [ 6  8  1  5  2]\n",
      " [ 2  3  8  4  7]]\n"
     ]
    }
   ],
   "source": [
    "arr3=np.random.randint(1,11,size=(5,5))\n",
    "print(arr3)"
   ]
  },
  {
   "cell_type": "code",
   "execution_count": 12,
   "id": "e5bd1ffc",
   "metadata": {},
   "outputs": [
    {
     "name": "stdout",
     "output_type": "stream",
     "text": [
      "[3 8 4 2 2]\n",
      "[2 5 5 2 7]\n",
      "[2 3 8 4 7]\n",
      "[3 2 1 6 2]\n"
     ]
    }
   ],
   "source": [
    "print(arr3[0])\n",
    "print(arr3[:,-1])\n",
    "print(arr3[-1])\n",
    "print(arr3[:,0])"
   ]
  },
  {
   "cell_type": "markdown",
   "id": "5af6ac58",
   "metadata": {},
   "source": [
    "### Assignment 3: Array Operations\n",
    "\n",
    "1. Create two NumPy arrays of shape (3, 4) filled with random integers. Perform element-wise addition, subtraction, multiplication, and division."
   ]
  },
  {
   "cell_type": "code",
   "execution_count": 13,
   "id": "9ea280b6",
   "metadata": {},
   "outputs": [
    {
     "name": "stdout",
     "output_type": "stream",
     "text": [
      "First array:\n",
      " [[1 2 4 2]\n",
      " [2 3 3 2]\n",
      " [4 4 5 1]]\n",
      "Second array:\n",
      " [[2 3 5 1]\n",
      " [3 2 3 1]\n",
      " [1 1 2 5]]\n",
      "Addition:\n",
      " [[3 5 9 3]\n",
      " [5 5 6 3]\n",
      " [5 5 7 6]]\n",
      "Subtraction:\n",
      " [[-1 -1 -1  1]\n",
      " [-1  1  0  1]\n",
      " [ 3  3  3 -4]]\n",
      "Multiplication:\n",
      " [[ 2  6 20  2]\n",
      " [ 6  6  9  2]\n",
      " [ 4  4 10  5]]\n",
      "Divison:\n",
      " [[0.5        0.66666667 0.8        2.        ]\n",
      " [0.66666667 1.5        1.         2.        ]\n",
      " [4.         4.         2.5        0.2       ]]\n"
     ]
    }
   ],
   "source": [
    "arr1=np.random.randint(1,6,size=(3,4))\n",
    "arr2=np.random.randint(1,6,size=(3,4))\n",
    "\n",
    "print(\"First array:\\n\",arr1)\n",
    "print(\"Second array:\\n\",arr2)\n",
    "\n",
    "print(\"Addition:\\n\",arr1+arr2)\n",
    "print(\"Subtraction:\\n\",arr1-arr2)\n",
    "print(\"Multiplication:\\n\",arr1*arr2)\n",
    "print(\"Divison:\\n\",arr1/arr2)"
   ]
  },
  {
   "cell_type": "markdown",
   "id": "791e5ab7",
   "metadata": {},
   "source": [
    "2. Create a NumPy array of shape (4, 4) with values from 1 to 16. Compute the row-wise and column-wise sum."
   ]
  },
  {
   "cell_type": "code",
   "execution_count": 14,
   "id": "37c789e9",
   "metadata": {},
   "outputs": [
    {
     "data": {
      "text/plain": [
       "array([[ 8, 11, 12, 14],\n",
       "       [14,  4,  8,  6],\n",
       "       [ 5, 15, 12, 16],\n",
       "       [ 1, 15,  8,  2]], dtype=int32)"
      ]
     },
     "execution_count": 14,
     "metadata": {},
     "output_type": "execute_result"
    }
   ],
   "source": [
    "arr1=np.random.randint(1,17,size=(4,4))\n",
    "arr1"
   ]
  },
  {
   "cell_type": "code",
   "execution_count": 15,
   "id": "5939f442",
   "metadata": {},
   "outputs": [
    {
     "name": "stdout",
     "output_type": "stream",
     "text": [
      "[45 32 48 26]\n"
     ]
    }
   ],
   "source": [
    "row_sums=np.sum(arr1,axis=1)\n",
    "print (row_sums)"
   ]
  },
  {
   "cell_type": "code",
   "execution_count": 16,
   "id": "b6053a46",
   "metadata": {},
   "outputs": [
    {
     "name": "stdout",
     "output_type": "stream",
     "text": [
      "[28 45 40 38]\n"
     ]
    }
   ],
   "source": [
    "col_sums=np.sum(arr1,axis=0)\n",
    "print(col_sums)"
   ]
  },
  {
   "cell_type": "markdown",
   "id": "e008ee48",
   "metadata": {},
   "source": [
    "### Assignment 4: Statistical Operations\n",
    "\n",
    "1. Create a NumPy array of shape (5, 5) filled with random integers. Compute the mean, median, standard deviation, and variance of the array."
   ]
  },
  {
   "cell_type": "code",
   "execution_count": 17,
   "id": "5686f216",
   "metadata": {},
   "outputs": [
    {
     "data": {
      "text/plain": [
       "array([[ 4,  7, 10,  8,  3],\n",
       "       [ 8,  7,  2,  7,  4],\n",
       "       [ 1, 10,  5,  9,  9],\n",
       "       [10,  9,  4,  5,  5],\n",
       "       [ 4,  5,  8,  4, 10]], dtype=int32)"
      ]
     },
     "execution_count": 17,
     "metadata": {},
     "output_type": "execute_result"
    }
   ],
   "source": [
    "arr1=np.random.randint(1,11,size=(5,5))\n",
    "arr1"
   ]
  },
  {
   "cell_type": "code",
   "execution_count": 18,
   "id": "cb522655",
   "metadata": {},
   "outputs": [
    {
     "name": "stdout",
     "output_type": "stream",
     "text": [
      "Mean : 6.32\n",
      "Median : 7.0\n",
      "Standard Deviation : 2.664132128855474\n",
      "Variance : 7.0976\n"
     ]
    }
   ],
   "source": [
    "print(\"Mean :\",np.mean(arr1))\n",
    "print(\"Median :\",np.median(arr1))\n",
    "print(\"Standard Deviation :\",np.std(arr1))\n",
    "print(\"Variance :\",np.var(arr1))"
   ]
  },
  {
   "cell_type": "markdown",
   "id": "42c5972e",
   "metadata": {},
   "source": [
    "2. Create a NumPy array of shape (3, 3) with values from 1 to 9. Normalize the array (i.e., scale the values to have a mean of 0 and a standard deviation of 1)."
   ]
  },
  {
   "cell_type": "code",
   "execution_count": 19,
   "id": "643d7c43",
   "metadata": {},
   "outputs": [
    {
     "name": "stdout",
     "output_type": "stream",
     "text": [
      "[[7 7 4]\n",
      " [9 4 6]\n",
      " [3 2 2]]\n"
     ]
    }
   ],
   "source": [
    "arr1=np.random.randint(1,10,size=(3,3))\n",
    "print(arr1)"
   ]
  },
  {
   "cell_type": "code",
   "execution_count": null,
   "id": "1f9004ba",
   "metadata": {},
   "outputs": [
    {
     "name": "stdout",
     "output_type": "stream",
     "text": [
      "Mean : 4.0\n",
      "Standard Deviation : 2.160246899469287\n",
      "Normalised Array:\n",
      " [[ 0.46291005  0.46291005  0.9258201 ]\n",
      " [-0.9258201  -0.46291005 -1.38873015]\n",
      " [ 1.38873015  0.9258201  -1.38873015]]\n",
      "New Mean : -2.4671622769447922e-17\n",
      "New Standard Deviation: 1.0\n"
     ]
    }
   ],
   "source": [
    "mean=np.mean(arr1)\n",
    "standard_deviation=np.std(arr1)\n",
    "print(\"Mean :\",mean)\n",
    "print(\"Standard Deviation :\",standard_deviation)\n",
    "normalised_array=(arr1-mean)/standard_deviation\n",
    "print(\"Normalised Array:\\n\",normalised_array)\n",
    "print(\"New Mean :\",np.mean(normalised_array))\n",
    "print(\"New Standard Deviation:\",np.std(normalised_array))"
   ]
  },
  {
   "cell_type": "markdown",
   "id": "b5b5706b",
   "metadata": {},
   "source": [
    "### Assignment 5: Broadcasting\n",
    "\n",
    "1. Create a NumPy array of shape (3, 3) filled with random integers. Add a 1D array of shape (3,) to each row of the 2D array using broadcastin"
   ]
  },
  {
   "cell_type": "code",
   "execution_count": 30,
   "id": "e1297d19",
   "metadata": {},
   "outputs": [
    {
     "name": "stdout",
     "output_type": "stream",
     "text": [
      "[[4 8 1]\n",
      " [9 1 6]\n",
      " [2 3 3]]\n"
     ]
    }
   ],
   "source": [
    "arr1=np.random.randint(1,10,size=(3,3))\n",
    "print(arr1)"
   ]
  },
  {
   "cell_type": "code",
   "execution_count": 31,
   "id": "b7d8f63b",
   "metadata": {},
   "outputs": [
    {
     "name": "stdout",
     "output_type": "stream",
     "text": [
      "[[ 5  9  2]\n",
      " [10  2  7]\n",
      " [ 3  4  4]]\n"
     ]
    }
   ],
   "source": [
    "arr2=[1,1,1]\n",
    "arr1=arr1+arr2\n",
    "print(arr1)"
   ]
  },
  {
   "cell_type": "markdown",
   "id": "bf0c41ad",
   "metadata": {},
   "source": [
    "2. Create a NumPy array of shape (4, 4) filled with random integers. Subtract a 1D array of shape (4,) from each column of the 2D array using broadcasting."
   ]
  },
  {
   "cell_type": "code",
   "execution_count": 57,
   "id": "25c70e02",
   "metadata": {},
   "outputs": [
    {
     "name": "stdout",
     "output_type": "stream",
     "text": [
      "[[2 9 5 3]\n",
      " [9 6 4 8]\n",
      " [5 5 3 4]\n",
      " [6 7 4 6]]\n"
     ]
    }
   ],
   "source": [
    "arr1=np.random.randint(1,10,size=(4,4))\n",
    "print(arr1)"
   ]
  },
  {
   "cell_type": "code",
   "execution_count": 58,
   "id": "12a57f15",
   "metadata": {},
   "outputs": [
    {
     "name": "stdout",
     "output_type": "stream",
     "text": [
      "[[1. 8. 4. 2.]\n",
      " [8. 5. 3. 7.]\n",
      " [4. 4. 2. 3.]\n",
      " [5. 6. 3. 5.]]\n"
     ]
    }
   ],
   "source": [
    "arr2=np.ones(4)\n",
    "arr1=arr1-arr2\n",
    "print(arr1)"
   ]
  },
  {
   "cell_type": "markdown",
   "id": "38e074ae",
   "metadata": {},
   "source": [
    "### Assignment 6: Linear Algebra\n",
    "\n",
    "1. Create a NumPy array of shape (3, 3) representing a matrix. Compute its determinant, inverse, and eigenvalues."
   ]
  },
  {
   "cell_type": "code",
   "execution_count": 9,
   "id": "69877c2a",
   "metadata": {},
   "outputs": [
    {
     "name": "stdout",
     "output_type": "stream",
     "text": [
      "[[9 9 3]\n",
      " [5 6 2]\n",
      " [7 5 9]]\n"
     ]
    }
   ],
   "source": [
    "arr1=np.random.randint(1,10,size=(3,3))\n",
    "print(arr1)"
   ]
  },
  {
   "cell_type": "code",
   "execution_count": 10,
   "id": "aaaec39b",
   "metadata": {},
   "outputs": [
    {
     "name": "stdout",
     "output_type": "stream",
     "text": [
      "deteminant: 65.99999999999997\n",
      "Inverse:\n",
      " [[ 6.66666667e-01 -1.00000000e+00 -8.63506797e-17]\n",
      " [-4.69696970e-01  9.09090909e-01 -4.54545455e-02]\n",
      " [-2.57575758e-01  2.72727273e-01  1.36363636e-01]]\n",
      "Eigen Values:\n",
      " [17.88975904  0.67930491  5.43093605]\n"
     ]
    }
   ],
   "source": [
    "print(\"deteminant:\",np.linalg.det(arr1))\n",
    "print(\"Inverse:\\n\",np.linalg.inv(arr1))\n",
    "print(\"Eigen Values:\\n\",np.linalg.eigvals(arr1))"
   ]
  },
  {
   "cell_type": "markdown",
   "id": "2493e841",
   "metadata": {},
   "source": [
    "2. Create two NumPy arrays of shape (2, 3) and (3, 2). Perform matrix multiplication on these arrays."
   ]
  },
  {
   "cell_type": "code",
   "execution_count": 12,
   "id": "e9142b30",
   "metadata": {},
   "outputs": [
    {
     "name": "stdout",
     "output_type": "stream",
     "text": [
      "First array:\n",
      " [[9 7 2]\n",
      " [6 1 3]]\n",
      "Second array:\n",
      " [[5 7]\n",
      " [7 2]\n",
      " [1 9]]\n"
     ]
    }
   ],
   "source": [
    "arr1=np.random.randint(1,10,size=(2,3))\n",
    "arr2=np.random.randint(1,10,size=(3,2))\n",
    "print(\"First array:\\n\",arr1)\n",
    "print(\"Second array:\\n\",arr2)"
   ]
  },
  {
   "cell_type": "code",
   "execution_count": 13,
   "id": "8209d3b9",
   "metadata": {},
   "outputs": [
    {
     "name": "stdout",
     "output_type": "stream",
     "text": [
      "[[96 95]\n",
      " [40 71]]\n"
     ]
    }
   ],
   "source": [
    "print(np.matmul(arr1,arr2))"
   ]
  },
  {
   "cell_type": "markdown",
   "id": "43b5667a",
   "metadata": {},
   "source": [
    "### Assignment 7: Advanced Array Manipulation\n",
    "\n",
    "1. Create a NumPy array of shape (3, 3) with values from 1 to 9. Reshape the array to shape (1, 9) and then to shape (9, 1)."
   ]
  },
  {
   "cell_type": "code",
   "execution_count": 14,
   "id": "4d2c15be",
   "metadata": {},
   "outputs": [
    {
     "name": "stdout",
     "output_type": "stream",
     "text": [
      "[[9 1 5]\n",
      " [8 3 3]\n",
      " [9 9 1]]\n"
     ]
    }
   ],
   "source": [
    "arr1=np.random.randint(1,10,size=(3,3))\n",
    "print(arr1)"
   ]
  },
  {
   "cell_type": "code",
   "execution_count": null,
   "id": "1af09789",
   "metadata": {},
   "outputs": [
    {
     "name": "stdout",
     "output_type": "stream",
     "text": [
      "[[9 1 5 8 3 3 9 9 1]]\n"
     ]
    }
   ],
   "source": [
    "arr1=arr1.reshape(1,9)\n",
    "print(arr1)"
   ]
  },
  {
   "cell_type": "code",
   "execution_count": 18,
   "id": "1355447e",
   "metadata": {},
   "outputs": [
    {
     "name": "stdout",
     "output_type": "stream",
     "text": [
      "[[9]\n",
      " [1]\n",
      " [5]\n",
      " [8]\n",
      " [3]\n",
      " [3]\n",
      " [9]\n",
      " [9]\n",
      " [1]]\n"
     ]
    }
   ],
   "source": [
    "arr1=arr1.reshape(9,1)\n",
    "print(arr1)"
   ]
  },
  {
   "cell_type": "markdown",
   "id": "85a87a24",
   "metadata": {},
   "source": [
    "2. Create a NumPy array of shape (5, 5) filled with random integers. Flatten the array and then reshape it back to (5, 5)."
   ]
  },
  {
   "cell_type": "code",
   "execution_count": 19,
   "id": "3742beb7",
   "metadata": {},
   "outputs": [
    {
     "name": "stdout",
     "output_type": "stream",
     "text": [
      "[[5 2 6 8 6]\n",
      " [7 4 1 7 8]\n",
      " [6 5 4 2 8]\n",
      " [5 8 3 4 2]\n",
      " [1 8 7 4 1]]\n"
     ]
    }
   ],
   "source": [
    "arr1=np.random.randint(1,10,size=(5,5))\n",
    "print(arr1)"
   ]
  },
  {
   "cell_type": "code",
   "execution_count": 20,
   "id": "68a0bb26",
   "metadata": {},
   "outputs": [
    {
     "name": "stdout",
     "output_type": "stream",
     "text": [
      "[[5 2 6 8 6 7 4 1 7 8 6 5 4 2 8 5 8 3 4 2 1 8 7 4 1]]\n"
     ]
    }
   ],
   "source": [
    "arr1=arr1.reshape(1,25)\n",
    "print(arr1)"
   ]
  },
  {
   "cell_type": "code",
   "execution_count": 21,
   "id": "a775882b",
   "metadata": {},
   "outputs": [
    {
     "name": "stdout",
     "output_type": "stream",
     "text": [
      "[[5 2 6 8 6]\n",
      " [7 4 1 7 8]\n",
      " [6 5 4 2 8]\n",
      " [5 8 3 4 2]\n",
      " [1 8 7 4 1]]\n"
     ]
    }
   ],
   "source": [
    "arr1=arr1.reshape(5,5)\n",
    "print(arr1)"
   ]
  },
  {
   "cell_type": "markdown",
   "id": "98bd94c1",
   "metadata": {},
   "source": [
    "### Assignment 8: Fancy Indexing and Boolean Indexing\n",
    "\n",
    "1. Create a NumPy array of shape (5, 5) filled with random integers. Use fancy indexing to extract the elements at the corners of the array."
   ]
  },
  {
   "cell_type": "code",
   "execution_count": null,
   "id": "c4e80b68",
   "metadata": {},
   "outputs": [
    {
     "name": "stdout",
     "output_type": "stream",
     "text": [
      "[[10  7  9  4 10]\n",
      " [ 5 10  1  3  6]\n",
      " [ 7  3  8  1  1]\n",
      " [10  9  7  5  8]\n",
      " [ 6  7  5  4  7]]\n"
     ]
    }
   ],
   "source": [
    "arr1=np.random.randint(1,11,size=(5,5))\n",
    "print(arr1)"
   ]
  },
  {
   "cell_type": "code",
   "execution_count": 4,
   "id": "1b54e54d",
   "metadata": {},
   "outputs": [
    {
     "name": "stdout",
     "output_type": "stream",
     "text": [
      "[[10 10]\n",
      " [ 6  7]]\n"
     ]
    }
   ],
   "source": [
    "corners_indices = np.ix_((0, -1), (0, -1))\n",
    "print(arr1[corners_indices])"
   ]
  },
  {
   "cell_type": "markdown",
   "id": "b7a44a06",
   "metadata": {},
   "source": [
    "2. Create a NumPy array of shape (4, 4) filled with random integers. Use boolean indexing to set all elements greater than 10 to 10."
   ]
  },
  {
   "cell_type": "code",
   "execution_count": 5,
   "id": "e6be43d9",
   "metadata": {},
   "outputs": [
    {
     "name": "stdout",
     "output_type": "stream",
     "text": [
      "[[ 0  1  2  3]\n",
      " [ 4  5  6  7]\n",
      " [ 8  9 10 11]\n",
      " [12 13 14 15]]\n"
     ]
    }
   ],
   "source": [
    "arr2=np.arange(16).reshape(4,4)\n",
    "print(arr2)"
   ]
  },
  {
   "cell_type": "code",
   "execution_count": 7,
   "id": "25989fff",
   "metadata": {},
   "outputs": [
    {
     "name": "stdout",
     "output_type": "stream",
     "text": [
      "[[ 0  1  2  3]\n",
      " [ 4  5  6  7]\n",
      " [ 8  9 10 10]\n",
      " [10 10 10 10]]\n"
     ]
    }
   ],
   "source": [
    "arr2[arr2>10]=10\n",
    "print(arr2)"
   ]
  },
  {
   "cell_type": "markdown",
   "id": "7baf5a02",
   "metadata": {},
   "source": [
    "### Assignment 9: Structured Arrays\n",
    "\n",
    "1. Create a structured array with fields 'name' (string), 'age' (integer), and 'weight' (float). Add some data and sort the array by age.\n"
   ]
  },
  {
   "cell_type": "code",
   "execution_count": 15,
   "id": "565a1226",
   "metadata": {},
   "outputs": [
    {
     "name": "stdout",
     "output_type": "stream",
     "text": [
      "[('Pradyumn', 25,  97.8) ('PB', 22,  79. ) ('P Bisht', 21,  72.6)\n",
      " ('Prady', 19, 105. )]\n"
     ]
    }
   ],
   "source": [
    "datatype=[('name','U10'),('age','i4'),('weight','f8')]\n",
    "struct_array=np.array([('Pradyumn',25,97.8),('PB',22,79),('P Bisht',21,72.6),('Prady',19,105)],dtype=datatype)\n",
    "print(struct_array)"
   ]
  },
  {
   "cell_type": "markdown",
   "id": "e0bd65aa",
   "metadata": {},
   "source": [
    "2. Create a structured array with fields 'x' and 'y' (both integers). Add some data and compute the Euclidean distance between each pair of points."
   ]
  },
  {
   "cell_type": "code",
   "execution_count": null,
   "id": "736b6cb9",
   "metadata": {},
   "outputs": [
    {
     "name": "stdout",
     "output_type": "stream",
     "text": [
      "(1.0, 2.0)\n"
     ]
    }
   ],
   "source": [
    "datatype=[('x','f8'),('y','f8')]\n",
    "struct_array=np.array([(1,2),(6,9)],dtype=datatype)\n",
    "print(struct_array)"
   ]
  },
  {
   "cell_type": "code",
   "execution_count": 19,
   "id": "e108824f",
   "metadata": {},
   "outputs": [
    {
     "name": "stdout",
     "output_type": "stream",
     "text": [
      "8.602325267042627\n"
     ]
    }
   ],
   "source": [
    "point1 = np.array(struct_array[0].tolist())\n",
    "point2 = np.array(struct_array[-1].tolist())\n",
    "\n",
    "print(np.linalg.norm(point2-point1))"
   ]
  },
  {
   "cell_type": "markdown",
   "id": "6f36e5a7",
   "metadata": {},
   "source": [
    "### Assignment 10: Masked Arrays\n",
    "\n",
    "1. Create a masked array of shape (4, 4) with random integers and mask the elements greater than 10. Compute the sum of the unmasked elements.\n"
   ]
  },
  {
   "cell_type": "code",
   "execution_count": 25,
   "id": "04a623c7",
   "metadata": {},
   "outputs": [
    {
     "name": "stdout",
     "output_type": "stream",
     "text": [
      "[[ 9  8 14  1]\n",
      " [12 14  1  9]\n",
      " [ 5 13 11  5]\n",
      " [ 4 11  1  9]]\n"
     ]
    }
   ],
   "source": [
    "data=np.random.randint(1,15,size=(4,4))\n",
    "print(data)"
   ]
  },
  {
   "cell_type": "code",
   "execution_count": 26,
   "id": "6108025f",
   "metadata": {},
   "outputs": [
    {
     "name": "stdout",
     "output_type": "stream",
     "text": [
      "[[9 8 -- 1]\n",
      " [-- -- 1 9]\n",
      " [5 -- -- 5]\n",
      " [4 -- 1 9]]\n"
     ]
    }
   ],
   "source": [
    "ma=np.ma\n",
    "mx=ma.masked_array(data,mask=data>10)\n",
    "print(mx)"
   ]
  },
  {
   "cell_type": "code",
   "execution_count": 27,
   "id": "973eeee3",
   "metadata": {},
   "outputs": [
    {
     "name": "stdout",
     "output_type": "stream",
     "text": [
      "Sum 52\n"
     ]
    }
   ],
   "source": [
    "print(\"Sum\",ma.sum(mx))"
   ]
  },
  {
   "cell_type": "markdown",
   "id": "29754ecf",
   "metadata": {},
   "source": [
    "2. Create a masked array of shape (3, 3) with random integers and mask the diagonal elements. Replace the masked elements with the mean of the unmasked elements."
   ]
  },
  {
   "cell_type": "code",
   "execution_count": 69,
   "id": "b1af23f0",
   "metadata": {},
   "outputs": [
    {
     "name": "stdout",
     "output_type": "stream",
     "text": [
      "[[ 9 14  4]\n",
      " [ 5 12  4]\n",
      " [ 9  3  3]]\n"
     ]
    }
   ],
   "source": [
    "data=np.random.randint(1,15,size=(3,3))\n",
    "print(data)"
   ]
  },
  {
   "cell_type": "code",
   "execution_count": 70,
   "id": "6f383e8f",
   "metadata": {},
   "outputs": [],
   "source": [
    "mask_diagonal=np.eye(3,dtype=bool)"
   ]
  },
  {
   "cell_type": "code",
   "execution_count": 71,
   "id": "d5279a73",
   "metadata": {},
   "outputs": [
    {
     "name": "stdout",
     "output_type": "stream",
     "text": [
      "[[-- 14 4]\n",
      " [5 -- 4]\n",
      " [9 3 --]]\n",
      "Mean : 6\n"
     ]
    }
   ],
   "source": [
    "mx=ma.masked_array(data,mask=mask_diagonal)\n",
    "print(mx)\n",
    "mean=int(ma.mean(mx))\n",
    "print(\"Mean :\",mean)"
   ]
  },
  {
   "cell_type": "code",
   "execution_count": 72,
   "id": "6805afb3",
   "metadata": {},
   "outputs": [
    {
     "name": "stdout",
     "output_type": "stream",
     "text": [
      "[[ 6 14  4]\n",
      " [ 5  6  4]\n",
      " [ 9  3  6]]\n"
     ]
    }
   ],
   "source": [
    "mx = mx.filled(fill_value=mean)\n",
    "print(mx)"
   ]
  }
 ],
 "metadata": {
  "kernelspec": {
   "display_name": "Python 3",
   "language": "python",
   "name": "python3"
  },
  "language_info": {
   "codemirror_mode": {
    "name": "ipython",
    "version": 3
   },
   "file_extension": ".py",
   "mimetype": "text/x-python",
   "name": "python",
   "nbconvert_exporter": "python",
   "pygments_lexer": "ipython3",
   "version": "3.10.0"
  }
 },
 "nbformat": 4,
 "nbformat_minor": 5
}
