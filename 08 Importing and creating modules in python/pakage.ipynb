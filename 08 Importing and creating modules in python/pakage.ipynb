{
 "cells": [
  {
   "cell_type": "code",
   "execution_count": 15,
   "id": "71852cce",
   "metadata": {},
   "outputs": [
    {
     "name": "stdout",
     "output_type": "stream",
     "text": [
      "5.0  :  0.8939966636005579\n"
     ]
    }
   ],
   "source": [
    "import math\n",
    "print(math.sqrt(25),\" : \",math.sin(90))"
   ]
  },
  {
   "cell_type": "code",
   "execution_count": 21,
   "id": "14952742",
   "metadata": {},
   "outputs": [
    {
     "name": "stdout",
     "output_type": "stream",
     "text": [
      "2025-09-22 09:44:17.258002\n"
     ]
    }
   ],
   "source": [
    "import datetime as dt\n",
    "print(dt.datetime.now())"
   ]
  },
  {
   "cell_type": "code",
   "execution_count": 22,
   "id": "e7a20a13",
   "metadata": {},
   "outputs": [
    {
     "name": "stdout",
     "output_type": "stream",
     "text": [
      "48\n"
     ]
    }
   ],
   "source": [
    "import random\n",
    "print(random.randint(1,100))"
   ]
  },
  {
   "cell_type": "code",
   "execution_count": 23,
   "id": "73731e32",
   "metadata": {},
   "outputs": [
    {
     "name": "stdout",
     "output_type": "stream",
     "text": [
      "64.0\n",
      "2.8284271247461907\n"
     ]
    }
   ],
   "source": [
    "import math\n",
    "print(math.pow(math.sqrt(16),3))\n",
    "print(math.pow(math.sqrt(2),3))"
   ]
  },
  {
   "cell_type": "code",
   "execution_count": 24,
   "id": "7c34598b",
   "metadata": {},
   "outputs": [
    {
     "name": "stdout",
     "output_type": "stream",
     "text": [
      "This module sadly doesn't exists\n"
     ]
    }
   ],
   "source": [
    "try:\n",
    "    import nothing\n",
    "except ModuleNotFoundError:\n",
    "    print(\"This module sadly doesn't exists\")"
   ]
  },
  {
   "cell_type": "code",
   "execution_count": 27,
   "id": "8ffb25e5",
   "metadata": {},
   "outputs": [
    {
     "data": {
      "text/plain": [
       "['packagesquestion.ipynb', 'packagessolution.ipynb', 'pakage.ipynb']"
      ]
     },
     "execution_count": 27,
     "metadata": {},
     "output_type": "execute_result"
    }
   ],
   "source": [
    "import os\n",
    "os.mkdir(\"newdir\")\n",
    "os.listdir()\n",
    "os.rmdir(\"newdir\")\n",
    "os.listdir()"
   ]
  },
  {
   "cell_type": "code",
   "execution_count": 30,
   "id": "c8ed378a",
   "metadata": {},
   "outputs": [
    {
     "name": "stdout",
     "output_type": "stream",
     "text": [
      "3.10.0 | packaged by conda-forge | (default, Nov 10 2021, 13:20:59) [MSC v.1916 64 bit (AMD64)]\n",
      "['d:\\\\Projects\\\\Udemy Data Analyst Bootcamp\\\\venv\\\\lib\\\\site-packages\\\\ipykernel_launcher.py', '--f=c:\\\\Users\\\\prady\\\\AppData\\\\Roaming\\\\jupyter\\\\runtime\\\\kernel-v3a2d1469691407c342703b7d703829c5090c17cd9.json']\n"
     ]
    }
   ],
   "source": [
    "import sys\n",
    "print(sys.version)\n",
    "print(sys.argv)"
   ]
  },
  {
   "cell_type": "code",
   "execution_count": 31,
   "id": "ee1168be",
   "metadata": {},
   "outputs": [
    {
     "name": "stdout",
     "output_type": "stream",
     "text": [
      "GCD of numbers : 1\n",
      "Factorial of number : 720\n"
     ]
    }
   ],
   "source": [
    "import math\n",
    "print(f\"GCD of numbers : {math.gcd(47,98)}\")\n",
    "print(f\"Factorial of number : {math.factorial(6)}\")"
   ]
  },
  {
   "cell_type": "code",
   "execution_count": 40,
   "id": "ee4d53b2",
   "metadata": {},
   "outputs": [
    {
     "name": "stdout",
     "output_type": "stream",
     "text": [
      "2025-09-22 10:12:43.880291\n",
      "100 days, 0:00:00\n",
      "2025-12-31 10:12:43.880291\n",
      "2025-12-31 10:12:43.880291 Wednesday\n"
     ]
    }
   ],
   "source": [
    "import datetime\n",
    "curr=datetime.datetime.now()\n",
    "print(curr)\n",
    "hundred=datetime.timedelta(days=100)\n",
    "print (hundred)\n",
    "ago=curr+hundred\n",
    "print(ago)\n",
    "print(ago,ago.strftime(\"%A\"))"
   ]
  },
  {
   "cell_type": "code",
   "execution_count": 41,
   "id": "3ceeee67",
   "metadata": {},
   "outputs": [
    {
     "name": "stdout",
     "output_type": "stream",
     "text": [
      "[23, 37, 18, 48, 24]\n",
      "[37, 18, 23, 24, 48]\n"
     ]
    }
   ],
   "source": [
    "import random\n",
    "lst=[random.randint(1,50) for i in range(5)]\n",
    "print(lst)\n",
    "random.shuffle(lst)\n",
    "print(lst)"
   ]
  },
  {
   "cell_type": "code",
   "execution_count": 42,
   "id": "aac90f4b",
   "metadata": {},
   "outputs": [
    {
     "name": "stdout",
     "output_type": "stream",
     "text": [
      "5\n",
      "6\n"
     ]
    }
   ],
   "source": [
    "from mypackage import module1\n",
    "print(module1.add(2,3))\n",
    "\n",
    "from mypackage import module2\n",
    "print(module2.multi(2,3))"
   ]
  },
  {
   "cell_type": "code",
   "execution_count": 6,
   "id": "60cd6338",
   "metadata": {},
   "outputs": [
    {
     "ename": "ImportError",
     "evalue": "cannot import name 'add' from 'mypackage' (d:\\Projects\\Udemy Data Analyst Bootcamp\\08 Importing and creating modules in python\\mypackage\\__init__.py)",
     "output_type": "error",
     "traceback": [
      "\u001b[1;31m---------------------------------------------------------------------------\u001b[0m",
      "\u001b[1;31mImportError\u001b[0m                               Traceback (most recent call last)",
      "Cell \u001b[1;32mIn[6], line 1\u001b[0m\n\u001b[1;32m----> 1\u001b[0m \u001b[38;5;28;01mfrom\u001b[39;00m\u001b[38;5;250m \u001b[39m\u001b[38;5;21;01mmypackage\u001b[39;00m\u001b[38;5;250m \u001b[39m\u001b[38;5;28;01mimport\u001b[39;00m add\n\u001b[0;32m      2\u001b[0m \u001b[38;5;66;03m#from mypackage.module2 import multi\u001b[39;00m\n\u001b[0;32m      4\u001b[0m \u001b[38;5;28mprint\u001b[39m(add(\u001b[38;5;241m2\u001b[39m,\u001b[38;5;241m3\u001b[39m))\n",
      "\u001b[1;31mImportError\u001b[0m: cannot import name 'add' from 'mypackage' (d:\\Projects\\Udemy Data Analyst Bootcamp\\08 Importing and creating modules in python\\mypackage\\__init__.py)"
     ]
    }
   ],
   "source": [
    "from mypackage import add\n",
    "#from mypackage.module2 import multi\n",
    "\n",
    "print(add(2,3))\n",
    "\n",
    "#print(multi(2,3))\n"
   ]
  },
  {
   "cell_type": "code",
   "execution_count": null,
   "id": "1e111264",
   "metadata": {},
   "outputs": [],
   "source": []
  },
  {
   "cell_type": "code",
   "execution_count": null,
   "id": "79d4983e",
   "metadata": {},
   "outputs": [],
   "source": []
  },
  {
   "cell_type": "code",
   "execution_count": null,
   "id": "c647bbb9",
   "metadata": {},
   "outputs": [],
   "source": []
  }
 ],
 "metadata": {
  "kernelspec": {
   "display_name": "Python 3",
   "language": "python",
   "name": "python3"
  },
  "language_info": {
   "codemirror_mode": {
    "name": "ipython",
    "version": 3
   },
   "file_extension": ".py",
   "mimetype": "text/x-python",
   "name": "python",
   "nbconvert_exporter": "python",
   "pygments_lexer": "ipython3",
   "version": "3.10.0"
  }
 },
 "nbformat": 4,
 "nbformat_minor": 5
}
