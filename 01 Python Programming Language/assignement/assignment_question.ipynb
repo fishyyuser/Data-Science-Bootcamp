{
 "cells": [
  {
   "cell_type": "markdown",
   "metadata": {},
   "source": [
    "# Lesson 1.2: Python Basics\n",
    "## Topics Covered:\n",
    "- Syntax and Semantics\n",
    "- Variables and Data Types\n",
    "- Basic Operators (Arithmetic, Comparison, Logical)\n"
   ]
  },
  {
   "cell_type": "markdown",
   "metadata": {},
   "source": [
    "## 1. Syntax and Semantics\n",
    "\n",
    "**Question 1:** Write a Python program to print \"Hello, World!\"."
   ]
  },
  {
   "cell_type": "code",
   "execution_count": null,
   "metadata": {},
   "outputs": [],
   "source": [
    "# Your code here\n",
    "print (\"Hello, World!\")"
   ]
  },
  {
   "cell_type": "markdown",
   "metadata": {},
   "source": [
    "**Question 2:** Write a Python program that takes a user input and prints it."
   ]
  },
  {
   "cell_type": "code",
   "execution_count": null,
   "metadata": {},
   "outputs": [],
   "source": [
    "# Your code here\n",
    "ui=input(\"Enter input : \")\n",
    "print(ui)"
   ]
  },
  {
   "cell_type": "markdown",
   "metadata": {},
   "source": [
    "**Question 3:** Write a Python program to check if a number is positive, negative, or zero."
   ]
  },
  {
   "cell_type": "code",
   "execution_count": null,
   "metadata": {},
   "outputs": [],
   "source": [
    "# Your code here\n",
    "ui=int(input(\"Enter the number : \"))\n",
    "if ui <0:\n",
    "    print (\"Negative\")\n",
    "elif ui>0:\n",
    "    print (\"Positive\")\n",
    "else:\n",
    "    print(\"Zero\")\n"
   ]
  },
  {
   "cell_type": "markdown",
   "metadata": {},
   "source": [
    "**Question 4:** Write a Python program to find the largest of three numbers."
   ]
  },
  {
   "cell_type": "code",
   "execution_count": null,
   "metadata": {},
   "outputs": [],
   "source": [
    "# Your code here\n",
    "n1=int(input(\"Enter num 1: \"))\n",
    "n2=int(input(\"Enter num 2: \"))\n",
    "n3=int(input(\"Enter num 3: \"))\n",
    "\n",
    "if n1>n2 and n1>n3:\n",
    "    print(\"Num 1 is largest \",n1)\n",
    "elif n2>n1 and n2>n3:\n",
    "    print(\"Num 2 is largest :\",n2)\n",
    "else:\n",
    "    print(\"Num 3 is largest \",n3)"
   ]
  },
  {
   "cell_type": "markdown",
   "metadata": {},
   "source": [
    "**Question 5:** Write a Python program to calculate the factorial of a number."
   ]
  },
  {
   "cell_type": "code",
   "execution_count": 37,
   "metadata": {},
   "outputs": [
    {
     "name": "stdout",
     "output_type": "stream",
     "text": [
      "Factorial of  5  :  120\n"
     ]
    }
   ],
   "source": [
    "# Your code here\n",
    "ui=int(input(\"Enter the number : \"))\n",
    "def fac(a):\n",
    "    if a == 0 or a==1:\n",
    "        return 1\n",
    "    else:\n",
    "        return a*fac(a-1)\n",
    "print(\"Factorial of \",ui,\" : \",fac(ui))"
   ]
  },
  {
   "cell_type": "markdown",
   "metadata": {},
   "source": [
    "## 2. Variables and Data Types\n",
    "\n",
    "**Question 6:** Create variables of different data types: integer, float, string, and boolean. Print their values and types."
   ]
  },
  {
   "cell_type": "code",
   "execution_count": null,
   "metadata": {},
   "outputs": [],
   "source": [
    "# Your code here\n",
    "v1=1\n",
    "v2=1.1\n",
    "v3=\"var\"\n",
    "v4=False\n",
    "print(type(v1),\" : \",v1)\n",
    "print(type(v2),\" : \",v2)\n",
    "print(type(v3),\" : \",v3)\n",
    "print(type(v4),\" : \",v4)"
   ]
  },
  {
   "cell_type": "markdown",
   "metadata": {},
   "source": [
    "**Question 7:** Write a Python program to swap the values of two variables."
   ]
  },
  {
   "cell_type": "code",
   "execution_count": null,
   "metadata": {},
   "outputs": [],
   "source": [
    "# Your code here\n",
    "a,b= 5,10\n",
    "print(a)\n",
    "print(b)\n",
    "a,b=b,a\n",
    "print(a)\n",
    "print(b)"
   ]
  },
  {
   "cell_type": "markdown",
   "metadata": {},
   "source": [
    "**Question 8:** Write a Python program to convert Celsius to Fahrenheit."
   ]
  },
  {
   "cell_type": "code",
   "execution_count": null,
   "metadata": {},
   "outputs": [],
   "source": [
    "# Your code here\n",
    "celsius=float(input(\"Enter temp in Celsius : \"))\n",
    "fahren=(9/5*celsius)+32\n",
    "print (\"temp in Fahrenheit : \", fahren)"
   ]
  },
  {
   "cell_type": "markdown",
   "metadata": {},
   "source": [
    "**Question 9:** Write a Python program to concatenate two strings."
   ]
  },
  {
   "cell_type": "code",
   "execution_count": 15,
   "metadata": {},
   "outputs": [
    {
     "name": "stdout",
     "output_type": "stream",
     "text": [
      "My name is  pradyumn   bisht\n"
     ]
    }
   ],
   "source": [
    "# Your code here\n",
    "st1=\"pradyumn\"\n",
    "st2=\"bisht\"\n",
    "print(\"My name is \",st1,\" \",st2)"
   ]
  },
  {
   "cell_type": "markdown",
   "metadata": {},
   "source": [
    "**Question 10:** Write a Python program to check if a variable is of a specific data type."
   ]
  },
  {
   "cell_type": "code",
   "execution_count": 17,
   "metadata": {},
   "outputs": [
    {
     "data": {
      "text/plain": [
       "False"
      ]
     },
     "execution_count": 17,
     "metadata": {},
     "output_type": "execute_result"
    }
   ],
   "source": [
    "# Your code here\n",
    "v1=4.4\n",
    "type(v1)==int"
   ]
  },
  {
   "cell_type": "markdown",
   "metadata": {},
   "source": [
    "## 3. Basic Operators (Arithmetic, Comparison, Logical)\n",
    "\n",
    "**Question 11:** Write a Python program to perform arithmetic operations: addition, subtraction, multiplication, and division."
   ]
  },
  {
   "cell_type": "code",
   "execution_count": null,
   "metadata": {},
   "outputs": [],
   "source": [
    "# Your code here\n",
    "num1=float(input(\"Enter the first number: \"))\n",
    "num2=float(input(\"Enter the second number: \"))\n",
    "\n",
    "sum=num1+num2\n",
    "diff=num1-num2\n",
    "prod=num1*num2\n",
    "quot=num1/num2\n",
    "\n",
    "print(\"Sum : \",sum)\n",
    "print(\"Difference : \",diff)\n",
    "print(\"Product : \",prod)\n",
    "print(\"Quotient : \",quot)"
   ]
  },
  {
   "cell_type": "markdown",
   "metadata": {},
   "source": [
    "**Question 12:** Write a Python program to demonstrate comparison operators: equal to, not equal to, greater than, less than."
   ]
  },
  {
   "cell_type": "code",
   "execution_count": 19,
   "metadata": {},
   "outputs": [
    {
     "name": "stdout",
     "output_type": "stream",
     "text": [
      "True\n",
      "True\n",
      "True\n",
      "True\n"
     ]
    }
   ],
   "source": [
    "# Your code here\n",
    "v1,v2,v3,v4,v5=1,1,2,-5,5\n",
    "print(v1==v2)\n",
    "print(v1!=v3)\n",
    "print(v1>v4)\n",
    "print(v1<v5)"
   ]
  },
  {
   "cell_type": "markdown",
   "metadata": {},
   "source": [
    "**Question 13:** Write a Python program to demonstrate logical operators: and, or, not."
   ]
  },
  {
   "cell_type": "code",
   "execution_count": 20,
   "metadata": {},
   "outputs": [
    {
     "name": "stdout",
     "output_type": "stream",
     "text": [
      "True\n",
      "True\n",
      "True\n"
     ]
    }
   ],
   "source": [
    "# Your code here\n",
    "print(5>1 and 5<6)\n",
    "print (5>1 or 5<1)\n",
    "print(not(5<1))"
   ]
  },
  {
   "cell_type": "markdown",
   "metadata": {},
   "source": [
    "**Question 14:** Write a Python program to calculate the square of a number."
   ]
  },
  {
   "cell_type": "code",
   "execution_count": 21,
   "metadata": {},
   "outputs": [
    {
     "name": "stdout",
     "output_type": "stream",
     "text": [
      "Square of  5  :  25\n"
     ]
    }
   ],
   "source": [
    "# Your code here\n",
    "ui=int(input(\"Enter the number to square : \"))\n",
    "print(\"Square of \",ui,\" : \",ui**2)"
   ]
  },
  {
   "cell_type": "markdown",
   "metadata": {},
   "source": [
    "**Question 15:** Write a Python program to check if a number is even or odd."
   ]
  },
  {
   "cell_type": "code",
   "execution_count": 23,
   "metadata": {},
   "outputs": [
    {
     "name": "stdout",
     "output_type": "stream",
     "text": [
      "Even\n"
     ]
    }
   ],
   "source": [
    "# Your code here\n",
    "ui=int(input(\"Enter the number : \"))\n",
    "if ui%2:\n",
    "    print(\"Odd\")\n",
    "else:\n",
    "    print(\"Even\")"
   ]
  },
  {
   "cell_type": "markdown",
   "metadata": {},
   "source": [
    "**Question 16:** Write a Python program to find the sum of the first n natural numbers."
   ]
  },
  {
   "cell_type": "code",
   "execution_count": 39,
   "metadata": {},
   "outputs": [
    {
     "name": "stdout",
     "output_type": "stream",
     "text": [
      "Sum :  55.0\n"
     ]
    }
   ],
   "source": [
    "# Your code here\n",
    "ui=int(input(\"Enter the number : \"))\n",
    "sum= ui*(ui+1)/2\n",
    "print(\"Sum : \",sum)"
   ]
  },
  {
   "cell_type": "markdown",
   "metadata": {},
   "source": [
    "**Question 17:** Write a Python program to check if a year is a leap year."
   ]
  },
  {
   "cell_type": "code",
   "execution_count": 40,
   "metadata": {},
   "outputs": [
    {
     "name": "stdout",
     "output_type": "stream",
     "text": [
      "Non-Leap Year\n"
     ]
    }
   ],
   "source": [
    "# Your code here\n",
    "ui=int(input(\"Enter the number : \"))\n",
    "if ui%400==0 or (ui % 4==0 and ui%100!=0):\n",
    "    print(\"Leap year\")\n",
    "else:\n",
    "    print(\"Non-Leap Year\")\n",
    "    "
   ]
  },
  {
   "cell_type": "markdown",
   "metadata": {},
   "source": [
    "**Question 18:** Write a Python program to reverse a string."
   ]
  },
  {
   "cell_type": "code",
   "execution_count": 34,
   "metadata": {},
   "outputs": [
    {
     "name": "stdout",
     "output_type": "stream",
     "text": [
      "gnirtsym\n"
     ]
    }
   ],
   "source": [
    "# Your code here\n",
    "str=\"mystring\"\n",
    "rev_str=\"\".join(reversed(str))\n",
    "print (rev_str)"
   ]
  },
  {
   "cell_type": "markdown",
   "metadata": {},
   "source": [
    "**Question 19:** Write a Python program to check if a string is a palindrome."
   ]
  },
  {
   "cell_type": "code",
   "execution_count": 35,
   "metadata": {},
   "outputs": [
    {
     "name": "stdout",
     "output_type": "stream",
     "text": [
      "Pallindrome\n"
     ]
    }
   ],
   "source": [
    "# Your code here\n",
    "str=input(\"Enter a string :\")\n",
    "rev_str=\"\".join(reversed(str))\n",
    "if rev_str==str:\n",
    "    print(\"Pallindrome\")\n",
    "else:\n",
    "    print(\"Not Pallindrome\")"
   ]
  },
  {
   "cell_type": "markdown",
   "metadata": {},
   "source": [
    "**Question 20:** Write a Python program to sort a list of numbers in ascending order."
   ]
  },
  {
   "cell_type": "code",
   "execution_count": 36,
   "metadata": {},
   "outputs": [
    {
     "name": "stdout",
     "output_type": "stream",
     "text": [
      "[1, 2, 3, 7, 10, 21, 32, 40, 49, 99]\n"
     ]
    }
   ],
   "source": [
    "# Your code here\n",
    "l1=[2,7,10,3,1,99,40,32,21,49]\n",
    "l1.sort()\n",
    "print(l1)"
   ]
  }
 ],
 "metadata": {
  "kernelspec": {
   "display_name": "Python 3",
   "language": "python",
   "name": "python3"
  },
  "language_info": {
   "codemirror_mode": {
    "name": "ipython",
    "version": 3
   },
   "file_extension": ".py",
   "mimetype": "text/x-python",
   "name": "python",
   "nbconvert_exporter": "python",
   "pygments_lexer": "ipython3",
   "version": "3.12.0"
  }
 },
 "nbformat": 4,
 "nbformat_minor": 4
}
