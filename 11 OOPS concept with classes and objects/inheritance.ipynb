{
 "cells": [
  {
   "cell_type": "code",
   "execution_count": 6,
   "id": "b689d02e",
   "metadata": {},
   "outputs": [
    {
     "name": "stdout",
     "output_type": "stream",
     "text": [
      "Boss Canis Lupus Familaris Bulldog\n"
     ]
    }
   ],
   "source": [
    "class Animal:\n",
    "    def __init__(self,name,species):\n",
    "        self.name=name\n",
    "        self.species=species\n",
    "\n",
    "class Dog(Animal):\n",
    "    def __init__(self,name,species,breed):\n",
    "        super().__init__(name,species)\n",
    "        self.breed=breed\n",
    "    \n",
    "\n",
    "dog=Dog(\"Boss\",\"Canis Lupus Familaris\",\"Bulldog\")\n",
    "print(dog.name,dog.species,dog.breed)"
   ]
  },
  {
   "cell_type": "code",
   "execution_count": 7,
   "id": "9b1950f2",
   "metadata": {},
   "outputs": [
    {
     "name": "stdout",
     "output_type": "stream",
     "text": [
      "name : Boss \n",
      "species: Canis Lupus Familaris\n",
      "breed: Bulldog\n"
     ]
    }
   ],
   "source": [
    "class Animal:\n",
    "    def __init__(self,name,species):\n",
    "        self.name=name\n",
    "        self.species=species\n",
    "\n",
    "class Dog(Animal):\n",
    "    def __init__(self,name,species,breed):\n",
    "        super().__init__(name,species)\n",
    "        self.breed=breed\n",
    "    def  __str__(self):\n",
    "        return f\"name : {self.name} \\nspecies: {self.species}\\nbreed: {self.breed}\"\n",
    "\n",
    "dog=Dog(\"Boss\",\"Canis Lupus Familaris\",\"Bulldog\")\n",
    "print(dog)"
   ]
  },
  {
   "cell_type": "code",
   "execution_count": 10,
   "id": "4252e3ff",
   "metadata": {},
   "outputs": [
    {
     "data": {
      "text/plain": [
       "'Boss says ahy i gotta woff'"
      ]
     },
     "execution_count": 10,
     "metadata": {},
     "output_type": "execute_result"
    }
   ],
   "source": [
    "class Animal:\n",
    "    def __init__(self,name,species):\n",
    "        self.name=name\n",
    "        self.species=species\n",
    "\n",
    "class Dog(Animal):\n",
    "    def __init__(self,name,species,breed):\n",
    "        super().__init__(name,species)\n",
    "        self.breed=breed\n",
    "    def bark(self):\n",
    "        return f\"{self.name} says ahy i gotta woff\"\n",
    "    \n",
    "\n",
    "dog=Dog(\"Boss\",\"Canis Lupus Familaris\",\"Bulldog\")\n",
    "dog.bark()"
   ]
  },
  {
   "cell_type": "code",
   "execution_count": 14,
   "id": "46585ed2",
   "metadata": {},
   "outputs": [
    {
     "name": "stdout",
     "output_type": "stream",
     "text": [
      "Starts Walking\n",
      "Starts Running\n"
     ]
    }
   ],
   "source": [
    "class Walker:\n",
    "    def walk(self):\n",
    "        print(\"Starts Walking\")\n",
    "class Runner:\n",
    "    def run(self):\n",
    "        print(\"Starts Running\")\n",
    "class Athlete(Walker,Runner):\n",
    "    pass\n",
    "a1=Athlete()\n",
    "a1.walk()\n",
    "a1.run()"
   ]
  },
  {
   "cell_type": "code",
   "execution_count": 18,
   "id": "83b47bb8",
   "metadata": {},
   "outputs": [
    {
     "name": "stdout",
     "output_type": "stream",
     "text": [
      "Starts Walking\n",
      "Athlete starts Running\n"
     ]
    }
   ],
   "source": [
    "class Walker:\n",
    "    def walk(self):\n",
    "        print(\"Starts Walking\")\n",
    "class Runner:\n",
    "    def run(self):\n",
    "        print(\"Starts Running\")\n",
    "class Athlete(Walker,Runner):\n",
    "    def walk(self):\n",
    "        super().walk()\n",
    "        print(\"Athlete starts Running\")\n",
    "\n",
    "a1=Athlete()\n",
    "a1.walk()\n"
   ]
  },
  {
   "cell_type": "code",
   "execution_count": 19,
   "id": "63b47a1d",
   "metadata": {},
   "outputs": [
    {
     "name": "stdout",
     "output_type": "stream",
     "text": [
      "Athlete trains 100\n"
     ]
    }
   ],
   "source": [
    "class Walker:\n",
    "    def walk(self):\n",
    "        print(\"Starts Walking\")\n",
    "class Runner:\n",
    "    def run(self):\n",
    "        print(\"Starts Running\")\n",
    "class Athlete(Walker,Runner):\n",
    "    def __init__(self,training_hours):\n",
    "        self.training_hours=training_hours\n",
    "    def train(self):\n",
    "        print(f\"Athlete trains {self.training_hours}\")\n",
    "a1=Athlete(100)\n",
    "a1.train()"
   ]
  },
  {
   "cell_type": "code",
   "execution_count": 21,
   "id": "ff93a706",
   "metadata": {},
   "outputs": [
    {
     "name": "stdout",
     "output_type": "stream",
     "text": [
      "Inside D class\n",
      "Inside B class\n",
      "Inside C class\n",
      "Inside A class\n"
     ]
    }
   ],
   "source": [
    "class A:\n",
    "    def show(self):\n",
    "        print(\"Inside A class\")\n",
    "class B(A):\n",
    "    def show(self):\n",
    "        print(\"Inside B class\")\n",
    "        super().show()\n",
    "class C(A):\n",
    "    def show(self):\n",
    "        print(\"Inside C class\")\n",
    "        super().show()\n",
    "class D(B,C):\n",
    "    def show(self):\n",
    "        print(\"Inside D class\")\n",
    "        super().show()\n",
    "d=D()\n",
    "d.show()"
   ]
  },
  {
   "cell_type": "code",
   "execution_count": 22,
   "id": "6b9cf675",
   "metadata": {},
   "outputs": [
    {
     "name": "stdout",
     "output_type": "stream",
     "text": [
      "Red 7\n"
     ]
    }
   ],
   "source": [
    "class Shape:\n",
    "    def __init__(self,color):\n",
    "        self.color=color\n",
    "\n",
    "class Circle(Shape):\n",
    "    def __init__(self,color,radius):\n",
    "        super().__init__(color)\n",
    "        self.radius=radius\n",
    "c=Circle('Red',7)\n",
    "print(c.color,c.radius)"
   ]
  },
  {
   "cell_type": "code",
   "execution_count": 29,
   "id": "5ec49da7",
   "metadata": {},
   "outputs": [
    {
     "name": "stdout",
     "output_type": "stream",
     "text": [
      "Guy 347gedfs32\n"
     ]
    }
   ],
   "source": [
    "class Person:\n",
    "    def __init__(self,name,**kwargs):\n",
    "        super().__init__(**kwargs)\n",
    "        self.name=name\n",
    "class Employee:\n",
    "    def __init__(self,employee_id,**kwargs):\n",
    "        super().__init__(**kwargs)\n",
    "        self.employee_id=employee_id\n",
    "\n",
    "class Manager(Person,Employee):\n",
    "    def __init__(self,name,employee_id):\n",
    "        super().__init__(name=name, employee_id=employee_id)\n",
    "\n",
    "m1=Manager(\"Guy\",'347gedfs32')\n",
    "print(m1.name,m1.employee_id)"
   ]
  },
  {
   "cell_type": "code",
   "execution_count": 31,
   "id": "42dbc246",
   "metadata": {},
   "outputs": [
    {
     "name": "stdout",
     "output_type": "stream",
     "text": [
      "Vehicle starts\n",
      "Car starts\n"
     ]
    }
   ],
   "source": [
    "class Vehicle:\n",
    "    def start(self):\n",
    "        print(\"Vehicle starts\")\n",
    "class Car(Vehicle):\n",
    "    def start(self):\n",
    "        super().start()\n",
    "        print(\"Car starts\")\n",
    "c=Car()\n",
    "c.start()"
   ]
  },
  {
   "cell_type": "code",
   "execution_count": 32,
   "id": "66cc918f",
   "metadata": {},
   "outputs": [
    {
     "name": "stdout",
     "output_type": "stream",
     "text": [
      "He flies\n",
      "He swims\n"
     ]
    }
   ],
   "source": [
    "class Flyer:\n",
    "    def fly(self):\n",
    "        print(\"He flies\")\n",
    "\n",
    "class Swimmer:\n",
    "    def swim(self):\n",
    "        print(\"He swims\")\n",
    "class Superhero(Flyer,Swimmer):\n",
    "    pass\n",
    "s1=Superhero()\n",
    "s1.fly()\n",
    "s1.swim()"
   ]
  },
  {
   "cell_type": "code",
   "execution_count": 33,
   "id": "6c77ce3f",
   "metadata": {},
   "outputs": [
    {
     "name": "stdout",
     "output_type": "stream",
     "text": [
      "1 2 3\n"
     ]
    }
   ],
   "source": [
    "class Base1:\n",
    "    def __init__(self,a,**kwargs):\n",
    "        super().__init__(**kwargs)\n",
    "        self.a=a\n",
    "class Base2:\n",
    "    def __init__(self,b,**kwargs):\n",
    "        super().__init__(**kwargs)\n",
    "        self.b=b\n",
    "class Derived(Base1,Base2):\n",
    "    def __init__(self,a,b,c,**kwargs):\n",
    "        self.c=c\n",
    "        super().__init__(a=a,b=b)\n",
    "d=Derived(1,2,3)\n",
    "print(d.a,d.b,d.c)"
   ]
  },
  {
   "cell_type": "code",
   "execution_count": 34,
   "id": "3b1d4f14",
   "metadata": {},
   "outputs": [
    {
     "name": "stdout",
     "output_type": "stream",
     "text": [
      "True\n",
      "True\n",
      "True\n"
     ]
    }
   ],
   "source": [
    "class Animal:\n",
    "    pass\n",
    "class Cat(Animal):\n",
    "    pass\n",
    "a=Animal()\n",
    "cat=Cat()\n",
    "print(isinstance(a,Animal))\n",
    "print(isinstance(cat,Animal))\n",
    "print(isinstance(cat,Cat))"
   ]
  },
  {
   "cell_type": "code",
   "execution_count": 35,
   "id": "c1b3ad68",
   "metadata": {},
   "outputs": [
    {
     "name": "stdout",
     "output_type": "stream",
     "text": [
      "squak\n",
      "squak\n",
      "honk\n",
      "honk\n"
     ]
    }
   ],
   "source": [
    "class Bird:\n",
    "    def speak(self):\n",
    "        pass\n",
    "class Parrot(Bird):\n",
    "    def speak(self):\n",
    "        print(\"squak\")\n",
    "class Penguin(Bird):\n",
    "    def speak(self):\n",
    "        print(\"honk\")\n",
    "p1=Parrot()\n",
    "p2=Parrot()\n",
    "pen1=Penguin()\n",
    "pen2=Penguin()\n",
    "lst=[p1,p2,pen1,pen2]\n",
    "def speaks(lst):\n",
    "    for x in lst:\n",
    "        x.speak()\n",
    "speaks(lst)"
   ]
  },
  {
   "cell_type": "code",
   "execution_count": 41,
   "id": "6d4d15c4",
   "metadata": {},
   "outputs": [
    {
     "name": "stdout",
     "output_type": "stream",
     "text": [
      "Samsung ZFlip 4k\n"
     ]
    }
   ],
   "source": [
    "class Device:\n",
    "    def __init__(self,brand,**kwargs):\n",
    "        super().__init__(**kwargs)\n",
    "        self.brand=brand\n",
    "\n",
    "class Phone(Device):\n",
    "    def __init__(self,brand,model,**kwargs):\n",
    "        self.model=model\n",
    "        super().__init__(brand=brand,**kwargs)\n",
    "        \n",
    "\n",
    "class Camera:\n",
    "    def __init__(self,resolution,**kwargs):\n",
    "        self.resolution=resolution\n",
    "        super().__init__(**kwargs)\n",
    "        \n",
    "\n",
    "class Smartphone(Phone,Camera):\n",
    "    def __init__(self,brand,model,resolution,**kwargs):\n",
    "        super().__init__(brand=brand,model=model,resolution=resolution)\n",
    "\n",
    "s=Smartphone(\"Samsung\",'ZFlip','4k')\n",
    "print(s.brand,s.model,s.resolution)"
   ]
  }
 ],
 "metadata": {
  "kernelspec": {
   "display_name": "Python 3",
   "language": "python",
   "name": "python3"
  },
  "language_info": {
   "codemirror_mode": {
    "name": "ipython",
    "version": 3
   },
   "file_extension": ".py",
   "mimetype": "text/x-python",
   "name": "python",
   "nbconvert_exporter": "python",
   "pygments_lexer": "ipython3",
   "version": "3.10.0"
  }
 },
 "nbformat": 4,
 "nbformat_minor": 5
}
