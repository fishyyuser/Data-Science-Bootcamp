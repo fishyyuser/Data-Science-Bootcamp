{
 "cells": [
  {
   "cell_type": "code",
   "execution_count": 2,
   "id": "f473b57c",
   "metadata": {},
   "outputs": [
    {
     "name": "stdout",
     "output_type": "stream",
     "text": [
      "Tata\n",
      "Tiago\n",
      "2021\n"
     ]
    }
   ],
   "source": [
    "class Car:\n",
    "    def __init__ (self,make,model,year):\n",
    "        self.make=make\n",
    "        self.model=model\n",
    "        self.year=year\n",
    "\n",
    "c1=Car(\"Tata\",\"Tiago\",2021)\n",
    "print(c1.make)\n",
    "print(c1.model)\n",
    "print(c1.year)"
   ]
  },
  {
   "cell_type": "code",
   "execution_count": 4,
   "id": "f3e514cf",
   "metadata": {},
   "outputs": [
    {
     "name": "stdout",
     "output_type": "stream",
     "text": [
      "Engine Starts\n"
     ]
    }
   ],
   "source": [
    "class Car:\n",
    "    def __init__ (self,make,model,year):\n",
    "        self.make=make\n",
    "        self.model=model\n",
    "        self.year=year\n",
    "\n",
    "    def start_engine(self):\n",
    "        print(\"Engine Starts\")\n",
    "\n",
    "c1=Car(\"Tata\",\"Tiago\",2021)\n",
    "c1.start_engine()"
   ]
  },
  {
   "cell_type": "code",
   "execution_count": 6,
   "id": "eb502f26",
   "metadata": {},
   "outputs": [
    {
     "name": "stdout",
     "output_type": "stream",
     "text": [
      "Pradyumn\n",
      "25\n"
     ]
    }
   ],
   "source": [
    "class Student:\n",
    "    def __init__(self,name,age):\n",
    "        self.name=name\n",
    "        self.age=age\n",
    "s1=Student(\"Pradyumn\",25)\n",
    "print(s1.name)\n",
    "print(s1.age)"
   ]
  },
  {
   "cell_type": "code",
   "execution_count": 2,
   "id": "fe69c7f6",
   "metadata": {},
   "outputs": [
    {
     "name": "stdout",
     "output_type": "stream",
     "text": [
      "10000 has been deposited. New balance is 15000\n",
      "500 has been withdrawn. New balance is 14500\n",
      "Account Number : 2364685769865434\n",
      "Account Balance : 14500\n"
     ]
    }
   ],
   "source": [
    "class BankAccount:\n",
    "    def __init__(self,account_number,balance):\n",
    "        self.__account_number=account_number\n",
    "        self.__balance=balance\n",
    "    def deposit(self,amount):\n",
    "        if amount>0:\n",
    "            self.__balance+=amount\n",
    "            print(f\"{amount} has been deposited. New balance is {self.__balance}\")\n",
    "        else :\n",
    "            print(\"Invalid Amount\")\n",
    "    def withdraw(self,amount):\n",
    "        if amount>self.__balance:\n",
    "            print(\"Insufficient Balance\")\n",
    "        else:\n",
    "            self.__balance-=amount\n",
    "            print(f\"{amount} has been withdrawn. New balance is {self.__balance}\")\n",
    "    def getDetails(self):\n",
    "        print(f\"Account Number : {self.__account_number}\")\n",
    "        print(f\"Account Balance : {self.__balance}\")\n",
    "\n",
    "a1=BankAccount(\"2364685769865434\",5000)\n",
    "a1.deposit(10000)\n",
    "a1.withdraw(500)\n",
    "a1.getDetails()"
   ]
  },
  {
   "cell_type": "code",
   "execution_count": 14,
   "id": "e3215a9b",
   "metadata": {},
   "outputs": [
    {
     "name": "stdout",
     "output_type": "stream",
     "text": [
      "Pradyumn\n",
      "25\n",
      "465876\n",
      "Name: Pradyumn\n",
      "Age: 25\n",
      "Employee ID: 465876\n"
     ]
    }
   ],
   "source": [
    "class Person:\n",
    "    def __init__(self,name,age):\n",
    "        self.name=name\n",
    "        self.age=age\n",
    "\n",
    "class Employee(Person):\n",
    "    def __init__(self,name,age,employeeID):\n",
    "        super().__init__(name,age)\n",
    "        self.employee_id=employeeID\n",
    "    def __str__(self):\n",
    "        return f\"Name: {self.name}\\nAge: {self.age}\\nEmployee ID: {self.employee_id}\"\n",
    "\n",
    "e1=Employee(\"Pradyumn\",25,\"465876\")\n",
    "print(e1.name)\n",
    "print(e1.age)\n",
    "print(e1.employee_id)\n",
    "print(e1)\n"
   ]
  },
  {
   "cell_type": "code",
   "execution_count": 21,
   "id": "5eb154e3",
   "metadata": {},
   "outputs": [
    {
     "name": "stdout",
     "output_type": "stream",
     "text": [
      "Street: Prathe wali gali \n",
      "City: New Delhi\n",
      "Zip Code: 110021\n"
     ]
    }
   ],
   "source": [
    "class Address:\n",
    "    def __init__(self,street,city,zip_code):\n",
    "        self.street=street\n",
    "        self.city=city\n",
    "        self.zipcode=zip_code\n",
    "\n",
    "class Person:\n",
    "    def __init__(self,name, age,address):\n",
    "        self.name=name\n",
    "        self.age=age\n",
    "        self.address=address\n",
    "    \n",
    "    def getAddress(self):\n",
    "        print(f\"Street: {self.address.street} \\nCity: {self.address.city}\\nZip Code: {self.address.zipcode}\")\n",
    "    \n",
    "a1=Address(\"Prathe wali gali\",\"New Delhi\",110021)\n",
    "\n",
    "p1=Person(\"Pradyumn\",25,a1)\n",
    "p1.getAddress()\n"
   ]
  },
  {
   "cell_type": "code",
   "execution_count": 22,
   "id": "f42238fc",
   "metadata": {},
   "outputs": [
    {
     "name": "stdout",
     "output_type": "stream",
     "text": [
      "0\n",
      "2\n"
     ]
    }
   ],
   "source": [
    "class Counter:\n",
    "    count=0\n",
    "    def __init__(self):\n",
    "        Counter.count+=1\n",
    "\n",
    "print(Counter.count)        \n",
    "c1=Counter()\n",
    "c2=Counter()\n",
    "print(Counter.count)    "
   ]
  },
  {
   "cell_type": "code",
   "execution_count": 23,
   "id": "6bd62dd7",
   "metadata": {},
   "outputs": [
    {
     "name": "stdout",
     "output_type": "stream",
     "text": [
      "4.0\n"
     ]
    }
   ],
   "source": [
    "class MathOperation:\n",
    "    @staticmethod\n",
    "    def root(a):\n",
    "        return a**0.5\n",
    "\n",
    "print(MathOperation.root(16))"
   ]
  },
  {
   "cell_type": "code",
   "execution_count": 27,
   "id": "88bda6f4",
   "metadata": {},
   "outputs": [
    {
     "name": "stdout",
     "output_type": "stream",
     "text": [
      "(None, None)\n",
      "Length is set to 4\n",
      "breadth is set to 4\n",
      "(4, 4)\n"
     ]
    }
   ],
   "source": [
    "class Rectangle:\n",
    "    def __init__(self):\n",
    "        self.__length=None\n",
    "        self.__breadth=None\n",
    "    def set_length(self,length):\n",
    "        if isinstance(length,float) or isinstance(length,int):\n",
    "            self.__length=length\n",
    "            print(f\"Length is set to {length}\")\n",
    "        else:\n",
    "            print(\"Invalid length\")\n",
    "\n",
    "    def set_breadth(self,breadth):\n",
    "        if isinstance(breadth,float) or isinstance(breadth,int):\n",
    "            self.__breadth=breadth\n",
    "            print(f\"breadth is set to {breadth}\")\n",
    "        else:\n",
    "            print(\"Invalid breadth\")\n",
    "\n",
    "    def get_length_and_breadth(self):\n",
    "        return self.__length,self.__breadth\n",
    "    \n",
    "r1=Rectangle()\n",
    "print(r1.get_length_and_breadth())\n",
    "r1.set_length(4)\n",
    "r1.set_breadth(4)\n",
    "print(r1.get_length_and_breadth())"
   ]
  },
  {
   "cell_type": "code",
   "execution_count": 29,
   "id": "ad24ace3",
   "metadata": {},
   "outputs": [
    {
     "name": "stdout",
     "output_type": "stream",
     "text": [
      "50.26548245743669\n",
      "314.1592653589793\n"
     ]
    }
   ],
   "source": [
    "from abc import ABC,abstractmethod\n",
    "from math import pi\n",
    "\n",
    "class Shape(ABC):\n",
    "    @abstractmethod\n",
    "    def area(self):\n",
    "        pass\n",
    "\n",
    "class Circle(Shape):\n",
    "    def __init__(self,radius):\n",
    "        self.radius=radius\n",
    "    \n",
    "    def area(self):\n",
    "        return pi*self.radius*self.radius\n",
    "\n",
    "class Square(Shape):\n",
    "    def __init__(self,side):\n",
    "        self.side=side\n",
    "    \n",
    "    def area(self):\n",
    "        return pi*self.side*self.side\n",
    "\n",
    "sq=Square(4)\n",
    "print(sq.area())\n",
    "\n",
    "crc=Circle(10)\n",
    "print(crc.area())"
   ]
  },
  {
   "cell_type": "code",
   "execution_count": 1,
   "id": "147d1738",
   "metadata": {},
   "outputs": [
    {
     "name": "stdout",
     "output_type": "stream",
     "text": [
      "(3, 3)\n"
     ]
    }
   ],
   "source": [
    "class Vector:\n",
    "    def __init__(self,x,y):\n",
    "        self.x=x\n",
    "        self.y=y\n",
    "    \n",
    "    def __add__(self,Obj):\n",
    "        return self.x+Obj.x,self.y+Obj.y\n",
    "v1=Vector(1,2)\n",
    "v2=Vector(2,1)\n",
    "print(v1+v2)"
   ]
  },
  {
   "cell_type": "code",
   "execution_count": 8,
   "id": "f174e9bd",
   "metadata": {},
   "outputs": [],
   "source": [
    "class InsufficientBalanceError(Exception):\n",
    "    def __init__(self,message):\n",
    "        super().__init__(message)\n",
    "        self.message=message\n",
    "    def __str__(self):\n",
    "        return f\"{self.message}\"\n",
    "\n",
    "class BankAccount:\n",
    "    def __init__(self,account_number,balance):\n",
    "        self.__account_number=account_number\n",
    "        self.__balance=balance\n",
    "    def deposit(self,amount):\n",
    "        if amount>0:\n",
    "            self.__balance+=amount\n",
    "            print(f\"{amount} has been deposited. New balance is {self.__balance}\")\n",
    "        else :\n",
    "            print(\"Invalid Amount\")\n",
    "    def withdraw(self,amount):\n",
    "        if amount>self.__balance:\n",
    "            raise InsufficientBalanceError(f\"Your Account has amount less than {amount}\")\n",
    "        else:\n",
    "            self.__balance-=amount\n",
    "            print(f\"{amount} has been withdrawn. New balance is {self.__balance}\")\n",
    "    def getDetails(self):\n",
    "        print(f\"Account Number : {self.__account_number}\")\n",
    "        print(f\"Account Balance : {self.__balance}\")\n",
    "\n",
    "a1=BankAccount(\"2364685769865434\",5000)"
   ]
  },
  {
   "cell_type": "code",
   "execution_count": 10,
   "id": "eb9df7ea",
   "metadata": {},
   "outputs": [
    {
     "name": "stdout",
     "output_type": "stream",
     "text": [
      "Your Account has amount less than 9000\n"
     ]
    }
   ],
   "source": [
    "try:\n",
    "    a1.withdraw(9000)\n",
    "except InsufficientBalanceError as e:\n",
    "    print(e)"
   ]
  },
  {
   "cell_type": "code",
   "execution_count": 12,
   "id": "9ad91486",
   "metadata": {},
   "outputs": [
    {
     "name": "stdout",
     "output_type": "stream",
     "text": [
      "this contains some\n",
      "\n",
      "text\n"
     ]
    }
   ],
   "source": [
    "class FileManager:\n",
    "    def __init__(self):\n",
    "        self.file=None\n",
    "        self.mode=None\n",
    "    def openfile(self,filelocation,mode):\n",
    "        try:\n",
    "            self.file=open(filelocation,mode)\n",
    "            self.mode=mode        \n",
    "        except Exception as e:\n",
    "            print(\"An error occured :\",e)\n",
    "\n",
    "    def readfile(self):\n",
    "        if self.file:\n",
    "            for line in self.file:\n",
    "                print(line)\n",
    "    \n",
    "    def closefile(self):\n",
    "        if self.file and not self.file.closed:\n",
    "            self.file.close()\n",
    "\n",
    "f1=FileManager()\n",
    "f1.openfile(\"my.txt\",'r')\n",
    "f1.readfile()\n",
    "f1.closefile()"
   ]
  },
  {
   "cell_type": "code",
   "execution_count": 16,
   "id": "b9e29e99",
   "metadata": {},
   "outputs": [
    {
     "name": "stdout",
     "output_type": "stream",
     "text": [
      "27.5\n"
     ]
    }
   ],
   "source": [
    "class Calculator:\n",
    "    def __init__(self):\n",
    "        self.result=0\n",
    "\n",
    "    def add(self,num):\n",
    "        self.result+=num\n",
    "        return self\n",
    "    \n",
    "    def sub(self,num):\n",
    "        self.result-=num\n",
    "        return self\n",
    "    \n",
    "    def mul(self,num):\n",
    "        self.result*=num\n",
    "        return self\n",
    "    \n",
    "    def div(self,num):\n",
    "        self.result/=num\n",
    "        return self\n",
    "    def total(self):\n",
    "        return self.result\n",
    "\n",
    "c1=Calculator()\n",
    "print(c1.add(6).mul(10).sub(5).div(2).total())\n"
   ]
  }
 ],
 "metadata": {
  "kernelspec": {
   "display_name": "Python 3",
   "language": "python",
   "name": "python3"
  },
  "language_info": {
   "codemirror_mode": {
    "name": "ipython",
    "version": 3
   },
   "file_extension": ".py",
   "mimetype": "text/x-python",
   "name": "python",
   "nbconvert_exporter": "python",
   "pygments_lexer": "ipython3",
   "version": "3.10.0"
  }
 },
 "nbformat": 4,
 "nbformat_minor": 5
}
