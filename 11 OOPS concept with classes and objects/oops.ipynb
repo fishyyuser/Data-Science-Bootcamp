{
 "cells": [
  {
   "cell_type": "code",
   "execution_count": 3,
   "id": "53da5345",
   "metadata": {},
   "outputs": [
    {
     "name": "stdout",
     "output_type": "stream",
     "text": [
      "314.0\n",
      "225\n"
     ]
    }
   ],
   "source": [
    "class Shape:\n",
    "    def Area(self):\n",
    "        pass\n",
    "class Circle(Shape):\n",
    "    def __init__(self,radius):\n",
    "        self.radius=radius\n",
    "    def Area(self):\n",
    "        return 3.14*self.radius*self.radius\n",
    "class Square(Shape):\n",
    "    def __init__(self,side):\n",
    "        self.side=side\n",
    "    def Area(self):\n",
    "        return self.side*self.side\n",
    "\n",
    "c=Circle(10)\n",
    "s=Square(15)\n",
    "lst=[c,s]\n",
    "for shape in lst:\n",
    "    print(shape.Area())\n"
   ]
  },
  {
   "cell_type": "code",
   "execution_count": 4,
   "id": "9de3e4d4",
   "metadata": {},
   "outputs": [
    {
     "name": "stdout",
     "output_type": "stream",
     "text": [
      "314.0\n"
     ]
    }
   ],
   "source": [
    "def describe_shape(shape):\n",
    "    print(shape.Area())\n",
    "\n",
    "describe_shape(c)"
   ]
  },
  {
   "cell_type": "code",
   "execution_count": 5,
   "id": "60a0da10",
   "metadata": {},
   "outputs": [
    {
     "name": "stdout",
     "output_type": "stream",
     "text": [
      "Car engine starts\n",
      "MotorCycle engine start\n"
     ]
    }
   ],
   "source": [
    "from abc import ABC,abstractmethod\n",
    "\n",
    "class Vehicle(ABC):\n",
    "    @abstractmethod\n",
    "    def start_engine(self):\n",
    "        pass\n",
    "class Car(Vehicle):\n",
    "    def start_engine(self):\n",
    "        print(\"Car engine starts\")\n",
    "class MotorCycle(Vehicle):\n",
    "    def start_engine(self):\n",
    "        print(\"MotorCycle engine start\")\n",
    "c=Car()\n",
    "m=MotorCycle()\n",
    "c.start_engine()\n",
    "m.start_engine()"
   ]
  },
  {
   "cell_type": "code",
   "execution_count": 7,
   "id": "fd1539c3",
   "metadata": {},
   "outputs": [
    {
     "name": "stdout",
     "output_type": "stream",
     "text": [
      "Car runs on Diesel, Petrol and CNG\n",
      "MotorCyle runs on Petrol\n"
     ]
    }
   ],
   "source": [
    "from abc import ABC,abstractmethod\n",
    "\n",
    "class Vehicle(ABC):\n",
    "    def fuel_type(self):\n",
    "        print(\"This Vehicle runs on Gas\")\n",
    "    @abstractmethod\n",
    "    def start_engine(self):\n",
    "        pass\n",
    "class Car(Vehicle):\n",
    "    def start_engine(self):\n",
    "        print(\"Car engine starts\")\n",
    "    def fuel_type(self):\n",
    "        print(\"Car runs on Diesel, Petrol and CNG\")\n",
    "class MotorCycle(Vehicle):\n",
    "    def start_engine(self):\n",
    "        print(\"MotorCycle engine start\")\n",
    "    def fuel_type(self):\n",
    "        print(\"MotorCyle runs on Petrol\")\n",
    "c=Car()\n",
    "m=MotorCycle()\n",
    "c.fuel_type()\n",
    "m.fuel_type()"
   ]
  },
  {
   "cell_type": "code",
   "execution_count": 11,
   "id": "54a4653d",
   "metadata": {},
   "outputs": [
    {
     "name": "stdout",
     "output_type": "stream",
     "text": [
      "10000 has been deposited. New balance is 15000\n",
      "500 has been withdrawn. New balance is 14500\n",
      "Account Number : 2364685769865434\n",
      "Account Balance : 14500\n"
     ]
    },
    {
     "ename": "AttributeError",
     "evalue": "'BankAccount' object has no attribute '__balance'",
     "output_type": "error",
     "traceback": [
      "\u001b[1;31m---------------------------------------------------------------------------\u001b[0m",
      "\u001b[1;31mAttributeError\u001b[0m                            Traceback (most recent call last)",
      "Cell \u001b[1;32mIn[11], line 25\u001b[0m\n\u001b[0;32m     23\u001b[0m a1\u001b[38;5;241m.\u001b[39mwithdraw(\u001b[38;5;241m500\u001b[39m)\n\u001b[0;32m     24\u001b[0m a1\u001b[38;5;241m.\u001b[39mgetDetails()\n\u001b[1;32m---> 25\u001b[0m \u001b[43ma1\u001b[49m\u001b[38;5;241;43m.\u001b[39;49m\u001b[43m__balance\u001b[49m()\n",
      "\u001b[1;31mAttributeError\u001b[0m: 'BankAccount' object has no attribute '__balance'"
     ]
    }
   ],
   "source": [
    "class BankAccount:\n",
    "    def __init__(self,account_number,balance):\n",
    "        self.__account_number=account_number\n",
    "        self.__balance=balance\n",
    "    def deposit(self,amount):\n",
    "        if amount>0:\n",
    "            self.__balance+=amount\n",
    "            print(f\"{amount} has been deposited. New balance is {self.__balance}\")\n",
    "        else :\n",
    "            print(\"Invalid Amount\")\n",
    "    def withdraw(self,amount):\n",
    "        if amount>self.__balance:\n",
    "            print(\"Insufficient Balance\")\n",
    "        else:\n",
    "            self.__balance-=amount\n",
    "            print(f\"{amount} has been withdrawn. New balance is {self.__balance}\")\n",
    "    def getDetails(self):\n",
    "        print(f\"Account Number : {self.__account_number}\")\n",
    "        print(f\"Account Balance : {self.__balance}\")\n",
    "\n",
    "a1=BankAccount(\"2364685769865434\",5000)\n",
    "a1.deposit(10000)\n",
    "a1.withdraw(500)\n",
    "a1.getDetails()\n",
    "a1.__balance()\n"
   ]
  },
  {
   "cell_type": "code",
   "execution_count": 17,
   "id": "39d39105",
   "metadata": {},
   "outputs": [
    {
     "name": "stdout",
     "output_type": "stream",
     "text": [
      "Account Number : 2364685769865434\n",
      "Account Balance : 5000\n",
      "Account Number : 2364685769865434\n",
      "Account Balance : 500\n"
     ]
    }
   ],
   "source": [
    "class BankAccount:\n",
    "    def __init__(self,account_number,balance):\n",
    "        self.__account_number=account_number\n",
    "        self.__balance=balance\n",
    "    def deposit(self,amount):\n",
    "        if amount>0:\n",
    "            self.__balance+=amount\n",
    "            print(f\"{amount} has been deposited. New balance is {self.__balance}\")\n",
    "        else :\n",
    "            print(\"Invalid Amount\")\n",
    "    def withdraw(self,amount):\n",
    "        if amount>self.__balance:\n",
    "            print(\"Insufficient Balance\")\n",
    "        else:\n",
    "            self.__balance-=amount\n",
    "            print(f\"{amount} has been withdrawn. New balance is {self.__balance}\")\n",
    "    @property\n",
    "    def balance(self):   # getter\n",
    "        return self.__balance\n",
    "        \n",
    "    @balance.setter\n",
    "    def set_balance(self,balance):\n",
    "        if balance<0:\n",
    "            print(\"Balance cannot be set to negative\")\n",
    "        else:\n",
    "            self.__balance=balance\n",
    "    def get_details(self):\n",
    "        print(f\"Account Number : {self.__account_number}\")\n",
    "        print(f\"Account Balance : {self.__balance}\")\n",
    "\n",
    "a1=BankAccount(\"2364685769865434\",5000)\n",
    "a1.get_details()\n",
    "a1.set_balance=500\n",
    "a1.get_details()\n"
   ]
  },
  {
   "cell_type": "code",
   "execution_count": 24,
   "id": "ffb1142d",
   "metadata": {},
   "outputs": [
    {
     "name": "stdout",
     "output_type": "stream",
     "text": [
      "Pradyumn 25 gdsfhlk\n",
      "Age cannot be negative\n",
      "P Bisht 25 gdsfhlk\n"
     ]
    }
   ],
   "source": [
    "class Person:\n",
    "    def __init__(self,name,age):\n",
    "        self.__name=name\n",
    "        self.__age=age\n",
    "    @property\n",
    "    def name(self):\n",
    "        return self.__name\n",
    "    @property\n",
    "    def age(self):\n",
    "        return self.__age\n",
    "    @name.setter\n",
    "    def set_name(self,name):\n",
    "        self.__name=name\n",
    "    @age.setter\n",
    "    def set_age(self,age):\n",
    "        if age<0:\n",
    "            print(\"Age cannot be negative\")\n",
    "        else:\n",
    "            self.__age=age\n",
    "\n",
    "class Student(Person):\n",
    "    def __init__(self,name,age,student_id):\n",
    "        super().__init__(name,age)\n",
    "        self.student_id=student_id\n",
    "    \n",
    "s1=Student('Pradyumn',25,'gdsfhlk')\n",
    "print(s1.name,s1.age,s1.student_id)\n",
    "s1.set_name='P Bisht'\n",
    "s1.set_age=-1\n",
    "print(s1.name,s1.age,s1.student_id)\n",
    "        "
   ]
  },
  {
   "cell_type": "code",
   "execution_count": 26,
   "id": "113b937d",
   "metadata": {},
   "outputs": [
    {
     "name": "stdout",
     "output_type": "stream",
     "text": [
      "Meow!\n",
      "Woff!\n"
     ]
    }
   ],
   "source": [
    "class Animal:\n",
    "    def speak():\n",
    "        pass\n",
    "class Cat(Animal):\n",
    "    def speak(self):\n",
    "        print(\"Meow!\")\n",
    "class Dog(Animal):\n",
    "    def speak(self):\n",
    "        print(\"Woff!\")\n",
    "\n",
    "c=Cat()\n",
    "d=Dog()\n",
    "Animals=[c,d]\n",
    "for animal in Animals:\n",
    "    animal.speak()"
   ]
  },
  {
   "cell_type": "code",
   "execution_count": 27,
   "id": "8a31e21f",
   "metadata": {},
   "outputs": [
    {
     "name": "stdout",
     "output_type": "stream",
     "text": [
      "Full time emp salary is 1000\n",
      "Part time emp salary is 750\n"
     ]
    }
   ],
   "source": [
    "from abc import ABC,abstractmethod\n",
    "\n",
    "class Employee(ABC):\n",
    "    @abstractmethod\n",
    "    def calculate_salary():\n",
    "        pass\n",
    "class FullTimeEmployee(Employee):\n",
    "    def calculate_salary(self):\n",
    "        print(\"Full time emp salary is 1000\")\n",
    "class PartTimeEmployee(Employee):\n",
    "    def calculate_salary(self):\n",
    "        print(\"Part time emp salary is 750\")\n",
    "f1=FullTimeEmployee()\n",
    "p1=PartTimeEmployee()\n",
    "f1.calculate_salary()\n",
    "p1.calculate_salary()"
   ]
  },
  {
   "cell_type": "code",
   "execution_count": 30,
   "id": "137d1681",
   "metadata": {},
   "outputs": [
    {
     "name": "stdout",
     "output_type": "stream",
     "text": [
      "H234 Heinz Ketchup 200\n",
      "Price cannot be Negative\n",
      "KK234 Kissan Ketchup 200\n"
     ]
    }
   ],
   "source": [
    "class Product:\n",
    "    def __init__(self,product_id,name,price):\n",
    "        self.__product_id=product_id\n",
    "        self.__name=name\n",
    "        self.__price=price\n",
    "    @property\n",
    "    def product_id(self):\n",
    "        return self.__product_id\n",
    "    @property\n",
    "    def name(self):\n",
    "        return self.__name\n",
    "    @property\n",
    "    def price(self):\n",
    "        return self.__price\n",
    "    @product_id.setter\n",
    "    def set_product_id(self,pid):\n",
    "        self.__product_id=pid\n",
    "    @name.setter\n",
    "    def set_name(self,name):\n",
    "        self.__name=name\n",
    "    @price.setter\n",
    "    def set_price(self,price):\n",
    "        if price<0:\n",
    "            print(\"Price cannot be Negative\")\n",
    "        else:\n",
    "            self.__price=price\n",
    "\n",
    "ketchup=Product('H234','Heinz Ketchup',200)\n",
    "print(ketchup.product_id,ketchup.name,ketchup.price)\n",
    "ketchup.set_name='Kissan Ketchup'\n",
    "ketchup.set_product_id='KK234'\n",
    "ketchup.set_price=-100\n",
    "print(ketchup.product_id,ketchup.name,ketchup.price)"
   ]
  },
  {
   "cell_type": "code",
   "execution_count": 33,
   "id": "6283d9fc",
   "metadata": {},
   "outputs": [
    {
     "name": "stdout",
     "output_type": "stream",
     "text": [
      "(3 , 3)\n"
     ]
    }
   ],
   "source": [
    "class Vector:\n",
    "    def __init__(self,x,y):\n",
    "        self.x=x\n",
    "        self.y=y\n",
    "    \n",
    "    def __add__(self,Obj):\n",
    "        return Vector(self.x+Obj.x,self.y+Obj.y)\n",
    "    def __str__(self):\n",
    "        return f\"({self.x} , {self.y})\"\n",
    "v1=Vector(1,2)\n",
    "v2=Vector(2,1)\n",
    "print(v1+v2)"
   ]
  },
  {
   "cell_type": "code",
   "execution_count": 37,
   "id": "496e0abe",
   "metadata": {},
   "outputs": [
    {
     "name": "stdout",
     "output_type": "stream",
     "text": [
      "55\n",
      "30\n"
     ]
    }
   ],
   "source": [
    "from abc import ABC,abstractmethod\n",
    "class Appliance(ABC):\n",
    "    @property\n",
    "    @abstractmethod\n",
    "    def power(self):\n",
    "        pass\n",
    "\n",
    "class Refrigerator(Appliance):\n",
    "    power=30\n",
    "    def __init__(self,power):\n",
    "        self._power=power\n",
    "    @property\n",
    "    def power(self):\n",
    "        return self._power\n",
    "\n",
    "class WashingMachine(Appliance):\n",
    "    power=55\n",
    "    def __init__(self,power):\n",
    "        self._power=power\n",
    "    @property\n",
    "    def power(self):\n",
    "        return self._power\n",
    "\n",
    "r1=Refrigerator(55)\n",
    "print(r1.power)\n",
    "w1=WashingMachine(30)\n",
    "print(w1.power)\n"
   ]
  },
  {
   "cell_type": "code",
   "execution_count": 38,
   "id": "9c75bc45",
   "metadata": {},
   "outputs": [
    {
     "name": "stdout",
     "output_type": "stream",
     "text": [
      "5698875 10000 0.5\n"
     ]
    }
   ],
   "source": [
    "class Account:\n",
    "    def __init__(self,account_number,balance):\n",
    "        self.__account_number=account_number\n",
    "        self.__balance=balance\n",
    "    @property\n",
    "    def account_number(self):\n",
    "        return self.__account_number\n",
    "    @property\n",
    "    def balance(self):\n",
    "        return self.__balance\n",
    "    @account_number.setter\n",
    "    def set_account_number(self,accNum):\n",
    "        self.__account_number=accNum\n",
    "    @balance.setter\n",
    "    def set_balance(self,bal):\n",
    "        self.__balance=bal\n",
    "\n",
    "class SavingsAccount(Account):\n",
    "    def __init__(self,account_number,balance,intrest_rate):\n",
    "        super().__init__(account_number,balance)\n",
    "        self.intrest_rate=intrest_rate\n",
    "\n",
    "sacc=SavingsAccount(5698875,10000,0.5)\n",
    "print(sacc.account_number,sacc.balance,sacc.intrest_rate)\n"
   ]
  },
  {
   "cell_type": "code",
   "execution_count": 39,
   "id": "4f1db2d7",
   "metadata": {},
   "outputs": [
    {
     "name": "stdout",
     "output_type": "stream",
     "text": [
      "Superhero flies\n",
      "Superhero swims\n"
     ]
    }
   ],
   "source": [
    "class Flyer:\n",
    "    def fly(self):\n",
    "        print(\"He flies\")\n",
    "\n",
    "class Swimmer:\n",
    "    def swim(self):\n",
    "        print(\"He swims\")\n",
    "class Superhero(Flyer,Swimmer):\n",
    "    def fly(self):\n",
    "        print(\"Superhero flies\")\n",
    "    def swim(self):\n",
    "        print(\"Superhero swims\")\n",
    "s1=Superhero()\n",
    "s1.fly()\n",
    "s1.swim()"
   ]
  },
  {
   "cell_type": "code",
   "execution_count": 51,
   "id": "23be1aa6",
   "metadata": {},
   "outputs": [
    {
     "name": "stdout",
     "output_type": "stream",
     "text": [
      "Engineer works\n",
      "Doctor works\n"
     ]
    }
   ],
   "source": [
    "from abc import ABC,abstractmethod\n",
    "\n",
    "class Worker(ABC):\n",
    "    @abstractmethod\n",
    "    def works(self):\n",
    "        pass\n",
    "\n",
    "class Engineer(Worker):\n",
    "    def works(self):\n",
    "        print(\"Engineer works\")\n",
    "\n",
    "class Doctor(Worker):\n",
    "    def works(self):\n",
    "        print(\"Doctor works\")\n",
    "\n",
    "class Scientist(Engineer,Doctor):\n",
    "    def works(self):\n",
    "        Engineer.works(self) \n",
    "        Doctor.works(self)\n",
    "       \n",
    "\n",
    "sci=Scientist()\n",
    "sci.works()"
   ]
  }
 ],
 "metadata": {
  "kernelspec": {
   "display_name": "Python 3",
   "language": "python",
   "name": "python3"
  },
  "language_info": {
   "codemirror_mode": {
    "name": "ipython",
    "version": 3
   },
   "file_extension": ".py",
   "mimetype": "text/x-python",
   "name": "python",
   "nbconvert_exporter": "python",
   "pygments_lexer": "ipython3",
   "version": "3.10.0"
  }
 },
 "nbformat": 4,
 "nbformat_minor": 5
}
