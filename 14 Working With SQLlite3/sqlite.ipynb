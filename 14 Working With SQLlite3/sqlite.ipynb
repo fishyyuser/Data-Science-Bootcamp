{
 "cells": [
  {
   "cell_type": "code",
   "execution_count": 2,
   "id": "e484e5c2",
   "metadata": {},
   "outputs": [],
   "source": [
    "import sqlite3 as sql"
   ]
  },
  {
   "cell_type": "markdown",
   "id": "3bd11c5a",
   "metadata": {},
   "source": [
    "### Assignment 1: Creating and Connecting to a Database\n",
    "\n",
    "1. Write a Python function to create a new SQLite3 database named `test.db`.\n"
   ]
  },
  {
   "cell_type": "code",
   "execution_count": 5,
   "id": "cb8527cf",
   "metadata": {},
   "outputs": [],
   "source": [
    "conn=sql.connect('test.db')"
   ]
  },
  {
   "cell_type": "markdown",
   "id": "c654e9d6",
   "metadata": {},
   "source": [
    "2. Write a Python function to create a table named `employees` with columns `id` (integer), `name` (text), `age` (integer), and `department` (text) in the `test.db` database."
   ]
  },
  {
   "cell_type": "code",
   "execution_count": 6,
   "id": "649569f9",
   "metadata": {},
   "outputs": [],
   "source": [
    "cursor=conn.cursor()"
   ]
  },
  {
   "cell_type": "code",
   "execution_count": 11,
   "id": "ae3a9503",
   "metadata": {},
   "outputs": [],
   "source": [
    "cursor.execute('''\n",
    "Create table if not Exists employees(\n",
    "    id Integer Primary Key,\n",
    "    name Text Not Null,\n",
    "    age Integer,\n",
    "    department Text\n",
    "    )\n",
    "''')\n",
    "conn.commit()"
   ]
  },
  {
   "cell_type": "code",
   "execution_count": 17,
   "id": "7f6a199d",
   "metadata": {},
   "outputs": [
    {
     "name": "stdout",
     "output_type": "stream",
     "text": [
      "(0, 'id', 'INTEGER', 0, None, 1)\n",
      "(1, 'name', 'TEXT', 1, None, 0)\n",
      "(2, 'age', 'INTEGER', 0, None, 0)\n",
      "(3, 'department', 'TEXT', 0, None, 0)\n"
     ]
    }
   ],
   "source": [
    "cursor.execute('''\n",
    "PRAGMA table_info(employees)\n",
    "''')\n",
    "for row in cursor.fetchall():\n",
    "    print(row)"
   ]
  },
  {
   "cell_type": "markdown",
   "id": "97daaabe",
   "metadata": {},
   "source": [
    "### Assignment 2: Inserting Data\n",
    "\n",
    "1. Write a Python function to insert a new employee into the `employees` table."
   ]
  },
  {
   "cell_type": "code",
   "execution_count": 21,
   "id": "d6cc851b",
   "metadata": {},
   "outputs": [],
   "source": [
    "cursor.execute('''\n",
    "    Insert into employees\n",
    "    values(1 ,\"Pradyumn Bisht\",25,\"Computer Science\")\n",
    "''')\n",
    "conn.commit()"
   ]
  },
  {
   "cell_type": "code",
   "execution_count": 22,
   "id": "b25a7d00",
   "metadata": {},
   "outputs": [
    {
     "name": "stdout",
     "output_type": "stream",
     "text": [
      "(1, 'Pradyumn Bisht', 25, 'Computer Science')\n"
     ]
    }
   ],
   "source": [
    "cursor.execute(\n",
    "    '''\n",
    "        Select * \n",
    "        from employees\n",
    "    '''\n",
    ")\n",
    "for row in cursor.fetchall():\n",
    "    print(row)"
   ]
  },
  {
   "cell_type": "markdown",
   "id": "0da2b0a9",
   "metadata": {},
   "source": [
    "2. Insert at least 5 different employees into the `employees` table."
   ]
  },
  {
   "cell_type": "code",
   "execution_count": 23,
   "id": "379362cb",
   "metadata": {},
   "outputs": [],
   "source": [
    "cursor.execute('''\n",
    "    Insert into employees(id,name,age,department)\n",
    "    values\n",
    "    (2 ,\"Jack Jack\",3,\"Public Servent\"),\n",
    "    (3,\"Batman\",30,\"SuperHero\"),\n",
    "    (4,\"Thor Odinson\",1500,'Norse God'),\n",
    "    (5,\"Edward Snowden\",27,'NSA Conntractor'),\n",
    "    (6,\"Miles Morales\",15,\"HighSchooler\")\n",
    "\n",
    "''')\n",
    "conn.commit()"
   ]
  },
  {
   "cell_type": "code",
   "execution_count": 24,
   "id": "05f7f49b",
   "metadata": {},
   "outputs": [
    {
     "name": "stdout",
     "output_type": "stream",
     "text": [
      "(1, 'Pradyumn Bisht', 25, 'Computer Science')\n",
      "(2, 'Jack Jack', 3, 'Public Servent')\n",
      "(3, 'Batman', 30, 'SuperHero')\n",
      "(4, 'Thor Odinson', 1500, 'Norse God')\n",
      "(5, 'Edward Snowden', 27, 'NSA Conntractor')\n",
      "(6, 'Miles Morales', 15, 'HighSchooler')\n"
     ]
    }
   ],
   "source": [
    "cursor.execute(\n",
    "    '''\n",
    "        Select * \n",
    "        from employees\n",
    "    '''\n",
    ")\n",
    "for row in cursor.fetchall():\n",
    "    print(row)"
   ]
  },
  {
   "cell_type": "markdown",
   "id": "3e66cd41",
   "metadata": {},
   "source": [
    "### Assignment 3: Querying Data\n",
    "\n",
    "1. Write a Python function to fetch and display all records from the `employees` table."
   ]
  },
  {
   "cell_type": "code",
   "execution_count": 25,
   "id": "cf8cf88e",
   "metadata": {},
   "outputs": [
    {
     "name": "stdout",
     "output_type": "stream",
     "text": [
      "(1, 'Pradyumn Bisht', 25, 'Computer Science')\n",
      "(2, 'Jack Jack', 3, 'Public Servent')\n",
      "(3, 'Batman', 30, 'SuperHero')\n",
      "(4, 'Thor Odinson', 1500, 'Norse God')\n",
      "(5, 'Edward Snowden', 27, 'NSA Conntractor')\n",
      "(6, 'Miles Morales', 15, 'HighSchooler')\n"
     ]
    }
   ],
   "source": [
    "cursor.execute(\n",
    "    '''\n",
    "        Select * \n",
    "        from employees\n",
    "    '''\n",
    ")\n",
    "for row in cursor.fetchall():\n",
    "    print(row)"
   ]
  },
  {
   "cell_type": "markdown",
   "id": "fd1cb1ca",
   "metadata": {},
   "source": [
    "2. Write a Python function to fetch and display all employees from a specific department."
   ]
  },
  {
   "cell_type": "code",
   "execution_count": null,
   "id": "618e9705",
   "metadata": {},
   "outputs": [
    {
     "name": "stdout",
     "output_type": "stream",
     "text": [
      "(3, 'Batman', 30, 'SuperHero')\n"
     ]
    }
   ],
   "source": [
    "cursor.execute(\n",
    "    '''\n",
    "        Select * \n",
    "        from employees\n",
    "        where department=\"SuperHero\"\n",
    "        \n",
    "    '''\n",
    ")\n",
    "for row in cursor.fetchall():\n",
    "    print(row)"
   ]
  },
  {
   "cell_type": "markdown",
   "id": "3cdd7325",
   "metadata": {},
   "source": [
    "### Assignment 4: Updating Data\n",
    "\n",
    "1. Write a Python function to update the department of an employee based on their `id`."
   ]
  },
  {
   "cell_type": "code",
   "execution_count": 31,
   "id": "0f604c29",
   "metadata": {},
   "outputs": [
    {
     "name": "stdout",
     "output_type": "stream",
     "text": [
      "(1, 'Pradyumn Bisht', 25, 'Computer Science')\n"
     ]
    }
   ],
   "source": [
    "cursor.execute(\n",
    "    '''\n",
    "        Select * \n",
    "        from employees\n",
    "        where id=1\n",
    "       \n",
    "    '''\n",
    ")\n",
    "for row in cursor.fetchall():\n",
    "    print(row)"
   ]
  },
  {
   "cell_type": "code",
   "execution_count": 34,
   "id": "e23815d0",
   "metadata": {},
   "outputs": [
    {
     "name": "stdout",
     "output_type": "stream",
     "text": [
      "(1, 'Pradyumn Bisht', 25, 'Data Scientist')\n"
     ]
    }
   ],
   "source": [
    "cursor.execute(\n",
    "    '''\n",
    "        UPDATE employees\n",
    "        set department=\"Data Scientist\"\n",
    "        where id=1\n",
    "       \n",
    "    '''\n",
    ")\n",
    "conn.commit()\n",
    "cursor.execute(\n",
    "    '''\n",
    "        Select * \n",
    "        from employees\n",
    "        where id=1\n",
    "       \n",
    "    '''\n",
    ")\n",
    "for row in cursor.fetchall():\n",
    "    print(row)"
   ]
  },
  {
   "cell_type": "markdown",
   "id": "d7cd5d49",
   "metadata": {},
   "source": [
    "2. Update the department of at least 2 employees and display the updated records."
   ]
  },
  {
   "cell_type": "code",
   "execution_count": 35,
   "id": "1f2488c7",
   "metadata": {},
   "outputs": [
    {
     "name": "stdout",
     "output_type": "stream",
     "text": [
      "(1, 'Pradyumn Bisht', 25, 'Data Scientist')\n",
      "(2, 'Jack Jack', 3, 'Public Servent')\n",
      "(3, 'Batman', 30, 'SuperHero')\n",
      "(4, 'Thor Odinson', 1500, 'Norse God')\n",
      "(5, 'Edward Snowden', 27, 'NSA Conntractor')\n",
      "(6, 'Miles Morales', 15, 'HighSchooler')\n"
     ]
    }
   ],
   "source": [
    "cursor.execute(\n",
    "    '''\n",
    "        Select * \n",
    "        from employees\n",
    "       \n",
    "    '''\n",
    ")\n",
    "for row in cursor.fetchall():\n",
    "    print(row)"
   ]
  },
  {
   "cell_type": "code",
   "execution_count": 38,
   "id": "c60c629e",
   "metadata": {},
   "outputs": [
    {
     "name": "stdout",
     "output_type": "stream",
     "text": [
      "(1, 'Pradyumn Bisht', 25, 'Data Scientist')\n",
      "(2, 'Jack Jack', 3, 'Public Servent')\n",
      "(3, 'Batman', 30, 'Hero')\n",
      "(4, 'Thor Odinson', 1500, 'Hero')\n",
      "(5, 'Edward Snowden', 27, 'NSA Conntractor')\n",
      "(6, 'Miles Morales', 15, 'HighSchooler')\n"
     ]
    }
   ],
   "source": [
    "cursor.execute(\n",
    "    '''\n",
    "        UPDATE employees\n",
    "        set department=\"Hero\"\n",
    "        where id=3 OR id= 4\n",
    "       \n",
    "    '''\n",
    ")\n",
    "conn.commit()\n",
    "cursor.execute(\n",
    "    '''\n",
    "        Select * \n",
    "        from employees\n",
    "       \n",
    "    '''\n",
    ")\n",
    "for row in cursor.fetchall():\n",
    "    print(row)"
   ]
  },
  {
   "cell_type": "markdown",
   "id": "113cda8b",
   "metadata": {},
   "source": [
    "### Assignment 5: Deleting Data\n",
    "\n",
    "1. Write a Python function to delete an employee from the `employees` table based on their `id`."
   ]
  },
  {
   "cell_type": "code",
   "execution_count": 39,
   "id": "8ebc648e",
   "metadata": {},
   "outputs": [
    {
     "name": "stdout",
     "output_type": "stream",
     "text": [
      "(1, 'Pradyumn Bisht', 25, 'Data Scientist')\n",
      "(2, 'Jack Jack', 3, 'Public Servent')\n",
      "(3, 'Batman', 30, 'Hero')\n",
      "(4, 'Thor Odinson', 1500, 'Hero')\n",
      "(5, 'Edward Snowden', 27, 'NSA Conntractor')\n",
      "(6, 'Miles Morales', 15, 'HighSchooler')\n"
     ]
    }
   ],
   "source": [
    "cursor.execute(\n",
    "    '''\n",
    "        Select * \n",
    "        from employees\n",
    "       \n",
    "    '''\n",
    ")\n",
    "for row in cursor.fetchall():\n",
    "    print(row)"
   ]
  },
  {
   "cell_type": "code",
   "execution_count": 40,
   "id": "97203ab1",
   "metadata": {},
   "outputs": [],
   "source": [
    "cursor.execute('''\n",
    "    DELETE from employees\n",
    "    where id=5\n",
    "''')\n",
    "conn.commit()"
   ]
  },
  {
   "cell_type": "code",
   "execution_count": 41,
   "id": "0d5a138c",
   "metadata": {},
   "outputs": [
    {
     "name": "stdout",
     "output_type": "stream",
     "text": [
      "(1, 'Pradyumn Bisht', 25, 'Data Scientist')\n",
      "(2, 'Jack Jack', 3, 'Public Servent')\n",
      "(3, 'Batman', 30, 'Hero')\n",
      "(4, 'Thor Odinson', 1500, 'Hero')\n",
      "(6, 'Miles Morales', 15, 'HighSchooler')\n"
     ]
    }
   ],
   "source": [
    "cursor.execute(\n",
    "    '''\n",
    "        Select * \n",
    "        from employees\n",
    "       \n",
    "    '''\n",
    ")\n",
    "for row in cursor.fetchall():\n",
    "    print(row)"
   ]
  },
  {
   "cell_type": "markdown",
   "id": "66e60690",
   "metadata": {},
   "source": [
    "2. Delete at least 1 employee and display the remaining records."
   ]
  },
  {
   "cell_type": "code",
   "execution_count": 42,
   "id": "755523a1",
   "metadata": {},
   "outputs": [],
   "source": [
    "cursor.execute('''\n",
    "    DELETE from employees\n",
    "    where id=6\n",
    "''')\n",
    "conn.commit()"
   ]
  },
  {
   "cell_type": "code",
   "execution_count": 43,
   "id": "2dfb02b1",
   "metadata": {},
   "outputs": [
    {
     "name": "stdout",
     "output_type": "stream",
     "text": [
      "(1, 'Pradyumn Bisht', 25, 'Data Scientist')\n",
      "(2, 'Jack Jack', 3, 'Public Servent')\n",
      "(3, 'Batman', 30, 'Hero')\n",
      "(4, 'Thor Odinson', 1500, 'Hero')\n"
     ]
    }
   ],
   "source": [
    "cursor.execute(\n",
    "    '''\n",
    "        Select * \n",
    "        from employees\n",
    "       \n",
    "    '''\n",
    ")\n",
    "for row in cursor.fetchall():\n",
    "    print(row)"
   ]
  },
  {
   "cell_type": "markdown",
   "id": "90bd1bb2",
   "metadata": {},
   "source": [
    "### Assignment 6: Advanced Queries\n",
    "\n",
    "1. Write a Python function to fetch and display employees older than a certain age."
   ]
  },
  {
   "cell_type": "code",
   "execution_count": 44,
   "id": "d320efad",
   "metadata": {},
   "outputs": [
    {
     "name": "stdout",
     "output_type": "stream",
     "text": [
      "(1, 'Pradyumn Bisht', 25, 'Data Scientist')\n",
      "(3, 'Batman', 30, 'Hero')\n",
      "(4, 'Thor Odinson', 1500, 'Hero')\n"
     ]
    }
   ],
   "source": [
    "cursor.execute(\n",
    "    '''\n",
    "        Select * \n",
    "        from employees\n",
    "        where age>24\n",
    "       \n",
    "    '''\n",
    ")\n",
    "for row in cursor.fetchall():\n",
    "    print(row)"
   ]
  },
  {
   "cell_type": "markdown",
   "id": "1629ba06",
   "metadata": {},
   "source": [
    "2. Write a Python function to fetch and display employees whose names start with a specific letter."
   ]
  },
  {
   "cell_type": "code",
   "execution_count": 46,
   "id": "908d1ae7",
   "metadata": {},
   "outputs": [
    {
     "name": "stdout",
     "output_type": "stream",
     "text": [
      "(3, 'Batman', 30, 'Hero')\n"
     ]
    }
   ],
   "source": [
    "cursor.execute(\n",
    "    '''\n",
    "        Select * \n",
    "        from employees\n",
    "        where name LIKE 'B%'\n",
    "       \n",
    "    '''\n",
    ")\n",
    "for row in cursor.fetchall():\n",
    "    print(row)"
   ]
  },
  {
   "cell_type": "markdown",
   "id": "cbf781e1",
   "metadata": {},
   "source": [
    "### Assignment 7: Handling Transactions\n",
    "\n",
    "1. Write a Python function to insert multiple employees into the `employees` table in a single transaction. Ensure that if any insertion fails, none of the insertions are committed.\n"
   ]
  },
  {
   "cell_type": "code",
   "execution_count": 49,
   "id": "559ae110",
   "metadata": {},
   "outputs": [],
   "source": [
    "data=(\n",
    " (11, 'Tony Stark', 38, 'Industrialist'),\n",
    " (12, 'Bruce Banner', 35, 'Nuclear Scientist'),\n",
    " (13, 'Clark Kent', 28, 'Newspaper Reporter'),\n",
    " (14, 'Peter Parker', 18, 'Photographer'),\n",
    " (15, 'Charlers Xavier', 45, 'Scientist')\n",
    ")\n"
   ]
  },
  {
   "cell_type": "code",
   "execution_count": 51,
   "id": "73241549",
   "metadata": {},
   "outputs": [],
   "source": [
    "\n",
    "try:\n",
    "    conn.execute(\"BEGIN\")\n",
    "    cursor.executemany('''\n",
    "    Insert into employees(id,name,age,department)\n",
    "    values(?,?,?,?)\n",
    "    ''',data)\n",
    "    conn.commit()\n",
    "except Exception as e:\n",
    "    conn.rollback()\n",
    "    print(\"An Error Occured :\",e)"
   ]
  },
  {
   "cell_type": "code",
   "execution_count": 52,
   "id": "a2f73ede",
   "metadata": {},
   "outputs": [
    {
     "name": "stdout",
     "output_type": "stream",
     "text": [
      "(1, 'Pradyumn Bisht', 25, 'Data Scientist')\n",
      "(2, 'Jack Jack', 3, 'Public Servent')\n",
      "(3, 'Batman', 30, 'Hero')\n",
      "(4, 'Thor Odinson', 1500, 'Hero')\n",
      "(11, 'Tony Stark', 38, 'Industrialist')\n",
      "(12, 'Bruce Banner', 35, 'Nuclear Scientist')\n",
      "(13, 'Clark Kent', 28, 'Newspaper Reporter')\n",
      "(14, 'Peter Parker', 18, 'Photographer')\n",
      "(15, 'Charlers Xavier', 45, 'Scientist')\n"
     ]
    }
   ],
   "source": [
    "cursor.execute('Select * from employees')\n",
    "for row in cursor.fetchall():\n",
    "    print(row)"
   ]
  },
  {
   "cell_type": "markdown",
   "id": "1526f691",
   "metadata": {},
   "source": [
    "2. Write a Python function to update the age of multiple employees in a single transaction. Ensure that if any update fails, none of the updates are committed."
   ]
  },
  {
   "cell_type": "code",
   "execution_count": 53,
   "id": "cebc47eb",
   "metadata": {},
   "outputs": [
    {
     "name": "stdout",
     "output_type": "stream",
     "text": [
      "(1, 'Pradyumn Bisht', 25, 'Data Scientist')\n",
      "(2, 'Jack Jack', 3, 'Public Servent')\n",
      "(3, 'Batman', 30, 'Hero')\n",
      "(4, 'Thor Odinson', 1500, 'Hero')\n",
      "(11, 'Tony Stark', 38, 'Industrialist')\n",
      "(12, 'Bruce Banner', 35, 'Nuclear Scientist')\n",
      "(13, 'Clark Kent', 28, 'Newspaper Reporter')\n",
      "(14, 'Peter Parker', 18, 'Photographer')\n",
      "(15, 'Charlers Xavier', 45, 'Scientist')\n"
     ]
    }
   ],
   "source": [
    "cursor.execute('Select * from employees')\n",
    "for row in cursor.fetchall():\n",
    "    print(row)"
   ]
  },
  {
   "cell_type": "code",
   "execution_count": 55,
   "id": "db8358ef",
   "metadata": {},
   "outputs": [],
   "source": [
    "try:\n",
    "    conn.execute(\"BEGIN\")\n",
    "    cursor.execute('''\n",
    "        UPDATE employees\n",
    "        set age=age+2\n",
    "        where name like 'B%'\n",
    "    ''')\n",
    "    conn.commit()\n",
    "except Exception as e:\n",
    "    conn.rollback()\n",
    "    print(\"An Error Occured :\",e)"
   ]
  },
  {
   "cell_type": "code",
   "execution_count": 56,
   "id": "a6fd2d66",
   "metadata": {},
   "outputs": [
    {
     "name": "stdout",
     "output_type": "stream",
     "text": [
      "(1, 'Pradyumn Bisht', 25, 'Data Scientist')\n",
      "(2, 'Jack Jack', 3, 'Public Servent')\n",
      "(3, 'Batman', 32, 'Hero')\n",
      "(4, 'Thor Odinson', 1500, 'Hero')\n",
      "(11, 'Tony Stark', 38, 'Industrialist')\n",
      "(12, 'Bruce Banner', 37, 'Nuclear Scientist')\n",
      "(13, 'Clark Kent', 28, 'Newspaper Reporter')\n",
      "(14, 'Peter Parker', 18, 'Photographer')\n",
      "(15, 'Charlers Xavier', 45, 'Scientist')\n"
     ]
    }
   ],
   "source": [
    "cursor.execute('Select * from employees')\n",
    "for row in cursor.fetchall():\n",
    "    print(row)"
   ]
  },
  {
   "cell_type": "markdown",
   "id": "1d1a7586",
   "metadata": {},
   "source": [
    "### Assignment 8: Creating Relationships\n",
    "\n",
    "1. Create a new table named `departments` with columns `id` (integer) and `name` (text).\n"
   ]
  },
  {
   "cell_type": "code",
   "execution_count": 57,
   "id": "71fadeda",
   "metadata": {},
   "outputs": [],
   "source": [
    "cursor.execute('''\n",
    "    Create Table if not exists departments(\n",
    "        id integer primary key,\n",
    "        name text not null\n",
    "    )\n",
    "''')\n",
    "conn.commit()"
   ]
  },
  {
   "cell_type": "code",
   "execution_count": 59,
   "id": "fda1cfce",
   "metadata": {},
   "outputs": [
    {
     "name": "stdout",
     "output_type": "stream",
     "text": [
      "(0, 'id', 'INTEGER', 0, None, 1)\n",
      "(1, 'name', 'TEXT', 1, None, 0)\n"
     ]
    }
   ],
   "source": [
    "cursor.execute('''\n",
    "PRAGMA table_info(departments)\n",
    "''')\n",
    "for row in cursor.fetchall():\n",
    "    print(row)"
   ]
  },
  {
   "cell_type": "markdown",
   "id": "eb5ac43f",
   "metadata": {},
   "source": [
    "2. Modify the `employees` table to include a foreign key referencing the `id` column in the `departments` table.\n"
   ]
  },
  {
   "cell_type": "code",
   "execution_count": 71,
   "id": "d25a38da",
   "metadata": {},
   "outputs": [],
   "source": [
    "cursor.execute('''\n",
    "    ALTER TABLE employees RENAME TO employees_old\n",
    "''')\n",
    "cursor.execute('''\n",
    "    CREATE TABLE employees (\n",
    "    id INTEGER Primary key,\n",
    "    name TEXT Not Null,\n",
    "    age INTEGER,\n",
    "    department TEXT,\n",
    "    FOREIGN KEY (id) REFERENCES departments(id)\n",
    ")\n",
    "''')\n",
    "conn.commit()"
   ]
  },
  {
   "cell_type": "code",
   "execution_count": 70,
   "id": "3fb86f35",
   "metadata": {},
   "outputs": [],
   "source": [
    "cursor.execute('''\n",
    "    INSERT INTO employees (id, names, age, department)\n",
    "    SELECT id, name, age, department FROM employees_old   \n",
    "\n",
    "''')\n",
    "cursor.execute('''\n",
    "     DROP TABLE employees_old\n",
    "''')\n",
    "conn.commit()"
   ]
  },
  {
   "cell_type": "code",
   "execution_count": 72,
   "id": "4e34aecf",
   "metadata": {},
   "outputs": [
    {
     "name": "stdout",
     "output_type": "stream",
     "text": [
      "(0, 'id', 'INTEGER', 0, None, 1)\n",
      "(1, 'name', 'TEXT', 1, None, 0)\n",
      "(2, 'age', 'INTEGER', 0, None, 0)\n",
      "(3, 'department', 'TEXT', 0, None, 0)\n"
     ]
    }
   ],
   "source": [
    "cursor.execute('PRAGMA table_info(employees)')\n",
    "for row in cursor.fetchall():\n",
    "    print(row)"
   ]
  },
  {
   "cell_type": "markdown",
   "id": "d2103099",
   "metadata": {},
   "source": [
    "3. Write a Python function to insert data into both the `departments` and `employees` tables, ensuring referential integrity."
   ]
  },
  {
   "cell_type": "code",
   "execution_count": 89,
   "id": "35bcc9d4",
   "metadata": {},
   "outputs": [],
   "source": [
    "### since we have added department.id as foreign key then we first need to add data to the departments table then only we can\n",
    "### add to employees table\n",
    "\n",
    "def insert_row(parent_table,child_table,row):\n",
    "    conn=sql.connect('test.db')\n",
    "    cursor=conn.cursor()\n",
    "\n",
    "    try:\n",
    "        cursor.execute(f'''\n",
    "            Insert into {parent_table} \n",
    "            values (?,?)\n",
    "        ''',(row['id'],row['name']))\n",
    "        conn.commit()\n",
    "    except Exception as e:\n",
    "        print(f\"An error occured inserting into {parent_table}: {e}\")\n",
    "    else:\n",
    "        try:\n",
    "            cursor.execute(f'''\n",
    "            Insert into {child_table} \n",
    "            values (?,?,?,?)\n",
    "        ''',(row['id'], row['name'], row['age'], row['department']))\n",
    "            conn.commit()\n",
    "        except Exception as e:\n",
    "            print(\"An error occured :\",e)\n",
    "    finally:\n",
    "        conn.close()\n",
    "\n",
    "row={\n",
    "    'id':33,\n",
    "    'name':'Wade wilson',\n",
    "    'age':30,\n",
    "    'department':'Assassin'\n",
    "}\n",
    "insert_row('departments','employees',row)"
   ]
  },
  {
   "cell_type": "code",
   "execution_count": 90,
   "id": "a73bf795",
   "metadata": {},
   "outputs": [
    {
     "name": "stdout",
     "output_type": "stream",
     "text": [
      "(33, 'Wade wilson', 30, 'Assassin')\n"
     ]
    }
   ],
   "source": [
    "cursor.execute('Select * from employees')\n",
    "for row in cursor.fetchall():\n",
    "    print(row)"
   ]
  },
  {
   "cell_type": "code",
   "execution_count": 91,
   "id": "91896122",
   "metadata": {},
   "outputs": [
    {
     "name": "stdout",
     "output_type": "stream",
     "text": [
      "(33, 'Wade wilson')\n"
     ]
    }
   ],
   "source": [
    "cursor.execute('Select * from departments')\n",
    "for row in cursor.fetchall():\n",
    "    print(row)"
   ]
  },
  {
   "cell_type": "markdown",
   "id": "6ec978c7",
   "metadata": {},
   "source": [
    "### Assignment 9: Indexing and Optimization\n",
    "\n",
    "1. Create an index on the `name` column of the `employees` table.\n"
   ]
  },
  {
   "cell_type": "code",
   "execution_count": 93,
   "id": "6285dc6d",
   "metadata": {},
   "outputs": [],
   "source": [
    "conn=sql.connect('test.db')\n",
    "cursor=conn.cursor()\n",
    "cursor.execute('''\n",
    "    create index if not exists idx_name\n",
    "    on employees(name)\n",
    "''')\n",
    "conn.commit()"
   ]
  },
  {
   "cell_type": "markdown",
   "id": "2bc68eb5",
   "metadata": {},
   "source": [
    "2. Write a Python function to fetch and display all employees whose names start with a specific letter. Compare the performance with and without the index."
   ]
  },
  {
   "cell_type": "code",
   "execution_count": 94,
   "id": "a2678141",
   "metadata": {},
   "outputs": [
    {
     "name": "stdout",
     "output_type": "stream",
     "text": [
      "(33, 'Wade wilson', 30, 'Assassin')\n"
     ]
    }
   ],
   "source": [
    "def fetch_names(table_name,letter):\n",
    "    conn=sql.connect('test.db')\n",
    "    cursor=conn.cursor()\n",
    "    cursor.execute(f'''\n",
    "        Select * from {table_name}\n",
    "        where name like '{letter}%'\n",
    "    ''')\n",
    "    for row in cursor.fetchall():\n",
    "        print(row)\n",
    "    conn.close()\n",
    "\n",
    "fetch_names('employees','W')\n"
   ]
  },
  {
   "cell_type": "markdown",
   "id": "0829fbdf",
   "metadata": {},
   "source": [
    "### Assignment 10: Backing Up and Restoring Data\n",
    "\n",
    "1. Write a Python function to back up the `test.db` database to a file named `backup.db`.\n"
   ]
  },
  {
   "cell_type": "code",
   "execution_count": 97,
   "id": "1651e0e6",
   "metadata": {},
   "outputs": [],
   "source": [
    "def backup(live_db,backup_db):\n",
    "    test_conn=sql.connect(live_db)\n",
    "    backup_conn=sql.connect(backup_db)\n",
    "\n",
    "    with backup_conn:\n",
    "        test_conn.backup(backup_conn,pages=0,progress=None)\n",
    "        \n",
    "    test_conn.close()\n",
    "    backup_conn.close()\n",
    "    \n",
    "backup('test.db','backup.db')"
   ]
  },
  {
   "cell_type": "markdown",
   "id": "3c655f69",
   "metadata": {},
   "source": [
    "2. Write a Python function to restore the `test.db` database from the `backup.db` file."
   ]
  },
  {
   "cell_type": "code",
   "execution_count": 98,
   "id": "c814533d",
   "metadata": {},
   "outputs": [],
   "source": [
    "def restore_db(backup_db,live_db):\n",
    "    restore_conn=sql.connect(live_db)\n",
    "    backup_conn=sql.connect(backup_db)\n",
    "\n",
    "    with restore_conn:\n",
    "        backup_conn.backup(restore_conn)\n",
    "        \n",
    "    restore_conn.close()\n",
    "    backup_conn.close()\n",
    "restore_db('backup.db','test.db')"
   ]
  }
 ],
 "metadata": {
  "kernelspec": {
   "display_name": "Python 3",
   "language": "python",
   "name": "python3"
  },
  "language_info": {
   "codemirror_mode": {
    "name": "ipython",
    "version": 3
   },
   "file_extension": ".py",
   "mimetype": "text/x-python",
   "name": "python",
   "nbconvert_exporter": "python",
   "pygments_lexer": "ipython3",
   "version": "3.10.0"
  }
 },
 "nbformat": 4,
 "nbformat_minor": 5
}
