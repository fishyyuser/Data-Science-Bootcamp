{
 "cells": [
  {
   "cell_type": "code",
   "execution_count": 2,
   "id": "2868a9c8",
   "metadata": {},
   "outputs": [],
   "source": [
    "lst=[\"apple\",\"banana\",\"cherry\",\"kiwi\",\"guava\"]"
   ]
  },
  {
   "cell_type": "code",
   "execution_count": 6,
   "id": "20630c88",
   "metadata": {},
   "outputs": [
    {
     "name": "stdout",
     "output_type": "stream",
     "text": [
      "['guava', 'cherry', 'apple']\n"
     ]
    }
   ],
   "source": [
    "print(lst[::-2])"
   ]
  },
  {
   "cell_type": "code",
   "execution_count": 14,
   "id": "20fa89de",
   "metadata": {},
   "outputs": [
    {
     "name": "stdout",
     "output_type": "stream",
     "text": [
      "[0, 1, 4, 0, 1]\n"
     ]
    }
   ],
   "source": [
    "l1=[x**2 for y in range(3,1,-1)  for x in range(y)]\n",
    "print(l1)"
   ]
  },
  {
   "cell_type": "code",
   "execution_count": 16,
   "id": "e42f1199",
   "metadata": {},
   "outputs": [
    {
     "name": "stdout",
     "output_type": "stream",
     "text": [
      "[1, 2, 3, 4, 5, 6, 7, 8, 9, 10, 11, 12, 13, 14, 15, 16, 17, 18, 19, 20]\n"
     ]
    }
   ],
   "source": [
    "lst=[i for i in range(1,21)]\n",
    "print(lst)"
   ]
  },
  {
   "cell_type": "code",
   "execution_count": 18,
   "id": "f8cb4366",
   "metadata": {},
   "outputs": [
    {
     "name": "stdout",
     "output_type": "stream",
     "text": [
      "1\n",
      "11\n",
      "20\n"
     ]
    }
   ],
   "source": [
    "print(lst[0])\n",
    "print(lst[len(lst)//2])\n",
    "print(lst[-1])"
   ]
  },
  {
   "cell_type": "code",
   "execution_count": 31,
   "id": "b5c4a167",
   "metadata": {},
   "outputs": [
    {
     "name": "stdout",
     "output_type": "stream",
     "text": [
      "[1, 2, 3, 4, 5, 6]\n",
      "[16, 17, 18, 19]\n",
      "[6, 7, 8, 9, 10, 11, 12, 13, 14, 15, 16]\n"
     ]
    }
   ],
   "source": [
    "print(lst[0:6])\n",
    "print(lst[-5:-1])\n",
    "print(lst[5:16])"
   ]
  },
  {
   "cell_type": "code",
   "execution_count": 33,
   "id": "4de42f8f",
   "metadata": {},
   "outputs": [
    {
     "name": "stdout",
     "output_type": "stream",
     "text": [
      "[1, 4, 9, 16, 25, 36, 49, 64, 81, 100]\n"
     ]
    }
   ],
   "source": [
    "l1=[x**2 for x in range(1,11)]\n",
    "print(l1)"
   ]
  },
  {
   "cell_type": "code",
   "execution_count": 34,
   "id": "552c71ce",
   "metadata": {},
   "outputs": [
    {
     "name": "stdout",
     "output_type": "stream",
     "text": [
      "[4, 16, 36, 64, 100]\n"
     ]
    }
   ],
   "source": [
    "l1=[x**2 for x in range(1,11) if x%2==0]\n",
    "print(l1)"
   ]
  },
  {
   "cell_type": "code",
   "execution_count": 43,
   "id": "12f8dae6",
   "metadata": {},
   "outputs": [
    {
     "name": "stdout",
     "output_type": "stream",
     "text": [
      "[6, 22, 15, 92, 59, 6, 18, 47, 12, 73, 27, 15, 90, 7, 18, 3, 5, 94, 62, 84, 42, 27, 28, 22, 60, 28, 72, 30, 84, 73]\n",
      "[94, 92, 90, 84, 84, 73, 73, 72, 62, 60, 59, 47, 42, 30, 28, 28, 27, 27, 22, 22, 18, 18, 15, 15, 12, 7, 6, 6, 5, 3]\n",
      "[94, 92, 90, 84, 73, 72, 62, 60, 59, 47, 42, 30, 28, 27, 22, 18, 15, 12, 7, 6, 5, 3]\n"
     ]
    }
   ],
   "source": [
    "import random\n",
    "l2=[random.randint(1,100) for _ in range(30)]\n",
    "print(l2)\n",
    "l2.sort(reverse=True)\n",
    "print(l2)\n",
    "for x in l2:\n",
    "    if l2.count(x)>1:\n",
    "        for _ in range(1,l2.count(x)):\n",
    "            l2.remove(x)\n",
    "print(l2)"
   ]
  },
  {
   "cell_type": "code",
   "execution_count": 48,
   "id": "aa2c2712",
   "metadata": {},
   "outputs": [
    {
     "name": "stdout",
     "output_type": "stream",
     "text": [
      "[[26, 9, 92], [93, 89, 92], [28, 97, 70]]\n",
      "92\n"
     ]
    }
   ],
   "source": [
    "import random\n",
    "l3=[[random.randint(1,100) for _ in range(3)] for _ in range(3)]\n",
    "print(l3)\n",
    "print(l3[1][2])"
   ]
  },
  {
   "cell_type": "code",
   "execution_count": 58,
   "id": "d512ce7c",
   "metadata": {},
   "outputs": [
    {
     "name": "stdout",
     "output_type": "stream",
     "text": [
      "[{'name': 'A1', 'score': 98}, {'name': 'A2', 'score': 29}, {'name': 'A3', 'score': 83}, {'name': 'A4', 'score': 31}]\n",
      "[{'name': 'A1', 'score': 98}, {'name': 'A3', 'score': 83}, {'name': 'A4', 'score': 31}, {'name': 'A2', 'score': 29}]\n"
     ]
    }
   ],
   "source": [
    "import random\n",
    "result=[{'name':\"A1\",'score':random.randint(25,100)},{'name':\"A2\",'score':random.randint(25,100)},{'name':\"A3\",'score':random.randint(25,100)},{'name':\"A4\",'score':random.randint(25,100)}]\n",
    "print(result)\n",
    "result.sort(key=lambda x:x['score'],reverse=True)\n",
    "print(result)"
   ]
  },
  {
   "cell_type": "code",
   "execution_count": 59,
   "id": "a03f7a81",
   "metadata": {},
   "outputs": [
    {
     "name": "stdout",
     "output_type": "stream",
     "text": [
      "[[59, 91, 34], [72, 72, 100], [18, 85, 52]]\n",
      "[[59, 72, 18], [91, 72, 85], [34, 100, 52]]\n"
     ]
    }
   ],
   "source": [
    "import random\n",
    "l3=[[random.randint(1,100) for _ in range(3)] for _ in range(3)]\n",
    "print(l3)\n",
    "for i in range(3):\n",
    "    for j in range(i):\n",
    "        l3[i][j],l3[j][i]=l3[j][i],l3[i][j]\n",
    "print(l3)"
   ]
  },
  {
   "cell_type": "code",
   "execution_count": 68,
   "id": "673e6f6a",
   "metadata": {},
   "outputs": [
    {
     "name": "stdout",
     "output_type": "stream",
     "text": [
      "[[37, 90, 77], [4, 63, 46], [68, 92, 70]]\n",
      "[37, 90, 77, 4, 63, 46, 68, 92, 70]\n"
     ]
    }
   ],
   "source": [
    "import random\n",
    "rand=random.randint(2,5)\n",
    "l3=[[random.randint(1,100) for _ in range(rand)] for _ in range(rand)]\n",
    "print(l3)\n",
    "r,c=len(l3),len(l3[0])\n",
    "flat=[ l3[x][y] for x in range(r) for y in range(c) ]\n",
    "print(flat)"
   ]
  },
  {
   "cell_type": "code",
   "execution_count": 71,
   "id": "5c3a0187",
   "metadata": {},
   "outputs": [
    {
     "name": "stdout",
     "output_type": "stream",
     "text": [
      "[1, 2, 3, 4, 5, 6, 7, 8, 9, 10]\n",
      "[1, 2, 4, 6, 8, 9, 10]\n",
      "[1, 2, 4, 6, 8, 99, 9, 10]\n"
     ]
    }
   ],
   "source": [
    "l1=[x for x in range (1,11)]\n",
    "print(l1)\n",
    "for x in range(6,1,-2):\n",
    "    l1.remove(l1[x])\n",
    "print(l1)\n",
    "l1.insert(5,99)\n",
    "print(l1)"
   ]
  },
  {
   "cell_type": "code",
   "execution_count": 106,
   "id": "df93c393",
   "metadata": {},
   "outputs": [
    {
     "name": "stdout",
     "output_type": "stream",
     "text": [
      "[1, 2, 3, 4, 5]\n",
      "['a', 'b', 'c', 'd', 'e']\n",
      "[(1, 'a'), (2, 'b'), (3, 'c'), (4, 'd'), (5, 'e')]\n"
     ]
    }
   ],
   "source": [
    "l1,l2=[1,2,3,4,5],['a','b','c','d','e']\n",
    "print(l1)\n",
    "print(l2)\n",
    "l3=[x for x in zip(l1,l2)]\n",
    "print(l3)"
   ]
  },
  {
   "cell_type": "code",
   "execution_count": null,
   "id": "3d7d3bf0",
   "metadata": {},
   "outputs": [],
   "source": [
    "def rev_list(lst):\n",
    "    return lst[::-1]"
   ]
  },
  {
   "cell_type": "code",
   "execution_count": 105,
   "id": "93466165",
   "metadata": {},
   "outputs": [
    {
     "name": "stdout",
     "output_type": "stream",
     "text": [
      "[[72, 9, 99], [55, 54, 47], [6, 7, 90]]\n",
      "7\n",
      "[[99, 47, 90], [9, 54, 7], [72, 55, 6]]\n"
     ]
    }
   ],
   "source": [
    "### roatation of the square list by n positions\n",
    "n= random.randint(1,20)\n",
    "d= random.randint(2,3)\n",
    "l4=[[random.randint(1,100) for _ in range(d) ] for _ in range(d)]\n",
    "print(l4)\n",
    "\n",
    "def rotate(lst,n):\n",
    "    n=n%4\n",
    "    d=len(lst) ## assuming square matrix so only 1 dimension req\n",
    "    if n==0:\n",
    "        return lst\n",
    "    else:\n",
    "        for _ in range(n):\n",
    "            for i in range(d):\n",
    "                for j in range(i):\n",
    "                    lst[i][j],lst[j][i]=lst[j][i],lst[i][j]\n",
    "            for x in range(d):\n",
    "                lst[x]=lst[x][::-1]\n",
    "    return lst\n",
    "print(n)\n",
    "print(rotate(l4,n))\n"
   ]
  },
  {
   "cell_type": "code",
   "execution_count": 89,
   "id": "48069cdf",
   "metadata": {},
   "outputs": [
    {
     "name": "stdout",
     "output_type": "stream",
     "text": [
      "[100, 99, 97, 100, 86, 100, 85, 97, 96, 95]\n",
      "[97, 88, 100, 90, 100, 86, 89, 100, 94, 90]\n",
      "[97, 100, 100, 86, 100]\n"
     ]
    }
   ],
   "source": [
    "def intersection_list(l1,l2):\n",
    "    smallest=[]\n",
    "    largest=[]\n",
    "    result=[]\n",
    "    if len(l1)>=len(l2):\n",
    "        smallest,largest=l2,l1\n",
    "    else:\n",
    "        smallest,largest=l1,l2\n",
    "    \n",
    "    for x in smallest:\n",
    "        if largest.count(x)>0:\n",
    "            result.append(x)\n",
    "    return result\n",
    "l1,l2=[random.randint(85,100) for _ in range(10)],[random.randint(85,100) for _ in range(10)]\n",
    "print(l1)\n",
    "print(l2)\n",
    "print(intersection_list(l1,l2))"
   ]
  }
 ],
 "metadata": {
  "kernelspec": {
   "display_name": "Python 3",
   "language": "python",
   "name": "python3"
  },
  "language_info": {
   "codemirror_mode": {
    "name": "ipython",
    "version": 3
   },
   "file_extension": ".py",
   "mimetype": "text/x-python",
   "name": "python",
   "nbconvert_exporter": "python",
   "pygments_lexer": "ipython3",
   "version": "3.10.18"
  }
 },
 "nbformat": 4,
 "nbformat_minor": 5
}
