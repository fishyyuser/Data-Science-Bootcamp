{
 "cells": [
  {
   "cell_type": "code",
   "execution_count": 3,
   "id": "aa01a73b",
   "metadata": {},
   "outputs": [
    {
     "name": "stdout",
     "output_type": "stream",
     "text": [
      "(1, 2, 3, 4, 5, 6, 7, 8, 9, 10)\n"
     ]
    }
   ],
   "source": [
    "first=tuple(x  for x in range(1,11))\n",
    "print(first)"
   ]
  },
  {
   "cell_type": "code",
   "execution_count": 4,
   "id": "1b988022",
   "metadata": {},
   "outputs": [
    {
     "name": "stdout",
     "output_type": "stream",
     "text": [
      "first ele :  1\n",
      "middle ele :  6\n",
      "last ele :  10\n"
     ]
    }
   ],
   "source": [
    "print(\"first ele : \",first[0])\n",
    "print(\"middle ele : \",first[len(first)//2])\n",
    "print(\"last ele : \",first[-1])"
   ]
  },
  {
   "cell_type": "code",
   "execution_count": 7,
   "id": "24c0f0f8",
   "metadata": {},
   "outputs": [
    {
     "name": "stdout",
     "output_type": "stream",
     "text": [
      "(1, 2, 3)\n",
      "(8, 9, 10)\n",
      "(3, 4, 5, 6)\n"
     ]
    }
   ],
   "source": [
    "print(first[:3])\n",
    "print(first[-3:])\n",
    "print(first[2:6])"
   ]
  },
  {
   "cell_type": "code",
   "execution_count": 14,
   "id": "6b837cfb",
   "metadata": {},
   "outputs": [
    {
     "name": "stdout",
     "output_type": "stream",
     "text": [
      "((97, 1, 31, 61, 4), (64, 28, 36, 3, 65), (75, 20, 15, 81, 76), (36, 90, 83, 71, 46), (49, 50, 34, 2, 51))\n"
     ]
    }
   ],
   "source": [
    "import random\n",
    "d=random.randint(2,5)\n",
    "mat_tuple=tuple(tuple(random.randint(1,100) for _ in range(d)) for _ in range(d))\n",
    "print(mat_tuple)"
   ]
  },
  {
   "cell_type": "code",
   "execution_count": 15,
   "id": "c6abb497",
   "metadata": {},
   "outputs": [
    {
     "name": "stdout",
     "output_type": "stream",
     "text": [
      "(1, 2, 3, 4, 5, 6)\n"
     ]
    }
   ],
   "source": [
    "t1,t2=(1,2,3),(4,5,6)\n",
    "t3=t1+t2\n",
    "print(t3)"
   ]
  },
  {
   "cell_type": "code",
   "execution_count": 17,
   "id": "58df4502",
   "metadata": {},
   "outputs": [
    {
     "name": "stdout",
     "output_type": "stream",
     "text": [
      "1  occurs  1  first index  0\n",
      "2  occurs  2  first index  1\n",
      "3  occurs  3  first index  3\n",
      "4  occurs  2  first index  6\n",
      "5  occurs  1  first index  8\n"
     ]
    }
   ],
   "source": [
    "t4=(1,2,2,3,3,3,4,4,5)\n",
    "for x in set(t4):\n",
    "    print(x,\" occurs \",t4.count(x),\" first index \",t4.index(x))"
   ]
  },
  {
   "cell_type": "code",
   "execution_count": 18,
   "id": "0e07f15b",
   "metadata": {},
   "outputs": [
    {
     "name": "stdout",
     "output_type": "stream",
     "text": [
      "1\n",
      "2\n",
      "3\n",
      "4\n",
      "5\n"
     ]
    }
   ],
   "source": [
    "t5=(1,2,3,4,5)\n",
    "a,b,c,d,e=t5\n",
    "print(a)\n",
    "print(b)\n",
    "print(c)\n",
    "print(d)\n",
    "print(e)"
   ]
  },
  {
   "cell_type": "code",
   "execution_count": 19,
   "id": "f81f7061",
   "metadata": {},
   "outputs": [
    {
     "name": "stdout",
     "output_type": "stream",
     "text": [
      "[1, 2, 3, 4, 5]  :  <class 'list'>\n",
      "(1, 2, 3, 4, 5)  :  <class 'tuple'>\n"
     ]
    }
   ],
   "source": [
    "lst=[x for x in range(1,6)]\n",
    "conv_tuple=tuple(lst)\n",
    "print(lst,\" : \",type(lst))\n",
    "print(conv_tuple,\" : \",type(conv_tuple))"
   ]
  },
  {
   "cell_type": "code",
   "execution_count": 20,
   "id": "4dafde35",
   "metadata": {},
   "outputs": [
    {
     "name": "stdout",
     "output_type": "stream",
     "text": [
      "((42, 57, 92), (56, 19, 42), (31, 28, 36))\n"
     ]
    }
   ],
   "source": [
    "mat_tuple=tuple(tuple(random.randint(1,100) for _ in range(3)) for _ in range(3))\n",
    "print(mat_tuple)"
   ]
  },
  {
   "cell_type": "code",
   "execution_count": 21,
   "id": "b4532a73",
   "metadata": {},
   "outputs": [
    {
     "name": "stdout",
     "output_type": "stream",
     "text": [
      "(1, 2, 3, 4, 5) <class 'tuple'>\n",
      "[1, 2, 3, 4, 5] <class 'list'>\n",
      "(1, 2, 3, 4, 5, 6) <class 'tuple'>\n"
     ]
    }
   ],
   "source": [
    "mat_tuple=tuple(x for x in range(1,6))\n",
    "print(mat_tuple,type(mat_tuple))\n",
    "conv_lst=list(mat_tuple)\n",
    "print(conv_lst,type(conv_lst))\n",
    "conv_lst.append(6)\n",
    "mat_tuple=tuple(conv_lst)\n",
    "print(mat_tuple,type(mat_tuple))"
   ]
  },
  {
   "cell_type": "code",
   "execution_count": 29,
   "id": "251cb26e",
   "metadata": {},
   "outputs": [
    {
     "name": "stdout",
     "output_type": "stream",
     "text": [
      "('S', 't', 'r', 'i', 'n', 'g')\n",
      "String\n"
     ]
    }
   ],
   "source": [
    "tup=tuple(\"String\")\n",
    "print(tup)\n",
    "st=\"\"\n",
    "for x in tup:\n",
    "    st+=x\n",
    "print(st)"
   ]
  },
  {
   "cell_type": "code",
   "execution_count": 30,
   "id": "fbb65e30",
   "metadata": {},
   "outputs": [
    {
     "name": "stdout",
     "output_type": "stream",
     "text": [
      "{(1, 2, 3): 5, (6, 7, 8): 10, (11, 12, 13): 15}\n"
     ]
    }
   ],
   "source": [
    "dict={\n",
    "    (1,2,3):5,\n",
    "    (6,7,8):10,\n",
    "    (11,12,13):15\n",
    "}\n",
    "print(dict)"
   ]
  },
  {
   "cell_type": "code",
   "execution_count": 47,
   "id": "7263cc0b",
   "metadata": {},
   "outputs": [
    {
     "name": "stdout",
     "output_type": "stream",
     "text": [
      "( 52 22 45 30 19 )\n",
      "( 87 48 16 66 9 )\n",
      "( 11 14 31 33 63 )\n",
      "( 15 2 50 3 52 )\n",
      "( 91 42 16 23 62 )\n"
     ]
    }
   ],
   "source": [
    "d=random.randint(1,5)\n",
    "mat_tuple=tuple(tuple(random.randint(1,100) for _ in range(d)) for _ in range(d))\n",
    "for tup in mat_tuple:\n",
    "    print(\"( \",end=\"\")\n",
    "    for x in tup:\n",
    "        print(x,end=\" \")\n",
    "    print(\")\")"
   ]
  },
  {
   "cell_type": "code",
   "execution_count": 40,
   "id": "bec9a678",
   "metadata": {},
   "outputs": [
    {
     "name": "stdout",
     "output_type": "stream",
     "text": [
      "(1, 2, 3, 4, 5)\n"
     ]
    }
   ],
   "source": [
    "tup=(1,2,2,3,3,3,4,4,5)\n",
    "tup=tuple(set(tup))\n",
    "print(tup)"
   ]
  },
  {
   "cell_type": "code",
   "execution_count": 44,
   "id": "dee2c2fc",
   "metadata": {},
   "outputs": [
    {
     "name": "stdout",
     "output_type": "stream",
     "text": [
      "(8, 3, 1, 8, 2, 7, 8, 8)\n",
      "minimum : 1\n",
      "maximum : 8\n",
      "sum : 45\n"
     ]
    }
   ],
   "source": [
    "tup=tuple(random.randint(1,10)  for _ in range(random.randint(5,15)))\n",
    "print(tup)\n",
    "mn=mx=tup[0]\n",
    "sum=0\n",
    "for x in tup:\n",
    "    if x<mn:\n",
    "        mn=x\n",
    "    if x>mx:\n",
    "        mx=x\n",
    "    sum+=x\n",
    "print(\"minimum :\",mn)\n",
    "print(\"maximum :\",mx)\n",
    "print(\"sum :\",sum)"
   ]
  }
 ],
 "metadata": {
  "kernelspec": {
   "display_name": "Python 3",
   "language": "python",
   "name": "python3"
  },
  "language_info": {
   "codemirror_mode": {
    "name": "ipython",
    "version": 3
   },
   "file_extension": ".py",
   "mimetype": "text/x-python",
   "name": "python",
   "nbconvert_exporter": "python",
   "pygments_lexer": "ipython3",
   "version": "3.10.18"
  }
 },
 "nbformat": 4,
 "nbformat_minor": 5
}
