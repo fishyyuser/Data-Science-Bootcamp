{
 "cells": [
  {
   "cell_type": "code",
   "execution_count": 1,
   "id": "d491673c",
   "metadata": {},
   "outputs": [
    {
     "name": "stdout",
     "output_type": "stream",
     "text": [
      "{1: 1, 2: 4, 3: 9, 4: 16, 5: 25, 6: 36, 7: 49, 8: 64, 9: 81} <class 'dict'>\n"
     ]
    }
   ],
   "source": [
    "dict={x:x*x for x in range(1,10)}\n",
    "print(dict,type(dict))"
   ]
  },
  {
   "cell_type": "code",
   "execution_count": 3,
   "id": "0b7a74ec",
   "metadata": {},
   "outputs": [
    {
     "name": "stdout",
     "output_type": "stream",
     "text": [
      "25\n",
      "dict_keys([1, 2, 3, 4, 5, 6, 7, 8, 9])\n"
     ]
    }
   ],
   "source": [
    "print(dict[5])\n",
    "print(dict.keys())"
   ]
  },
  {
   "cell_type": "code",
   "execution_count": 5,
   "id": "1423f80b",
   "metadata": {},
   "outputs": [
    {
     "name": "stdout",
     "output_type": "stream",
     "text": [
      "{1: 1, 2: 4, 3: 9, 4: 16, 5: 25, 6: 36, 7: 49, 8: 64, 9: 81, 11: 121}\n",
      "{2: 4, 3: 9, 4: 16, 5: 25, 6: 36, 7: 49, 8: 64, 9: 81, 11: 121}\n"
     ]
    }
   ],
   "source": [
    "dict[11]=121\n",
    "print(dict)\n",
    "del dict[1]\n",
    "print(dict)\n"
   ]
  },
  {
   "cell_type": "code",
   "execution_count": 8,
   "id": "f8b65d6b",
   "metadata": {},
   "outputs": [
    {
     "name": "stdout",
     "output_type": "stream",
     "text": [
      "2 : 4\n",
      "3 : 9\n",
      "4 : 16\n",
      "5 : 25\n",
      "6 : 36\n",
      "7 : 49\n",
      "8 : 64\n",
      "9 : 81\n",
      "11 : 121\n"
     ]
    }
   ],
   "source": [
    "for key,value in dict.items():\n",
    "    print(f\"{key} : {value}\")"
   ]
  },
  {
   "cell_type": "code",
   "execution_count": 9,
   "id": "ca7735d0",
   "metadata": {},
   "outputs": [
    {
     "name": "stdout",
     "output_type": "stream",
     "text": [
      "{1: 1, 2: 8, 3: 27, 4: 64, 5: 125, 6: 216, 7: 343, 8: 512, 9: 729, 10: 1000}\n"
     ]
    }
   ],
   "source": [
    "dict={x:x**3 for x in range(1,11)}\n",
    "print(dict)"
   ]
  },
  {
   "cell_type": "code",
   "execution_count": 15,
   "id": "03052c07",
   "metadata": {},
   "outputs": [
    {
     "name": "stdout",
     "output_type": "stream",
     "text": [
      "{1: 1, 2: 4, 3: 9, 4: 16, 5: 25}\n",
      "{6: 36, 7: 49, 8: 64, 9: 81, 10: 100}\n",
      "{1: 1, 2: 4, 3: 9, 4: 16, 5: 25, 6: 36, 7: 49, 8: 64, 9: 81, 10: 100}\n"
     ]
    }
   ],
   "source": [
    "d1={x:x**2 for x in range(1,6)}\n",
    "d2={x:x**2 for x in range(6,11)}\n",
    "print(d1)\n",
    "print(d2)\n",
    "d3=d1.copy()\n",
    "for key,value in d2.items():\n",
    "    d3[key]=value\n",
    "print(d3)"
   ]
  },
  {
   "cell_type": "code",
   "execution_count": 22,
   "id": "2cc9d006",
   "metadata": {},
   "outputs": [
    {
     "name": "stdout",
     "output_type": "stream",
     "text": [
      "name : guy1\n",
      "age : 16\n",
      "maths : 88\n",
      "science : 90\n",
      "english : 87\n",
      "========================================\n",
      "name : guy2\n",
      "age : 15\n",
      "maths : 80\n",
      "science : 98\n",
      "english : 77\n",
      "========================================\n",
      "name : guy3\n",
      "age : 15\n",
      "maths : 50\n",
      "science : 68\n",
      "english : 97\n",
      "========================================\n"
     ]
    }
   ],
   "source": [
    "students=[\n",
    "    {'name':'guy1','age':16, 'grades':{'maths':88,'science':90,'english':87}},\n",
    "    {'name':'guy2','age':15, 'grades':{'maths':80,'science':98,'english':77}},\n",
    "    {'name':'guy3','age':15, 'grades':{'maths':50,'science':68,'english':97}},\n",
    "]\n",
    "for student in students:\n",
    "    for key,val in student.items():\n",
    "        if key=='grades':\n",
    "            for sub,marks in val.items():\n",
    "                print(f\"{sub} : {marks}\")\n",
    "        else:\n",
    "            print(f\"{key} : {val}\")\n",
    "    print(\"========================================\")\n"
   ]
  },
  {
   "cell_type": "code",
   "execution_count": 25,
   "id": "3164b650",
   "metadata": {},
   "outputs": [
    {
     "name": "stdout",
     "output_type": "stream",
     "text": [
      "1 : [1, 2, 3, 4, 5]\n",
      "2 : [2, 4, 6, 8, 10]\n",
      "3 : [3, 6, 9, 12, 15]\n",
      "4 : [4, 8, 12, 16, 20]\n",
      "5 : [5, 10, 15, 20, 25]\n"
     ]
    }
   ],
   "source": [
    "dict={x:[x*y for y in range(1,6)] for x in range(1,6)}\n",
    "for key, val in dict.items():\n",
    "    print(f\"{key} : {val}\")"
   ]
  },
  {
   "cell_type": "code",
   "execution_count": 26,
   "id": "6e75a8c8",
   "metadata": {},
   "outputs": [
    {
     "name": "stdout",
     "output_type": "stream",
     "text": [
      "1 : (1, 1)\n",
      "2 : (2, 4)\n",
      "3 : (3, 9)\n",
      "4 : (4, 16)\n",
      "5 : (5, 25)\n"
     ]
    }
   ],
   "source": [
    "dict={x:(x,x*x) for x in range(1,6)}\n",
    "for key, val in dict.items():\n",
    "    print(f\"{key} : {val}\")"
   ]
  },
  {
   "cell_type": "code",
   "execution_count": 31,
   "id": "f4c07450",
   "metadata": {},
   "outputs": [
    {
     "name": "stdout",
     "output_type": "stream",
     "text": [
      "{1: 1, 2: 4, 3: 9, 4: 16, 5: 25}\n",
      "((1, 1), (2, 4), (3, 9), (4, 16), (5, 25)) <class 'tuple'>\n"
     ]
    }
   ],
   "source": [
    "dict={x:x*x for x in range(1,6)}\n",
    "print(dict)\n",
    "tup=tuple(dict.items())\n",
    "print(tup,type(tup))"
   ]
  },
  {
   "cell_type": "code",
   "execution_count": 32,
   "id": "f9c830fc",
   "metadata": {},
   "outputs": [
    {
     "name": "stdout",
     "output_type": "stream",
     "text": [
      "{2: 4, 4: 16, 6: 36, 8: 64, 10: 100}\n"
     ]
    }
   ],
   "source": [
    "dict={x:x*x for x in range(1,11)}\n",
    "d2={}\n",
    "for key,val in dict.items():\n",
    "    if key%2==0:\n",
    "        d2[key]=val\n",
    "print(d2)"
   ]
  },
  {
   "cell_type": "code",
   "execution_count": 33,
   "id": "707daadc",
   "metadata": {},
   "outputs": [
    {
     "name": "stdout",
     "output_type": "stream",
     "text": [
      "{1: 1, 2: 4, 3: 9, 4: 16, 5: 25}\n",
      "{1: 1, 4: 2, 9: 3, 16: 4, 25: 5}\n"
     ]
    }
   ],
   "source": [
    "dict={x:x*x for x in range(1,6)}\n",
    "print (dict)\n",
    "d2={}\n",
    "for key,val in dict.items():\n",
    "    d2[val]=key\n",
    "print(d2)"
   ]
  },
  {
   "cell_type": "code",
   "execution_count": 49,
   "id": "67a05e95",
   "metadata": {},
   "outputs": [
    {
     "name": "stdout",
     "output_type": "stream",
     "text": [
      "defaultdict(<class 'list'>, {'a': [1, 2], 'b': [3]})\n"
     ]
    }
   ],
   "source": [
    "from collections import defaultdict\n",
    "\n",
    "default_dict = defaultdict(list)\n",
    "default_dict['a'].append(1)\n",
    "default_dict['a'].append(2)\n",
    "default_dict['b'].append(3)\n",
    "print(default_dict)"
   ]
  },
  {
   "cell_type": "code",
   "execution_count": 48,
   "id": "25e6c489",
   "metadata": {},
   "outputs": [
    {
     "name": "stdout",
     "output_type": "stream",
     "text": [
      "{'a': 2, 'd': 3}\n"
     ]
    }
   ],
   "source": [
    "st=\"aaddd\"\n",
    "def char_count(st):\n",
    "    result={}\n",
    "    for char in st:\n",
    "        result[char]=result.get(char,0)+1\n",
    "    return result\n",
    "print(char_count(st))"
   ]
  },
  {
   "cell_type": "code",
   "execution_count": 50,
   "id": "081c71bc",
   "metadata": {},
   "outputs": [
    {
     "name": "stdout",
     "output_type": "stream",
     "text": [
      "{\"title\": \"To Kill a Mockingbird\", \"author\": \"Harper Lee\", \"year\": 1960, \"genre\": \"Fiction\"}\n"
     ]
    }
   ],
   "source": [
    "import json\n",
    "\n",
    "book = {\n",
    "    'title': 'To Kill a Mockingbird',\n",
    "    'author': 'Harper Lee',\n",
    "    'year': 1960,\n",
    "    'genre': 'Fiction'\n",
    "}\n",
    "book_json = json.dumps(book)\n",
    "print(book_json)"
   ]
  }
 ],
 "metadata": {
  "kernelspec": {
   "display_name": "Python 3",
   "language": "python",
   "name": "python3"
  },
  "language_info": {
   "codemirror_mode": {
    "name": "ipython",
    "version": 3
   },
   "file_extension": ".py",
   "mimetype": "text/x-python",
   "name": "python",
   "nbconvert_exporter": "python",
   "pygments_lexer": "ipython3",
   "version": "3.10.18"
  }
 },
 "nbformat": 4,
 "nbformat_minor": 5
}
