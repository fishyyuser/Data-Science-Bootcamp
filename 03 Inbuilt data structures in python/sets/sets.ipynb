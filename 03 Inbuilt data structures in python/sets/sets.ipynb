{
 "cells": [
  {
   "cell_type": "code",
   "execution_count": 8,
   "id": "070d0eef",
   "metadata": {},
   "outputs": [
    {
     "name": "stdout",
     "output_type": "stream",
     "text": [
      "{1, 2, 3, 4, 5, 6, 7, 8, 9, 10} <class 'set'>\n"
     ]
    }
   ],
   "source": [
    "myset=set(range(1,11))\n",
    "myset={x for x in range(1,11)}\n",
    "myset={1,2,3,4,5,6,7,8,9,10}\n",
    "print(myset,type(myset))"
   ]
  },
  {
   "cell_type": "code",
   "execution_count": 9,
   "id": "1092952e",
   "metadata": {},
   "outputs": [
    {
     "name": "stdout",
     "output_type": "stream",
     "text": [
      "{1, 2, 3, 4, 5, 6, 7, 8, 9, 10, 11}\n",
      "{2, 3, 4, 5, 6, 7, 8, 9, 10, 11}\n"
     ]
    }
   ],
   "source": [
    "myset.add(11)\n",
    "print(myset)\n",
    "myset.remove(1)\n",
    "print(myset)"
   ]
  },
  {
   "cell_type": "code",
   "execution_count": 15,
   "id": "5ae9ff09",
   "metadata": {},
   "outputs": [
    {
     "name": "stdout",
     "output_type": "stream",
     "text": [
      "{1, 2, 3, 4, 5} {2, 4, 6, 8, 10}\n",
      "{1, 2, 3, 4, 5, 6, 8, 10}\n",
      "{2, 4}\n",
      "{1, 3, 5}\n",
      "{8, 10, 6}\n",
      "{1, 3, 5, 6, 8, 10}\n"
     ]
    }
   ],
   "source": [
    "s1={x for x in range(1,6)}\n",
    "s2={x for x in range(2,11,2)}\n",
    "print(s1,s2)\n",
    "print(s1.union(s2))\n",
    "print(s1.intersection(s2))\n",
    "print(s1.difference(s2))\n",
    "print(s2.difference(s1))\n",
    "print(s1.symmetric_difference(s2))"
   ]
  },
  {
   "cell_type": "code",
   "execution_count": 17,
   "id": "eeefe93d",
   "metadata": {},
   "outputs": [
    {
     "name": "stdout",
     "output_type": "stream",
     "text": [
      "{2, 3, 4, 5, 6, 7, 8, 9, 10, 11}\n",
      "{2, 4, 6, 8, 10}\n"
     ]
    }
   ],
   "source": [
    "new_set=set(x for x in myset if x%2==0)\n",
    "print(myset)\n",
    "print(new_set)"
   ]
  },
  {
   "cell_type": "code",
   "execution_count": 20,
   "id": "4cf89182",
   "metadata": {},
   "outputs": [
    {
     "name": "stdout",
     "output_type": "stream",
     "text": [
      "{1, 2, 3, 4, 5}\n"
     ]
    }
   ],
   "source": [
    "s3={1,2,2,3,3,3,4,4,5}\n",
    "print(s3)"
   ]
  },
  {
   "cell_type": "code",
   "execution_count": 21,
   "id": "aed27901",
   "metadata": {},
   "outputs": [
    {
     "name": "stdout",
     "output_type": "stream",
     "text": [
      "True\n",
      "True\n"
     ]
    }
   ],
   "source": [
    "s4={1,2,3}\n",
    "print(s4.issubset(s3))\n",
    "print(s3.issuperset(s4))"
   ]
  },
  {
   "cell_type": "code",
   "execution_count": 24,
   "id": "15f429e5",
   "metadata": {},
   "outputs": [
    {
     "name": "stdout",
     "output_type": "stream",
     "text": [
      "frozenset({1, 2, 3, 4, 5}) <class 'frozenset'>\n"
     ]
    }
   ],
   "source": [
    "fs=frozenset(range(1,6))\n",
    "print(fs,type(fs))\n"
   ]
  },
  {
   "cell_type": "code",
   "execution_count": 25,
   "id": "d1b90935",
   "metadata": {},
   "outputs": [
    {
     "name": "stdout",
     "output_type": "stream",
     "text": [
      "{1, 2, 3, 4, 5, 6}\n"
     ]
    }
   ],
   "source": [
    "s3={1,2,3,4,5}\n",
    "lst=list(s3)\n",
    "lst.append(6)\n",
    "s3=set(lst)\n",
    "print(s3)\n"
   ]
  },
  {
   "cell_type": "code",
   "execution_count": 30,
   "id": "346d4999",
   "metadata": {},
   "outputs": [
    {
     "name": "stdout",
     "output_type": "stream",
     "text": [
      "{1: 50, 2: 50, 3: 50, 4: 50, 5: 50}\n"
     ]
    }
   ],
   "source": [
    "keys={1,2,3,4,5}\n",
    "values=[10,20,30,40,50]\n",
    "dict={x:y for x in keys for y in values}\n",
    "print (dict)"
   ]
  },
  {
   "cell_type": "code",
   "execution_count": null,
   "id": "72a16c8d",
   "metadata": {},
   "outputs": [
    {
     "name": "stdout",
     "output_type": "stream",
     "text": [
      "<class 'set'>\n",
      "element at index  0  is  1\n",
      "element at index  1  is  2\n",
      "element at index  2  is  3\n",
      "element at index  3  is  4\n",
      "element at index  4  is  5\n",
      "element at index  5  is  6\n",
      "element at index  6  is  7\n",
      "element at index  7  is  8\n",
      "element at index  8  is  9\n"
     ]
    }
   ],
   "source": [
    "my_new_set={1,2,3,4,5,6,7,8,9}\n",
    "for  index,val in enumerate(my_new_set):\n",
    "    print(\"element at index \",index,\" is \",val)"
   ]
  },
  {
   "cell_type": "code",
   "execution_count": 34,
   "id": "9335d5ec",
   "metadata": {},
   "outputs": [
    {
     "name": "stdout",
     "output_type": "stream",
     "text": [
      "{2, 3, 4, 5, 6, 7, 8, 9}\n",
      "{3, 4, 5, 6, 7, 8, 9}\n",
      "{4, 5, 6, 7, 8, 9}\n",
      "{5, 6, 7, 8, 9}\n",
      "{6, 7, 8, 9}\n",
      "{7, 8, 9}\n",
      "{8, 9}\n",
      "{9}\n",
      "set()\n"
     ]
    }
   ],
   "source": [
    "while len(my_new_set)>0:\n",
    "    my_new_set.pop()\n",
    "    print(my_new_set)"
   ]
  },
  {
   "cell_type": "code",
   "execution_count": 37,
   "id": "2a2e0fb7",
   "metadata": {},
   "outputs": [
    {
     "name": "stdout",
     "output_type": "stream",
     "text": [
      "{1, 2, 6}\n"
     ]
    }
   ],
   "source": [
    "s1={1,2,3,4,5}\n",
    "s2={3,4,5,6}\n",
    "s1.symmetric_difference_update(s2)\n",
    "print(s1)"
   ]
  },
  {
   "cell_type": "code",
   "execution_count": 42,
   "id": "431f2407",
   "metadata": {},
   "outputs": [
    {
     "name": "stdout",
     "output_type": "stream",
     "text": [
      "{1, 2, 3, 4, 5, 6, 7, 8, 9}\n",
      "False\n",
      "True\n",
      "True\n",
      "False\n"
     ]
    }
   ],
   "source": [
    "s1={x for x in range(1,10)}\n",
    "print(s1)\n",
    "print(0 in s1)\n",
    "print(3 in s1)\n",
    "print(9 in s1)\n",
    "print(10 in s1)"
   ]
  },
  {
   "cell_type": "code",
   "execution_count": 51,
   "id": "13b9db6a",
   "metadata": {},
   "outputs": [
    {
     "name": "stdout",
     "output_type": "stream",
     "text": [
      "{(77, 67), (81, 23)} <class 'set'>\n"
     ]
    }
   ],
   "source": [
    "import random\n",
    "length= random.randint(2,6)\n",
    "myset={ tuple(random.randint(1,100) for _ in range(2)) for _ in range(length)}\n",
    "print(myset,type(myset))"
   ]
  }
 ],
 "metadata": {
  "kernelspec": {
   "display_name": "Python 3",
   "language": "python",
   "name": "python3"
  },
  "language_info": {
   "codemirror_mode": {
    "name": "ipython",
    "version": 3
   },
   "file_extension": ".py",
   "mimetype": "text/x-python",
   "name": "python",
   "nbconvert_exporter": "python",
   "pygments_lexer": "ipython3",
   "version": "3.10.18"
  }
 },
 "nbformat": 4,
 "nbformat_minor": 5
}
